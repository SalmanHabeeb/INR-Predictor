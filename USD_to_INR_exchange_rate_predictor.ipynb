{
  "nbformat": 4,
  "nbformat_minor": 0,
  "metadata": {
    "colab": {
      "name": "USD_to_INR_exchange_rate_predictor_git.ipynb",
      "provenance": [],
      "collapsed_sections": [],
      "authorship_tag": "ABX9TyNqCPM6y6D63suU+hDbrmpK"
    },
    "kernelspec": {
      "name": "python3",
      "display_name": "Python 3"
    },
    "language_info": {
      "name": "python"
    }
  },
  "cells": [
    {
      "cell_type": "code",
      "source": [
        "# # # Copyright (C) 2022  Syed Salman Habeeb Quadri\n",
        "# # # https://github.com/SalmanHabeeb/INR-Predictor/blob/main/License%20Notice.md"
      ],
      "metadata": {
        "id": "KLZQ4wwACOiH"
      },
      "execution_count": 1,
      "outputs": []
    },
    {
      "cell_type": "code",
      "execution_count": 2,
      "metadata": {
        "id": "jwZxaysiHoY8"
      },
      "outputs": [],
      "source": [
        "# !pip install q tensorflow==2.8.2\n",
        "# !pip install q keras==2.8.0\n",
        "# !pip install q numpy==1.21.6\n",
        "# !pip install q matplotlib==3.2.2\n",
        "# !pip install q pandas==1.3.5\n",
        "# !pip install q scipy==1.4.1\n",
        "# !pip install q sklearn==1.0.2"
      ]
    },
    {
      "cell_type": "markdown",
      "metadata": {
        "id": "xK3tOBsQJmpg"
      },
      "source": [
        "## Import necessary packages"
      ]
    },
    {
      "cell_type": "code",
      "execution_count": 3,
      "metadata": {
        "id": "MwvjvUYo-KgV"
      },
      "outputs": [],
      "source": [
        "import tensorflow as tf\n",
        "from keras.models import Sequential\n",
        "from keras.layers import Flatten, LSTM, Dense\n",
        "from keras.layers.embeddings import Embedding\n",
        "import numpy as np\n",
        "import pandas as pd\n",
        "import matplotlib.pyplot as plt\n",
        "import random\n",
        "from sklearn.metrics import r2_score\n",
        "from scipy.stats import linregress"
      ]
    },
    {
      "cell_type": "markdown",
      "metadata": {
        "id": "XPfLsNN57KNY"
      },
      "source": [
        "## Obtaining data"
      ]
    },
    {
      "cell_type": "markdown",
      "metadata": {
        "id": "0cO_c4UBDb30"
      },
      "source": [
        "Read the csv file from the github repository"
      ]
    },
    {
      "cell_type": "code",
      "execution_count": 4,
      "metadata": {
        "id": "WSUBC2bp7jOp"
      },
      "outputs": [],
      "source": [
        "df = pd.read_csv('https://raw.githubusercontent.com/SalmanHabeeb/INR-Predictor/main/INR=X.csv')"
      ]
    },
    {
      "cell_type": "markdown",
      "source": [
        "## Checking the dataset"
      ],
      "metadata": {
        "id": "Zps83dAXvFQ7"
      }
    },
    {
      "cell_type": "markdown",
      "source": [
        "Checking information regarding dataset"
      ],
      "metadata": {
        "id": "qvxrNksZvZsY"
      }
    },
    {
      "cell_type": "code",
      "source": [
        "print(df.info())"
      ],
      "metadata": {
        "colab": {
          "base_uri": "https://localhost:8080/"
        },
        "id": "Xdi_9jfQvZ-U",
        "outputId": "22c37283-c1ba-493f-f403-6d61479afdd5"
      },
      "execution_count": 5,
      "outputs": [
        {
          "output_type": "stream",
          "name": "stdout",
          "text": [
            "<class 'pandas.core.frame.DataFrame'>\n",
            "RangeIndex: 4824 entries, 0 to 4823\n",
            "Data columns (total 7 columns):\n",
            " #   Column     Non-Null Count  Dtype  \n",
            "---  ------     --------------  -----  \n",
            " 0   Date       4824 non-null   object \n",
            " 1   Open       4792 non-null   float64\n",
            " 2   High       4792 non-null   float64\n",
            " 3   Low        4792 non-null   float64\n",
            " 4   Close      4792 non-null   float64\n",
            " 5   Adj Close  4792 non-null   float64\n",
            " 6   Volume     4792 non-null   float64\n",
            "dtypes: float64(6), object(1)\n",
            "memory usage: 263.9+ KB\n",
            "None\n"
          ]
        }
      ]
    },
    {
      "cell_type": "markdown",
      "source": [
        "Checking various statistics of dataset"
      ],
      "metadata": {
        "id": "HPQcXIUOvMhX"
      }
    },
    {
      "cell_type": "code",
      "source": [
        "df.describe()"
      ],
      "metadata": {
        "colab": {
          "base_uri": "https://localhost:8080/",
          "height": 300
        },
        "id": "5ENHQl9zvE4Y",
        "outputId": "e30a790d-4e3b-4f59-c7b7-73ef8a691133"
      },
      "execution_count": 6,
      "outputs": [
        {
          "output_type": "execute_result",
          "data": {
            "text/plain": [
              "              Open         High          Low        Close    Adj Close  Volume\n",
              "count  4792.000000  4792.000000  4792.000000  4792.000000  4792.000000  4792.0\n",
              "mean     56.877448    57.080264    56.695116    56.878949    56.878949     0.0\n",
              "std      11.759593    11.791577    11.706153    11.773224    11.773224     0.0\n",
              "min      38.995998    39.235001    38.979000    39.044998    39.044998     0.0\n",
              "25%      45.356248    45.493749    45.268002    45.348749    45.348749     0.0\n",
              "50%      55.496500    55.723999    55.299999    55.498001    55.498001     0.0\n",
              "75%      67.136251    67.300753    66.919998    67.133003    67.133003     0.0\n",
              "max      77.820000    78.023804    77.498497    77.820000    77.820000     0.0"
            ],
            "text/html": [
              "\n",
              "  <div id=\"df-6e98f462-408f-494b-aab0-f027e8a942c0\">\n",
              "    <div class=\"colab-df-container\">\n",
              "      <div>\n",
              "<style scoped>\n",
              "    .dataframe tbody tr th:only-of-type {\n",
              "        vertical-align: middle;\n",
              "    }\n",
              "\n",
              "    .dataframe tbody tr th {\n",
              "        vertical-align: top;\n",
              "    }\n",
              "\n",
              "    .dataframe thead th {\n",
              "        text-align: right;\n",
              "    }\n",
              "</style>\n",
              "<table border=\"1\" class=\"dataframe\">\n",
              "  <thead>\n",
              "    <tr style=\"text-align: right;\">\n",
              "      <th></th>\n",
              "      <th>Open</th>\n",
              "      <th>High</th>\n",
              "      <th>Low</th>\n",
              "      <th>Close</th>\n",
              "      <th>Adj Close</th>\n",
              "      <th>Volume</th>\n",
              "    </tr>\n",
              "  </thead>\n",
              "  <tbody>\n",
              "    <tr>\n",
              "      <th>count</th>\n",
              "      <td>4792.000000</td>\n",
              "      <td>4792.000000</td>\n",
              "      <td>4792.000000</td>\n",
              "      <td>4792.000000</td>\n",
              "      <td>4792.000000</td>\n",
              "      <td>4792.0</td>\n",
              "    </tr>\n",
              "    <tr>\n",
              "      <th>mean</th>\n",
              "      <td>56.877448</td>\n",
              "      <td>57.080264</td>\n",
              "      <td>56.695116</td>\n",
              "      <td>56.878949</td>\n",
              "      <td>56.878949</td>\n",
              "      <td>0.0</td>\n",
              "    </tr>\n",
              "    <tr>\n",
              "      <th>std</th>\n",
              "      <td>11.759593</td>\n",
              "      <td>11.791577</td>\n",
              "      <td>11.706153</td>\n",
              "      <td>11.773224</td>\n",
              "      <td>11.773224</td>\n",
              "      <td>0.0</td>\n",
              "    </tr>\n",
              "    <tr>\n",
              "      <th>min</th>\n",
              "      <td>38.995998</td>\n",
              "      <td>39.235001</td>\n",
              "      <td>38.979000</td>\n",
              "      <td>39.044998</td>\n",
              "      <td>39.044998</td>\n",
              "      <td>0.0</td>\n",
              "    </tr>\n",
              "    <tr>\n",
              "      <th>25%</th>\n",
              "      <td>45.356248</td>\n",
              "      <td>45.493749</td>\n",
              "      <td>45.268002</td>\n",
              "      <td>45.348749</td>\n",
              "      <td>45.348749</td>\n",
              "      <td>0.0</td>\n",
              "    </tr>\n",
              "    <tr>\n",
              "      <th>50%</th>\n",
              "      <td>55.496500</td>\n",
              "      <td>55.723999</td>\n",
              "      <td>55.299999</td>\n",
              "      <td>55.498001</td>\n",
              "      <td>55.498001</td>\n",
              "      <td>0.0</td>\n",
              "    </tr>\n",
              "    <tr>\n",
              "      <th>75%</th>\n",
              "      <td>67.136251</td>\n",
              "      <td>67.300753</td>\n",
              "      <td>66.919998</td>\n",
              "      <td>67.133003</td>\n",
              "      <td>67.133003</td>\n",
              "      <td>0.0</td>\n",
              "    </tr>\n",
              "    <tr>\n",
              "      <th>max</th>\n",
              "      <td>77.820000</td>\n",
              "      <td>78.023804</td>\n",
              "      <td>77.498497</td>\n",
              "      <td>77.820000</td>\n",
              "      <td>77.820000</td>\n",
              "      <td>0.0</td>\n",
              "    </tr>\n",
              "  </tbody>\n",
              "</table>\n",
              "</div>\n",
              "      <button class=\"colab-df-convert\" onclick=\"convertToInteractive('df-6e98f462-408f-494b-aab0-f027e8a942c0')\"\n",
              "              title=\"Convert this dataframe to an interactive table.\"\n",
              "              style=\"display:none;\">\n",
              "        \n",
              "  <svg xmlns=\"http://www.w3.org/2000/svg\" height=\"24px\"viewBox=\"0 0 24 24\"\n",
              "       width=\"24px\">\n",
              "    <path d=\"M0 0h24v24H0V0z\" fill=\"none\"/>\n",
              "    <path d=\"M18.56 5.44l.94 2.06.94-2.06 2.06-.94-2.06-.94-.94-2.06-.94 2.06-2.06.94zm-11 1L8.5 8.5l.94-2.06 2.06-.94-2.06-.94L8.5 2.5l-.94 2.06-2.06.94zm10 10l.94 2.06.94-2.06 2.06-.94-2.06-.94-.94-2.06-.94 2.06-2.06.94z\"/><path d=\"M17.41 7.96l-1.37-1.37c-.4-.4-.92-.59-1.43-.59-.52 0-1.04.2-1.43.59L10.3 9.45l-7.72 7.72c-.78.78-.78 2.05 0 2.83L4 21.41c.39.39.9.59 1.41.59.51 0 1.02-.2 1.41-.59l7.78-7.78 2.81-2.81c.8-.78.8-2.07 0-2.86zM5.41 20L4 18.59l7.72-7.72 1.47 1.35L5.41 20z\"/>\n",
              "  </svg>\n",
              "      </button>\n",
              "      \n",
              "  <style>\n",
              "    .colab-df-container {\n",
              "      display:flex;\n",
              "      flex-wrap:wrap;\n",
              "      gap: 12px;\n",
              "    }\n",
              "\n",
              "    .colab-df-convert {\n",
              "      background-color: #E8F0FE;\n",
              "      border: none;\n",
              "      border-radius: 50%;\n",
              "      cursor: pointer;\n",
              "      display: none;\n",
              "      fill: #1967D2;\n",
              "      height: 32px;\n",
              "      padding: 0 0 0 0;\n",
              "      width: 32px;\n",
              "    }\n",
              "\n",
              "    .colab-df-convert:hover {\n",
              "      background-color: #E2EBFA;\n",
              "      box-shadow: 0px 1px 2px rgba(60, 64, 67, 0.3), 0px 1px 3px 1px rgba(60, 64, 67, 0.15);\n",
              "      fill: #174EA6;\n",
              "    }\n",
              "\n",
              "    [theme=dark] .colab-df-convert {\n",
              "      background-color: #3B4455;\n",
              "      fill: #D2E3FC;\n",
              "    }\n",
              "\n",
              "    [theme=dark] .colab-df-convert:hover {\n",
              "      background-color: #434B5C;\n",
              "      box-shadow: 0px 1px 3px 1px rgba(0, 0, 0, 0.15);\n",
              "      filter: drop-shadow(0px 1px 2px rgba(0, 0, 0, 0.3));\n",
              "      fill: #FFFFFF;\n",
              "    }\n",
              "  </style>\n",
              "\n",
              "      <script>\n",
              "        const buttonEl =\n",
              "          document.querySelector('#df-6e98f462-408f-494b-aab0-f027e8a942c0 button.colab-df-convert');\n",
              "        buttonEl.style.display =\n",
              "          google.colab.kernel.accessAllowed ? 'block' : 'none';\n",
              "\n",
              "        async function convertToInteractive(key) {\n",
              "          const element = document.querySelector('#df-6e98f462-408f-494b-aab0-f027e8a942c0');\n",
              "          const dataTable =\n",
              "            await google.colab.kernel.invokeFunction('convertToInteractive',\n",
              "                                                     [key], {});\n",
              "          if (!dataTable) return;\n",
              "\n",
              "          const docLinkHtml = 'Like what you see? Visit the ' +\n",
              "            '<a target=\"_blank\" href=https://colab.research.google.com/notebooks/data_table.ipynb>data table notebook</a>'\n",
              "            + ' to learn more about interactive tables.';\n",
              "          element.innerHTML = '';\n",
              "          dataTable['output_type'] = 'display_data';\n",
              "          await google.colab.output.renderOutput(dataTable, element);\n",
              "          const docLink = document.createElement('div');\n",
              "          docLink.innerHTML = docLinkHtml;\n",
              "          element.appendChild(docLink);\n",
              "        }\n",
              "      </script>\n",
              "    </div>\n",
              "  </div>\n",
              "  "
            ]
          },
          "metadata": {},
          "execution_count": 6
        }
      ]
    },
    {
      "cell_type": "markdown",
      "metadata": {
        "id": "b-hSk-SBDhwx"
      },
      "source": [
        "Sampling a roughly 0.1% of dataset"
      ]
    },
    {
      "cell_type": "code",
      "execution_count": 7,
      "metadata": {
        "colab": {
          "base_uri": "https://localhost:8080/",
          "height": 206
        },
        "id": "DDjIo0jGNEzU",
        "outputId": "35d79654-7254-48c2-9b5c-7345f5468cc2"
      },
      "outputs": [
        {
          "output_type": "execute_result",
          "data": {
            "text/plain": [
              "            Date       Open       High        Low      Close  Adj Close  \\\n",
              "997   2007-09-26  39.655998  39.705002  39.445000  39.632999  39.632999   \n",
              "2329  2012-11-02  53.688000  53.840000  53.599998  53.653000  53.653000   \n",
              "1711  2010-06-22  45.750000  46.287998  45.750000  46.020000  46.020000   \n",
              "1779  2010-09-24  45.450001  45.595001  45.090000  45.450001  45.450001   \n",
              "4355  2020-08-10  75.026901  75.246002  74.856003  75.024803  75.024803   \n",
              "\n",
              "      Volume  \n",
              "997      0.0  \n",
              "2329     0.0  \n",
              "1711     0.0  \n",
              "1779     0.0  \n",
              "4355     0.0  "
            ],
            "text/html": [
              "\n",
              "  <div id=\"df-c6c65439-47ee-4d03-801d-47fae5427359\">\n",
              "    <div class=\"colab-df-container\">\n",
              "      <div>\n",
              "<style scoped>\n",
              "    .dataframe tbody tr th:only-of-type {\n",
              "        vertical-align: middle;\n",
              "    }\n",
              "\n",
              "    .dataframe tbody tr th {\n",
              "        vertical-align: top;\n",
              "    }\n",
              "\n",
              "    .dataframe thead th {\n",
              "        text-align: right;\n",
              "    }\n",
              "</style>\n",
              "<table border=\"1\" class=\"dataframe\">\n",
              "  <thead>\n",
              "    <tr style=\"text-align: right;\">\n",
              "      <th></th>\n",
              "      <th>Date</th>\n",
              "      <th>Open</th>\n",
              "      <th>High</th>\n",
              "      <th>Low</th>\n",
              "      <th>Close</th>\n",
              "      <th>Adj Close</th>\n",
              "      <th>Volume</th>\n",
              "    </tr>\n",
              "  </thead>\n",
              "  <tbody>\n",
              "    <tr>\n",
              "      <th>997</th>\n",
              "      <td>2007-09-26</td>\n",
              "      <td>39.655998</td>\n",
              "      <td>39.705002</td>\n",
              "      <td>39.445000</td>\n",
              "      <td>39.632999</td>\n",
              "      <td>39.632999</td>\n",
              "      <td>0.0</td>\n",
              "    </tr>\n",
              "    <tr>\n",
              "      <th>2329</th>\n",
              "      <td>2012-11-02</td>\n",
              "      <td>53.688000</td>\n",
              "      <td>53.840000</td>\n",
              "      <td>53.599998</td>\n",
              "      <td>53.653000</td>\n",
              "      <td>53.653000</td>\n",
              "      <td>0.0</td>\n",
              "    </tr>\n",
              "    <tr>\n",
              "      <th>1711</th>\n",
              "      <td>2010-06-22</td>\n",
              "      <td>45.750000</td>\n",
              "      <td>46.287998</td>\n",
              "      <td>45.750000</td>\n",
              "      <td>46.020000</td>\n",
              "      <td>46.020000</td>\n",
              "      <td>0.0</td>\n",
              "    </tr>\n",
              "    <tr>\n",
              "      <th>1779</th>\n",
              "      <td>2010-09-24</td>\n",
              "      <td>45.450001</td>\n",
              "      <td>45.595001</td>\n",
              "      <td>45.090000</td>\n",
              "      <td>45.450001</td>\n",
              "      <td>45.450001</td>\n",
              "      <td>0.0</td>\n",
              "    </tr>\n",
              "    <tr>\n",
              "      <th>4355</th>\n",
              "      <td>2020-08-10</td>\n",
              "      <td>75.026901</td>\n",
              "      <td>75.246002</td>\n",
              "      <td>74.856003</td>\n",
              "      <td>75.024803</td>\n",
              "      <td>75.024803</td>\n",
              "      <td>0.0</td>\n",
              "    </tr>\n",
              "  </tbody>\n",
              "</table>\n",
              "</div>\n",
              "      <button class=\"colab-df-convert\" onclick=\"convertToInteractive('df-c6c65439-47ee-4d03-801d-47fae5427359')\"\n",
              "              title=\"Convert this dataframe to an interactive table.\"\n",
              "              style=\"display:none;\">\n",
              "        \n",
              "  <svg xmlns=\"http://www.w3.org/2000/svg\" height=\"24px\"viewBox=\"0 0 24 24\"\n",
              "       width=\"24px\">\n",
              "    <path d=\"M0 0h24v24H0V0z\" fill=\"none\"/>\n",
              "    <path d=\"M18.56 5.44l.94 2.06.94-2.06 2.06-.94-2.06-.94-.94-2.06-.94 2.06-2.06.94zm-11 1L8.5 8.5l.94-2.06 2.06-.94-2.06-.94L8.5 2.5l-.94 2.06-2.06.94zm10 10l.94 2.06.94-2.06 2.06-.94-2.06-.94-.94-2.06-.94 2.06-2.06.94z\"/><path d=\"M17.41 7.96l-1.37-1.37c-.4-.4-.92-.59-1.43-.59-.52 0-1.04.2-1.43.59L10.3 9.45l-7.72 7.72c-.78.78-.78 2.05 0 2.83L4 21.41c.39.39.9.59 1.41.59.51 0 1.02-.2 1.41-.59l7.78-7.78 2.81-2.81c.8-.78.8-2.07 0-2.86zM5.41 20L4 18.59l7.72-7.72 1.47 1.35L5.41 20z\"/>\n",
              "  </svg>\n",
              "      </button>\n",
              "      \n",
              "  <style>\n",
              "    .colab-df-container {\n",
              "      display:flex;\n",
              "      flex-wrap:wrap;\n",
              "      gap: 12px;\n",
              "    }\n",
              "\n",
              "    .colab-df-convert {\n",
              "      background-color: #E8F0FE;\n",
              "      border: none;\n",
              "      border-radius: 50%;\n",
              "      cursor: pointer;\n",
              "      display: none;\n",
              "      fill: #1967D2;\n",
              "      height: 32px;\n",
              "      padding: 0 0 0 0;\n",
              "      width: 32px;\n",
              "    }\n",
              "\n",
              "    .colab-df-convert:hover {\n",
              "      background-color: #E2EBFA;\n",
              "      box-shadow: 0px 1px 2px rgba(60, 64, 67, 0.3), 0px 1px 3px 1px rgba(60, 64, 67, 0.15);\n",
              "      fill: #174EA6;\n",
              "    }\n",
              "\n",
              "    [theme=dark] .colab-df-convert {\n",
              "      background-color: #3B4455;\n",
              "      fill: #D2E3FC;\n",
              "    }\n",
              "\n",
              "    [theme=dark] .colab-df-convert:hover {\n",
              "      background-color: #434B5C;\n",
              "      box-shadow: 0px 1px 3px 1px rgba(0, 0, 0, 0.15);\n",
              "      filter: drop-shadow(0px 1px 2px rgba(0, 0, 0, 0.3));\n",
              "      fill: #FFFFFF;\n",
              "    }\n",
              "  </style>\n",
              "\n",
              "      <script>\n",
              "        const buttonEl =\n",
              "          document.querySelector('#df-c6c65439-47ee-4d03-801d-47fae5427359 button.colab-df-convert');\n",
              "        buttonEl.style.display =\n",
              "          google.colab.kernel.accessAllowed ? 'block' : 'none';\n",
              "\n",
              "        async function convertToInteractive(key) {\n",
              "          const element = document.querySelector('#df-c6c65439-47ee-4d03-801d-47fae5427359');\n",
              "          const dataTable =\n",
              "            await google.colab.kernel.invokeFunction('convertToInteractive',\n",
              "                                                     [key], {});\n",
              "          if (!dataTable) return;\n",
              "\n",
              "          const docLinkHtml = 'Like what you see? Visit the ' +\n",
              "            '<a target=\"_blank\" href=https://colab.research.google.com/notebooks/data_table.ipynb>data table notebook</a>'\n",
              "            + ' to learn more about interactive tables.';\n",
              "          element.innerHTML = '';\n",
              "          dataTable['output_type'] = 'display_data';\n",
              "          await google.colab.output.renderOutput(dataTable, element);\n",
              "          const docLink = document.createElement('div');\n",
              "          docLink.innerHTML = docLinkHtml;\n",
              "          element.appendChild(docLink);\n",
              "        }\n",
              "      </script>\n",
              "    </div>\n",
              "  </div>\n",
              "  "
            ]
          },
          "metadata": {},
          "execution_count": 7
        }
      ],
      "source": [
        "df.sample(frac = 0.001)"
      ]
    },
    {
      "cell_type": "markdown",
      "metadata": {
        "id": "jOtac9VnP7Z-"
      },
      "source": [
        "## Data Cleaning"
      ]
    },
    {
      "cell_type": "markdown",
      "metadata": {
        "id": "467MR2mTlnGl"
      },
      "source": [
        "Finding the no. of missing rows.\n",
        "\n",
        "For approximately 18 years of data, we expect the dataset to have 18*365 rows, one for each day"
      ]
    },
    {
      "cell_type": "code",
      "execution_count": 8,
      "metadata": {
        "id": "IfFDMQjQk0o1"
      },
      "outputs": [],
      "source": [
        "expected_no_of_rows  = 18*365"
      ]
    },
    {
      "cell_type": "code",
      "execution_count": 9,
      "metadata": {
        "id": "CYgznL0ClDZ1"
      },
      "outputs": [],
      "source": [
        "actual_no_of_rows = df.shape[0]"
      ]
    },
    {
      "cell_type": "code",
      "execution_count": 10,
      "metadata": {
        "id": "JbyqpWcTlPqM"
      },
      "outputs": [],
      "source": [
        "missing_rows = expected_no_of_rows - actual_no_of_rows"
      ]
    },
    {
      "cell_type": "code",
      "execution_count": 11,
      "metadata": {
        "colab": {
          "base_uri": "https://localhost:8080/"
        },
        "id": "aQBXoz1NlY7k",
        "outputId": "98d3f742-dc83-43bd-c76c-eb4eddbdb804"
      },
      "outputs": [
        {
          "output_type": "execute_result",
          "data": {
            "text/plain": [
              "1746"
            ]
          },
          "metadata": {},
          "execution_count": 11
        }
      ],
      "source": [
        "missing_rows"
      ]
    },
    {
      "cell_type": "markdown",
      "source": [
        "However, the no. of missing rows is about 1700. This amounts to about 5 years of data missing in between.\n",
        "\n",
        "By manual inspection of data, we see that the missing rows occur as a 'bunch', i.e., months of continuous data is not present in dataset.\n",
        "\n",
        "That means we have continuous data with large discontinuities in between. These discontinuities shall occur as anomalies against a background of largely continuous data.\n",
        "\n",
        "So, we can ignore these missing rows."
      ],
      "metadata": {
        "id": "wZbpFuo8wBPQ"
      }
    },
    {
      "cell_type": "markdown",
      "metadata": {
        "id": "DDgVibUEDlUQ"
      },
      "source": [
        "Apart from missing rows, the data we have may also contain null values.\n",
        "\n",
        "Let's check the the no. of null values"
      ]
    },
    {
      "cell_type": "code",
      "execution_count": 12,
      "metadata": {
        "colab": {
          "base_uri": "https://localhost:8080/"
        },
        "id": "7FIIjowsPxm1",
        "outputId": "a1d7891d-9961-465b-ba70-1db45e23e259"
      },
      "outputs": [
        {
          "output_type": "execute_result",
          "data": {
            "text/plain": [
              "Date          0\n",
              "Open         32\n",
              "High         32\n",
              "Low          32\n",
              "Close        32\n",
              "Adj Close    32\n",
              "Volume       32\n",
              "dtype: int64"
            ]
          },
          "metadata": {},
          "execution_count": 12
        }
      ],
      "source": [
        "df.isna().sum()"
      ]
    },
    {
      "cell_type": "markdown",
      "metadata": {
        "id": "yhLLUbYVDpfZ"
      },
      "source": [
        "Since there are only 32 rows containing null values, we drop these rows."
      ]
    },
    {
      "cell_type": "code",
      "execution_count": 13,
      "metadata": {
        "id": "xR_l7cFtW82k"
      },
      "outputs": [],
      "source": [
        "df.dropna(inplace = True)"
      ]
    },
    {
      "cell_type": "markdown",
      "metadata": {
        "id": "oDdPRpiTaZZ0"
      },
      "source": [
        "## Making a baseline Linear Model"
      ]
    },
    {
      "cell_type": "code",
      "execution_count": 14,
      "metadata": {
        "colab": {
          "base_uri": "https://localhost:8080/",
          "height": 295
        },
        "id": "-Tvic072NGh9",
        "outputId": "a8f90e06-f7b1-4e19-d3c8-c4e6f2baa981"
      },
      "outputs": [
        {
          "output_type": "display_data",
          "data": {
            "text/plain": [
              "<Figure size 432x288 with 1 Axes>"
            ],
            "image/png": "[encoded data removed]"
          },
          "metadata": {
            "needs_background": "light"
          }
        }
      ],
      "source": [
        "plt.xlabel('Time (in days)')                                                                            #Set label for x-axis\n",
        "plt.ylabel('USD($) in INR')                                                                             #Set label for y-axis\n",
        "plt.plot([i for i in range(len(df['Close']))], df['Close'], color = 'g')                                #Plot  the exchange rate vs time graph\n",
        "plt.title(f'USD to INR exchange rate({df[\"Date\"][0]} to {df[\"Date\"][len(df)]})', fontweight = 'bold')   #Set title for the plot\n",
        "plt.show()                                                                                              #Show the plot"
      ]
    },
    {
      "cell_type": "markdown",
      "metadata": {
        "id": "Y90vSY6ID5wR"
      },
      "source": [
        "We expect each column among Open, Close, etc. to bear similar relationship with time. At present, we choose closing prices as our time series.\n",
        "\n",
        "Making linear model for the exchange rate."
      ]
    },
    {
      "cell_type": "code",
      "execution_count": 15,
      "metadata": {
        "id": "fejlDeQ5OM5M"
      },
      "outputs": [],
      "source": [
        "linear_model = linregress(df.index, df['Close'])"
      ]
    },
    {
      "cell_type": "markdown",
      "metadata": {
        "id": "DwYQB0vlEBoe"
      },
      "source": [
        "Below parameters define our linear model"
      ]
    },
    {
      "cell_type": "code",
      "execution_count": 16,
      "metadata": {
        "id": "GIm83MZtOo0F"
      },
      "outputs": [],
      "source": [
        "slope, intercept, rvalue, pvalue, stderr = linear_model"
      ]
    },
    {
      "cell_type": "markdown",
      "source": [
        "Predictions of a linear model"
      ],
      "metadata": {
        "id": "a8rTObXu00xj"
      }
    },
    {
      "cell_type": "code",
      "source": [
        "linear_preds = slope*df.index + intercept"
      ],
      "metadata": {
        "id": "fCR71lYX054K"
      },
      "execution_count": 17,
      "outputs": []
    },
    {
      "cell_type": "markdown",
      "metadata": {
        "id": "Z3uESUvSEUG3"
      },
      "source": [
        "Plotting the predicted values and actual values for comparision"
      ]
    },
    {
      "cell_type": "code",
      "execution_count": 18,
      "metadata": {
        "colab": {
          "base_uri": "https://localhost:8080/",
          "height": 279
        },
        "id": "S123n2eFOy47",
        "outputId": "0a5fd632-c6e0-4295-f2f3-f10b2caaf9a2"
      },
      "outputs": [
        {
          "output_type": "display_data",
          "data": {
            "text/plain": [
              "<Figure size 432x288 with 1 Axes>"
            ],
            "image/png": "[encoded data removed]"
          },
          "metadata": {
            "needs_background": "light"
          }
        }
      ],
      "source": [
        "plt.xlabel('Time (in days)')                                                                            #Set label for x-axis \n",
        "plt.ylabel('Cost of US Dollar in Rupee')                                                                #Set label for y-axis\n",
        "plt.plot(df.index, df['Close'], label = 'Actual', color = 'g')                                          #Plot the actual exchange rate vs time graph\n",
        "#slope*df.index + intercept gives the predicted value for the day indicated by df.index\n",
        "plt.plot(df.index,  slope*df.index + intercept, label = 'Predicted', color = 'b')                       #Plot the predicted exchange rate vs time graph\n",
        "plt.legend()                                                                                            #Display legend bar\n",
        "plt.show()                                                                                              #Show the plot"
      ]
    },
    {
      "cell_type": "markdown",
      "metadata": {
        "id": "qvqnB6xbENN_"
      },
      "source": [
        "np.absolute(linear_preds - df['Close']).mean() calculates the absolute difference between predicted and actual values. The mean of these differences gives the average error in our predictions"
      ]
    },
    {
      "cell_type": "code",
      "execution_count": 19,
      "metadata": {
        "colab": {
          "base_uri": "https://localhost:8080/"
        },
        "id": "N5giDx-Ye2NK",
        "outputId": "83cc8be3-d75c-4533-fde5-00939790fb0c"
      },
      "outputs": [
        {
          "output_type": "stream",
          "name": "stdout",
          "text": [
            "Baseline absolute error : 2.9726678216515996\n"
          ]
        }
      ],
      "source": [
        "print(f\"Baseline absolute error : {np.absolute(linear_preds - df['Close']).mean()}\")"
      ]
    },
    {
      "cell_type": "markdown",
      "source": [
        "r-value for the predictions made by linear model"
      ],
      "metadata": {
        "id": "7SnBLDnP0ed9"
      }
    },
    {
      "cell_type": "code",
      "source": [
        "print(rvalue)"
      ],
      "metadata": {
        "colab": {
          "base_uri": "https://localhost:8080/"
        },
        "id": "g5_kOVlV0dGz",
        "outputId": "3217f629-bad0-465a-a264-e4e9d193fa88"
      },
      "execution_count": 20,
      "outputs": [
        {
          "output_type": "stream",
          "name": "stdout",
          "text": [
            "0.9484527277196032\n"
          ]
        }
      ]
    },
    {
      "cell_type": "markdown",
      "metadata": {
        "id": "0sJvD8wXa22F"
      },
      "source": [
        "## Preparing data for LSTM Model"
      ]
    },
    {
      "cell_type": "markdown",
      "metadata": {
        "id": "NQgG6alhC-8T"
      },
      "source": [
        "Splitting the dataset into training and testing sets"
      ]
    },
    {
      "cell_type": "code",
      "execution_count": 21,
      "metadata": {
        "id": "Ea8QlAF5SMaM"
      },
      "outputs": [],
      "source": [
        "train_df = df[:3500]\n",
        "test_df = df[3500:]"
      ]
    },
    {
      "cell_type": "markdown",
      "metadata": {
        "id": "iP_jCkwwEi7u"
      },
      "source": [
        "Define a function which splits our data into proper input and output time steps, which can suitably be fed to LSTM model"
      ]
    },
    {
      "cell_type": "code",
      "execution_count": 22,
      "metadata": {
        "id": "q-hQUbw9UBoe"
      },
      "outputs": [],
      "source": [
        "def split_sequence_LSTM(sequence, input_time_steps, output_time_steps = 1):\n",
        "    '''\n",
        "       Function takes a time-series, no. of time steps in input data, and no. of time steps in label data as input\n",
        "       It returns numpy arrays of LSTM input data and LSTM labels\n",
        "    '''\n",
        "    X, y = [], []                                                                               #Initialising the lists which will store the input and output time steps respectively.\n",
        "\n",
        "    for i in range(len(sequence)):\n",
        "        if i + input_time_steps + output_time_steps > len(sequence):                            #If no more data is available for output steps, break out of the loop.\n",
        "            break\n",
        "        X.append(sequence[i : i + input_time_steps])                                            #Appending a list of values which is an input sequence.\n",
        "        y.append(sequence[i + input_time_steps : i + input_time_steps + output_time_steps])     #Appending a list of values which is an output sequence.\n",
        "    \n",
        "    X = np.array(X)                                                                             #Converting the list of input sequences into 1D np array of sequences, i.e., a 2D np array.\n",
        "    X = X.reshape(X.shape[0], X.shape[1], 1)                                                    #Broadcasting 2D np array into 3D numpy array. This is only a requirement for LSTM and no change occurs to size of sequences of no. of sequences.\n",
        "\n",
        "    y = np.array(y)                                                                             #Converting the list of output sequences into 1D np array of sequences, i.e., a 2D np array.\n",
        "    \n",
        "    return X, y"
      ]
    },
    {
      "cell_type": "markdown",
      "metadata": {
        "id": "X4MhZA0KE1Bm"
      },
      "source": [
        "Converting pandas Dataframe column to numpy array, since keras models accept only numpy arrays, for the current version."
      ]
    },
    {
      "cell_type": "code",
      "execution_count": 23,
      "metadata": {
        "id": "7z6egsVcSy6-"
      },
      "outputs": [],
      "source": [
        "train = train_df['Close'].to_numpy()"
      ]
    },
    {
      "cell_type": "code",
      "execution_count": 24,
      "metadata": {
        "id": "0PAbpSL5ZMdN"
      },
      "outputs": [],
      "source": [
        "test = test_df['Close'].to_numpy()"
      ]
    },
    {
      "cell_type": "markdown",
      "metadata": {
        "id": "RfqIbeSIHloJ"
      },
      "source": [
        "Converting training values to between -1 and 1"
      ]
    },
    {
      "cell_type": "code",
      "execution_count": 25,
      "metadata": {
        "id": "CNj6W2-aH28k"
      },
      "outputs": [],
      "source": [
        "train = (train.mean() - train)/train.mean()"
      ]
    },
    {
      "cell_type": "markdown",
      "metadata": {
        "id": "QukmDGHYKxDb"
      },
      "source": [
        "Converting testing values to between -1 and 1"
      ]
    },
    {
      "cell_type": "code",
      "execution_count": 26,
      "metadata": {
        "id": "fW9v_vFuZXK1"
      },
      "outputs": [],
      "source": [
        "test = (test.mean() - test)/test.mean()"
      ]
    },
    {
      "cell_type": "markdown",
      "metadata": {
        "id": "f5WD37IpbGPK"
      },
      "source": [
        "## Single-step LSTM model -- Forecasting for a day"
      ]
    },
    {
      "cell_type": "code",
      "source": [
        "input_time_step_size = 175"
      ],
      "metadata": {
        "id": "hfcSre_e3MUU"
      },
      "execution_count": 27,
      "outputs": []
    },
    {
      "cell_type": "markdown",
      "metadata": {
        "id": "FwCsO3VzH6VW"
      },
      "source": [
        "Spliiting the training and testing dataset into input and target datasets"
      ]
    },
    {
      "cell_type": "code",
      "execution_count": 28,
      "metadata": {
        "id": "71mkjENuVEcV"
      },
      "outputs": [],
      "source": [
        "X_train, y_train = split_sequence_LSTM(train, input_time_step_size)"
      ]
    },
    {
      "cell_type": "code",
      "execution_count": 29,
      "metadata": {
        "id": "74hUiOdQZp3U"
      },
      "outputs": [],
      "source": [
        "X_test, y_test = split_sequence_LSTM(test, input_time_step_size)"
      ]
    },
    {
      "cell_type": "markdown",
      "metadata": {
        "id": "kaRKYKyFIMDW"
      },
      "source": [
        "Verifying the shape of input and target datasets"
      ]
    },
    {
      "cell_type": "code",
      "execution_count": 30,
      "metadata": {
        "colab": {
          "base_uri": "https://localhost:8080/"
        },
        "id": "pvtWbSlwVuJV",
        "outputId": "9b25e43c-ae0e-4727-ad02-a8d70ef39f7d"
      },
      "outputs": [
        {
          "output_type": "execute_result",
          "data": {
            "text/plain": [
              "((3325, 175, 1), (3325, 1), (1117, 175, 1), (1117, 1))"
            ]
          },
          "metadata": {},
          "execution_count": 30
        }
      ],
      "source": [
        "X_train.shape, y_train.shape, X_test.shape, y_test.shape"
      ]
    },
    {
      "cell_type": "code",
      "execution_count": 31,
      "metadata": {
        "colab": {
          "base_uri": "https://localhost:8080/"
        },
        "id": "iFuLKbTxQKmt",
        "outputId": "b0d032f0-b37f-487c-a5ed-feb79c6ba98f"
      },
      "outputs": [
        {
          "output_type": "stream",
          "name": "stdout",
          "text": [
            "Epoch 1/3\n",
            "104/104 [==============================] - 9s 75ms/step - loss: 0.0041 - mean_squared_error: 0.0041\n",
            "Epoch 2/3\n",
            "104/104 [==============================] - 13s 121ms/step - loss: 1.1490e-04 - mean_squared_error: 1.1490e-04\n",
            "Epoch 3/3\n",
            "104/104 [==============================] - 14s 136ms/step - loss: 1.0442e-04 - mean_squared_error: 1.0442e-04\n"
          ]
        },
        {
          "output_type": "execute_result",
          "data": {
            "text/plain": [
              "<keras.callbacks.History at 0x7f762b39c090>"
            ]
          },
          "metadata": {},
          "execution_count": 31
        }
      ],
      "source": [
        "single_step_model = Sequential()                                                                               #Defining the model as Sequential\n",
        "single_step_model.add(LSTM(50, activation='relu', input_shape=(input_time_step_size, 1)))                      #Adding LSTM layer with 50 dimensions\n",
        "single_step_model.add(Dense(1))                                                                                #Adding a Dense layer, which gives out one value(i.e., the prediction)\n",
        "single_step_model.compile(loss = 'mean_squared_error', optimizer = 'adam', metrics = 'mean_squared_error')     #Compiling the model\n",
        "single_step_model.fit(X_train, y_train, epochs = 3)                                                            #Training the model on our input and target datasets"
      ]
    },
    {
      "cell_type": "markdown",
      "source": [
        "We didn't train for more epochs to avoid over-fitting"
      ],
      "metadata": {
        "id": "Dy6TVDqsBb4I"
      }
    },
    {
      "cell_type": "markdown",
      "metadata": {
        "id": "ONwKgiLgJzY3"
      },
      "source": [
        "Predicting values on the training input dataset. "
      ]
    },
    {
      "cell_type": "code",
      "execution_count": 32,
      "metadata": {
        "id": "-SJf3sLC7yXK"
      },
      "outputs": [],
      "source": [
        "train_preds = single_step_model.predict(X_train)"
      ]
    },
    {
      "cell_type": "markdown",
      "metadata": {
        "id": "p6k2s_m7J1jS"
      },
      "source": [
        "Comparing the predictions on training data and targets of training data using a plot"
      ]
    },
    {
      "cell_type": "code",
      "execution_count": 33,
      "metadata": {
        "colab": {
          "base_uri": "https://localhost:8080/",
          "height": 295
        },
        "id": "FI43Dc3UJ2a1",
        "outputId": "3c4d89ae-a765-4256-f93e-0e47a4587d48"
      },
      "outputs": [
        {
          "output_type": "display_data",
          "data": {
            "text/plain": [
              "<Figure size 432x288 with 1 Axes>"
            ],
            "image/png": "[encoded data removed]"
          },
          "metadata": {
            "needs_background": "light"
          }
        }
      ],
      "source": [
        "plt.xlabel('Time (in days)')                                                                                                         #Set label for x-axis\n",
        "plt.ylabel('Cost of US Dollar in Rupee')                                                                                             #Set label for y-axis\n",
        "#-(y_train*train_df['Close'].mean()) + train_df['Close'].mean() gives the value in range of y_train\n",
        "plt.plot([i for i in range(train_preds.shape[0])], -(y_train*train_df['Close'].mean()) + train_df['Close'].mean(), label = 'Actual', color = 'g')          #Plot the actual exchange rate vs time graph\n",
        "#-(train_preds*train_df['Close'].mean()) + train_df['Close'].mean() gives the predicted value in range of y_train\n",
        "plt.plot([i for i in range(train_preds.shape[0])], -(train_preds*train_df['Close'].mean()) + train_df['Close'].mean(), label = 'Predicted', color = 'b')   #Plot the predicted exchange rate vs time graph\n",
        "plt.legend()                                                                                                                         #Display legend box\n",
        "plt.title('Single-step LSTM on Training data', fontweight = 'bold')                                                                  #Set title for the plot\n",
        "plt.show()                                                                                                                           #Show the plot"
      ]
    },
    {
      "cell_type": "markdown",
      "source": [
        "It is clear from plot that the predictions are on right track. However, to validate the model, we have to check predictions on testing dataset as well."
      ],
      "metadata": {
        "id": "5VM1mWE695Q_"
      }
    },
    {
      "cell_type": "markdown",
      "metadata": {
        "id": "gD263-oaLJzi"
      },
      "source": [
        "Predicting values on the testing input dataset."
      ]
    },
    {
      "cell_type": "code",
      "execution_count": 34,
      "metadata": {
        "id": "DDteWGLZZlIF"
      },
      "outputs": [],
      "source": [
        "test_preds = single_step_model.predict(X_test)"
      ]
    },
    {
      "cell_type": "markdown",
      "metadata": {
        "id": "whVKQvSILaRr"
      },
      "source": [
        "Comparing the predictions on testing data and targets in testing data using a plot"
      ]
    },
    {
      "cell_type": "code",
      "execution_count": 35,
      "metadata": {
        "colab": {
          "base_uri": "https://localhost:8080/",
          "height": 295
        },
        "id": "gsR9-iY9Z4Nc",
        "outputId": "9006befc-5445-4a13-912c-7010706199cd"
      },
      "outputs": [
        {
          "output_type": "display_data",
          "data": {
            "text/plain": [
              "<Figure size 432x288 with 1 Axes>"
            ],
            "image/png": "[encoded data removed]"
          },
          "metadata": {
            "needs_background": "light"
          }
        }
      ],
      "source": [
        "plt.xlabel('Time (in days)')                                                                                                                          #Set label for x-axis\n",
        "plt.ylabel('Cost of US Dollar in Rupee')                                                                                                              #Set label for y-axis\n",
        "#-(y_test*test_df['Close'].mean()) + test_df['Close'].mean() gives the value in range of y_test                \n",
        "plt.plot([i for i in range(y_test.shape[0])], -(y_test*test_df['Close'].mean()) + test_df['Close'].mean(), label = 'Actual', color = 'g')          #Plot the actual exchange rate vs time graph\n",
        "#-(preds*test_df['Close'].mean()) + test_df['Close'].mean() gives the predicted value in range of y_test\n",
        "plt.plot([i for i in range(test_preds.shape[0])], -(test_preds*test_df['Close'].mean()) + test_df['Close'].mean(), label = 'Predicted', color = 'b')   #Plot the predicted exchange rate vs time graph\n",
        "plt.legend()                                                                                                                                          #Display legend box\n",
        "plt.title('Single-step LSTM on Testing data', fontweight = 'bold')                                                                                    #Set title for the plot\n",
        "plt.show()                                                                                                                                            #Show the plot"
      ]
    },
    {
      "cell_type": "markdown",
      "source": [
        "The predictions on testing data are not good as they were for training data. This was expected since our model has not 'seen' the testing data before"
      ],
      "metadata": {
        "id": "2P4nNdvm-WbF"
      }
    },
    {
      "cell_type": "markdown",
      "metadata": {
        "id": "7eOZvMRQnD9Y"
      },
      "source": [
        "Mean absolute error on training dataset"
      ]
    },
    {
      "cell_type": "code",
      "execution_count": 36,
      "metadata": {
        "colab": {
          "base_uri": "https://localhost:8080/"
        },
        "id": "QTDLg0s8nIug",
        "outputId": "ac82950a-81a2-45ea-8547-721943414e47"
      },
      "outputs": [
        {
          "output_type": "stream",
          "name": "stdout",
          "text": [
            "Mean absolute error : 0.0075\n"
          ]
        }
      ],
      "source": [
        "print(f'Mean absolute error : {np.absolute(train_preds - y_train).mean():0.4f}')"
      ]
    },
    {
      "cell_type": "markdown",
      "source": [
        "r2 score on training dataset"
      ],
      "metadata": {
        "id": "nFHlhBE44LJc"
      }
    },
    {
      "cell_type": "code",
      "source": [
        "print(f'r2 score : {r2_score(train_preds, y_train):0.2f}')"
      ],
      "metadata": {
        "colab": {
          "base_uri": "https://localhost:8080/"
        },
        "id": "OLtuQ2yC4O2b",
        "outputId": "fc0fc61f-c22c-4766-dc1a-08329685fb00"
      },
      "execution_count": 37,
      "outputs": [
        {
          "output_type": "stream",
          "name": "stdout",
          "text": [
            "r2 score : 1.00\n"
          ]
        }
      ]
    },
    {
      "cell_type": "markdown",
      "metadata": {
        "id": "QblmEEzLnwWm"
      },
      "source": [
        "Mean absolute error on testing dataset"
      ]
    },
    {
      "cell_type": "code",
      "execution_count": 38,
      "metadata": {
        "colab": {
          "base_uri": "https://localhost:8080/"
        },
        "id": "c0KfVAdpc0Ks",
        "outputId": "e32d539b-3f24-4584-ccc8-2cc39f56fee3"
      },
      "outputs": [
        {
          "output_type": "stream",
          "name": "stdout",
          "text": [
            "Mean absolute error : 0.0076\n"
          ]
        }
      ],
      "source": [
        "print(f'Mean absolute error : {np.absolute(test_preds - y_test).mean():0.4f}')"
      ]
    },
    {
      "cell_type": "markdown",
      "source": [
        "r2 score on testing dataset"
      ],
      "metadata": {
        "id": "hD6HIXMS4gdk"
      }
    },
    {
      "cell_type": "code",
      "source": [
        "print(f'r2 score : {r2_score(test_preds, y_test):0.2f}')"
      ],
      "metadata": {
        "colab": {
          "base_uri": "https://localhost:8080/"
        },
        "id": "33hXuK5g4gdm",
        "outputId": "ee93195e-597f-4933-9f2a-690bb9752506"
      },
      "execution_count": 39,
      "outputs": [
        {
          "output_type": "stream",
          "name": "stdout",
          "text": [
            "r2 score : 0.95\n"
          ]
        }
      ]
    },
    {
      "cell_type": "markdown",
      "metadata": {
        "id": "sLbsK2IRTZr1"
      },
      "source": [
        "## Multi-step LSTM Model -- Forecasting for a week"
      ]
    },
    {
      "cell_type": "markdown",
      "metadata": {
        "id": "1GvEFNgLMIAF"
      },
      "source": [
        "Spliiting the training dataset into input and target datasets"
      ]
    },
    {
      "cell_type": "code",
      "execution_count": 40,
      "metadata": {
        "id": "_CG84rpuc5BC"
      },
      "outputs": [],
      "source": [
        "X_train, y_train = split_sequence_LSTM(train, 250, 7)"
      ]
    },
    {
      "cell_type": "markdown",
      "metadata": {
        "id": "Kql5bPXYMNal"
      },
      "source": [
        "Verify the shape of input and target datasets"
      ]
    },
    {
      "cell_type": "code",
      "execution_count": 41,
      "metadata": {
        "colab": {
          "base_uri": "https://localhost:8080/"
        },
        "id": "De1nThXOTJ95",
        "outputId": "44e6c690-abb1-46ea-9b2c-a6c6bf700480"
      },
      "outputs": [
        {
          "output_type": "execute_result",
          "data": {
            "text/plain": [
              "((3244, 250, 1), (3244, 7))"
            ]
          },
          "metadata": {},
          "execution_count": 41
        }
      ],
      "source": [
        "X_train.shape, y_train.shape"
      ]
    },
    {
      "cell_type": "markdown",
      "metadata": {
        "id": "IKypbjQW5sEV"
      },
      "source": [
        "Spliiting the testing dataset into input and target datasets"
      ]
    },
    {
      "cell_type": "code",
      "execution_count": 42,
      "metadata": {
        "id": "oVpmWxjo5sEW"
      },
      "outputs": [],
      "source": [
        "X_test, y_test = split_sequence_LSTM(test, 250, 7)"
      ]
    },
    {
      "cell_type": "markdown",
      "metadata": {
        "id": "C-FyIzi95sEX"
      },
      "source": [
        "Verify the shape of input and target datasets"
      ]
    },
    {
      "cell_type": "code",
      "execution_count": 43,
      "metadata": {
        "colab": {
          "base_uri": "https://localhost:8080/"
        },
        "outputId": "29ef3ee2-275e-4c3b-9aaf-93691647d0a2",
        "id": "0nCj_1685sEY"
      },
      "outputs": [
        {
          "output_type": "execute_result",
          "data": {
            "text/plain": [
              "((1036, 250, 1), (1036, 7))"
            ]
          },
          "metadata": {},
          "execution_count": 43
        }
      ],
      "source": [
        "X_test.shape, y_test.shape"
      ]
    },
    {
      "cell_type": "markdown",
      "metadata": {
        "id": "ItxfalYCMWwV"
      },
      "source": [
        "Define a custom optimizer function with learning_rate = 1.0 (not 0.1), epsilon = 0.1 (not 1e-8), clipnorm = 1.0 (not None),"
      ]
    },
    {
      "cell_type": "code",
      "execution_count": 44,
      "metadata": {
        "id": "iBouN5qJ9dm1"
      },
      "outputs": [],
      "source": [
        "opt = tf.keras.optimizers.Adam(learning_rate = 1.0, beta_1 = 0.9, beta_2 = 0.999, epsilon = 0.1, decay = 0.0, clipnorm = 1.0)"
      ]
    },
    {
      "cell_type": "markdown",
      "metadata": {
        "id": "9VX6vlnuM_9b"
      },
      "source": [
        "Making a multi-step LSTM model."
      ]
    },
    {
      "cell_type": "code",
      "execution_count": 64,
      "metadata": {
        "id": "_I5KDb0KhKVg",
        "colab": {
          "base_uri": "https://localhost:8080/"
        },
        "outputId": "2adc3627-97b3-440b-8021-2f720d066580"
      },
      "outputs": [
        {
          "output_type": "stream",
          "name": "stdout",
          "text": [
            "Epoch 1/3\n",
            "102/102 [==============================] - 31s 294ms/step - loss: 0.0034 - mean_squared_error: 0.0034\n",
            "Epoch 2/3\n",
            "102/102 [==============================] - 23s 223ms/step - loss: 1.7175e-04 - mean_squared_error: 1.7175e-04\n",
            "Epoch 3/3\n",
            "102/102 [==============================] - 22s 216ms/step - loss: 1.5416e-04 - mean_squared_error: 1.5416e-04\n"
          ]
        },
        {
          "output_type": "execute_result",
          "data": {
            "text/plain": [
              "<keras.callbacks.History at 0x7f762accaf50>"
            ]
          },
          "metadata": {},
          "execution_count": 64
        }
      ],
      "source": [
        "multi_step_model = Sequential()                                                                               #Defining the model as Sequential\n",
        "multi_step_model.add(LSTM(128, activation='relu', input_shape=(250, 1)))                                      #Adding LSTM layer with 128 dimensions\n",
        "multi_step_model.add(Dense(7))                                                                                #Adding a Dense layer, which gives out 7 values(the predictions)\n",
        "multi_step_model.compile(loss = 'mean_squared_error', optimizer = opt, metrics = 'mean_squared_error')        #Compiling the model\n",
        "multi_step_model.fit(X_train, y_train, epochs = 3)                                                            #Training the model on our input and target datasets"
      ]
    },
    {
      "cell_type": "markdown",
      "source": [
        "Again, we didn't train on more epochs because of dangers of over-fitting"
      ],
      "metadata": {
        "id": "3TLa25SPBQQV"
      }
    },
    {
      "cell_type": "markdown",
      "metadata": {
        "id": "K-LnMr-GNUat"
      },
      "source": [
        "Predicting values on the training input dataset."
      ]
    },
    {
      "cell_type": "code",
      "execution_count": 65,
      "metadata": {
        "id": "tjILIbtKjYdf"
      },
      "outputs": [],
      "source": [
        "train_preds = multi_step_model.predict(X_train)"
      ]
    },
    {
      "cell_type": "markdown",
      "metadata": {
        "id": "gIVbdDoEN3Kj"
      },
      "source": [
        "Verifying the shape of prediction dataset"
      ]
    },
    {
      "cell_type": "code",
      "execution_count": 66,
      "metadata": {
        "colab": {
          "base_uri": "https://localhost:8080/"
        },
        "id": "fMr5YKAoTRa3",
        "outputId": "cc9721dd-040f-4f6d-963c-0f71962eab70"
      },
      "outputs": [
        {
          "output_type": "execute_result",
          "data": {
            "text/plain": [
              "(3244, 7)"
            ]
          },
          "metadata": {},
          "execution_count": 66
        }
      ],
      "source": [
        "train_preds.shape"
      ]
    },
    {
      "cell_type": "markdown",
      "metadata": {
        "id": "4Pu9Ok_aPohf"
      },
      "source": [
        "Comparing the predictions on training data and targets in training data using a plot for a randomly selected week"
      ]
    },
    {
      "cell_type": "code",
      "execution_count": 67,
      "metadata": {
        "colab": {
          "base_uri": "https://localhost:8080/",
          "height": 295
        },
        "id": "dGmCJZnBjtIP",
        "outputId": "d081bd0a-eb86-4d91-ae31-63d13641b22b"
      },
      "outputs": [
        {
          "output_type": "display_data",
          "data": {
            "text/plain": [
              "<Figure size 432x288 with 1 Axes>"
            ],
            "image/png": "[encoded data removed]"
          },
          "metadata": {
            "needs_background": "light"
          }
        }
      ],
      "source": [
        "random_number = random.randint(0, train_preds.shape[0])                                                                                                     #Generating a random number from the total range\n",
        "plt.xlabel('Time (in days)')                                                                                                                          #Set label for x-axis\n",
        "plt.ylabel('Cost of US Dollar in Rupee')                                                                                                              #Set label for y-axis\n",
        "#-(y_train[random_number]*train_df['Close'].mean()) + train_df['Close'].mean() gives the value in range of y_train \n",
        "plt.plot([i for i in range(7)], (y_train[random_number]*train_df['Close'].mean()) + train_df['Close'].mean(), label = 'Actual', color = 'g')          #Plot the actual exchange rate vs time graph\n",
        "#-(train_preds[random_number]*train_df['Close'].mean()) + train_df['Close'].mean() gives the value in range of y_train \n",
        "plt.plot([i for i in range(7)], (train_preds[random_number]*train_df['Close'].mean()) + train_df['Close'].mean(), label = 'Predicted', color = 'b')         #Plot the predicted exchange rate vs time graph\n",
        "plt.xlim([0,6])                                                                                                                                       #Set x limit to plot\n",
        "plt.ylim([((y_train[random_number]*train_df['Close'].mean()) + train_df['Close'].mean()).min() - 5, ((y_train[random_number]*train_df['Close'].mean()) + train_df['Close'].mean()).max() + 5])   #Set y limit to plot\n",
        "plt.legend()                                                                                                                                          #Display legend box\n",
        "plt.title('Week forecast on training data', fontweight = 'bold')                                                                                      #Set title for the plot\n",
        "plt.show()                                                                                                                                            #Show the plot"
      ]
    },
    {
      "cell_type": "markdown",
      "source": [
        "Predicted data is a close match to the actual data"
      ],
      "metadata": {
        "id": "zqzuQ7u0-tqL"
      }
    },
    {
      "cell_type": "markdown",
      "metadata": {
        "id": "IYacE6G_gxkX"
      },
      "source": [
        "Now, we select sequences from predicted data such that each week is covered fully and no data point is redundant"
      ]
    },
    {
      "cell_type": "code",
      "execution_count": 68,
      "metadata": {
        "id": "TOv_s_5LVVQp"
      },
      "outputs": [],
      "source": [
        "whole_train_preds = np.array([train_preds[i] for i in range(0, train_preds.shape[0], 7)], dtype = 'object')"
      ]
    },
    {
      "cell_type": "markdown",
      "metadata": {
        "id": "0m_MZvCchSNP"
      },
      "source": [
        "Converting the week sequences into a flat array"
      ]
    },
    {
      "cell_type": "code",
      "execution_count": 69,
      "metadata": {
        "id": "h2JB_QS9VxIi"
      },
      "outputs": [],
      "source": [
        "whole_train_preds = whole_train_preds.reshape(whole_train_preds.shape[0]*7)"
      ]
    },
    {
      "cell_type": "markdown",
      "metadata": {
        "id": "tMKRXpfGhbqV"
      },
      "source": [
        "Some of the data points are missed in the process, which is reflected by difference in sizes of the datasets"
      ]
    },
    {
      "cell_type": "code",
      "execution_count": 70,
      "metadata": {
        "colab": {
          "base_uri": "https://localhost:8080/"
        },
        "id": "pRS_AhQAg09A",
        "outputId": "8e977484-c879-45b4-99bf-2537db53c76f"
      },
      "outputs": [
        {
          "output_type": "execute_result",
          "data": {
            "text/plain": [
              "(3248, 3500)"
            ]
          },
          "metadata": {},
          "execution_count": 70
        }
      ],
      "source": [
        "len(whole_train_preds), len(train)"
      ]
    },
    {
      "cell_type": "markdown",
      "metadata": {
        "id": "vmNNofeMT2AN"
      },
      "source": [
        "Comparing the predictions on training data and targets in training data using a plot"
      ]
    },
    {
      "cell_type": "code",
      "execution_count": 71,
      "metadata": {
        "colab": {
          "base_uri": "https://localhost:8080/",
          "height": 295
        },
        "id": "b488mwadWipt",
        "outputId": "ae586953-eb97-4aae-9df2-345eb5aac07c"
      },
      "outputs": [
        {
          "output_type": "display_data",
          "data": {
            "text/plain": [
              "<Figure size 432x288 with 1 Axes>"
            ],
            "image/png": "[encoded data removed]"
          },
          "metadata": {
            "needs_background": "light"
          }
        }
      ],
      "source": [
        "plt.xlabel('Time (in days)')                                                                                                                                              #Set label for x-axis\n",
        "plt.ylabel('Dollar in INR')                                                                                                                                               #Set label for y-axis\n",
        "#(-1)*(train*train_df['Close'].mean()) + train_df['Close'].mean() gives the value in range of train_df['Close']\n",
        "plt.plot([i for i in range(len(whole_train_preds))], ((-1)*train[250:len(whole_train_preds) + 250]*train_df['Close'].mean()) + train_df['Close'].mean(), label = 'Actual', color = 'g')   #Plot the actual exchange rate vs time graph\n",
        "#(-1)*(whole_train_preds*train_df['Close'].mean()) + train_df['Close'].mean() gives the value in range of train_df['Close']\n",
        "plt.plot([i for i in range(len(whole_train_preds))], ((-1)*whole_train_preds*train_df['Close'].mean()) + train_df['Close'].mean(), label = 'Predicted', color = 'b')                  #Plot the predicted exchange rate vs time graph\n",
        "plt.xlim([0, len(whole_train_preds)])                                                                                                                                           #Set x limit to plot\n",
        "plt.legend()                                                                                                                                                              #Display legend box       \n",
        "plt.title('Multi-step LSTM on Training data', fontweight = 'bold')                                                                                                        #Set title for the plot\n",
        "plt.show()                                                                                                                                                                #Show the plot"
      ]
    },
    {
      "cell_type": "markdown",
      "source": [
        "Overall, our model is making right predictions on the training dataset, as seen in the plot.\n",
        "\n",
        "Now, let's turn for testing dataset."
      ],
      "metadata": {
        "id": "QjqpjO6n_Ilz"
      }
    },
    {
      "cell_type": "markdown",
      "metadata": {
        "id": "qaBjGZCDggG4"
      },
      "source": [
        "Predicting values on the testing input dataset."
      ]
    },
    {
      "cell_type": "code",
      "execution_count": 72,
      "metadata": {
        "id": "gVyDAMaFX_Bq"
      },
      "outputs": [],
      "source": [
        "test_preds = multi_step_model.predict(X_test)"
      ]
    },
    {
      "cell_type": "markdown",
      "metadata": {
        "id": "QOuGLc1rggG4"
      },
      "source": [
        "Verifying the shape of prediction dataset"
      ]
    },
    {
      "cell_type": "code",
      "execution_count": 73,
      "metadata": {
        "id": "1LejM2rZYlO0",
        "colab": {
          "base_uri": "https://localhost:8080/"
        },
        "outputId": "5cf3e2c5-6ba0-4746-8b68-6dbf7df98b0f"
      },
      "outputs": [
        {
          "output_type": "execute_result",
          "data": {
            "text/plain": [
              "(1036, 7)"
            ]
          },
          "metadata": {},
          "execution_count": 73
        }
      ],
      "source": [
        "test_preds.shape"
      ]
    },
    {
      "cell_type": "markdown",
      "metadata": {
        "id": "jwLV3p7mggG4"
      },
      "source": [
        "Comparing the predictions on training data and targets in training data using a plot for a randomly selected week"
      ]
    },
    {
      "cell_type": "code",
      "execution_count": 74,
      "metadata": {
        "id": "bKB9tf4cYOPz",
        "colab": {
          "base_uri": "https://localhost:8080/",
          "height": 295
        },
        "outputId": "4959daa2-90ff-4d8a-f76d-7ad579e98929"
      },
      "outputs": [
        {
          "output_type": "display_data",
          "data": {
            "text/plain": [
              "<Figure size 432x288 with 1 Axes>"
            ],
            "image/png": "[encoded data removed]"
          },
          "metadata": {
            "needs_background": "light"
          }
        }
      ],
      "source": [
        "random_number = random.randint(0, test_preds.shape[0])                                                                                                     #Generating a random number from the total range\n",
        "plt.xlabel('Time (in days)')                                                                                                                               #Set label for x-axis\n",
        "plt.ylabel('Cost of US Dollar in Rupee')                                                                                                                   #Set label for y-axis\n",
        "#(-1)*(y_test[random_number]*test_df['Close'].mean()) + test_df['Close'].mean() gives the value in range of test_df['Close']\n",
        "plt.plot([i for i in range(7)], (-1)*(y_test[random_number]*test_df['Close'].mean()) + test_df['Close'].mean(), label = 'Actual', color = 'g')             #Plot the actual exchange rate vs time graph\n",
        "#(-1)*(test_preds[random_number-1]*test_df['Close'].mean()) + test_df['Close'].mean() gives the value in range of test_df['Close']\n",
        "plt.plot([i for i in range(7)], (-1)*(test_preds[random_number-1]*test_df['Close'].mean()) + test_df['Close'].mean(), label = 'Predicted', color = 'b')    #Plot the predicted exchange rate vs time graph\n",
        "plt.xlim([0,6])                                                                                                                                            #Set x limit to plot\n",
        "plt.ylim([((y_test[random_number]*test_df['Close'].mean()) + test_df['Close'].mean()).min() - 3, ((y_test[random_number]*test_df['Close'].mean()) + test_df['Close'].mean()).max() + 3])   #Set y limit to plot\n",
        "plt.legend()                                                                                                                                               #Display legend box\n",
        "plt.title('Week forecast on testing data', fontweight = 'bold')                                                                                            #Set title for the plot\n",
        "plt.show()                                                                                                                                                 #Show the plot"
      ]
    },
    {
      "cell_type": "markdown",
      "source": [
        "The predictions for week in case of testing dataset seem good. But before making any conclusions, let's check the entire predicitons."
      ],
      "metadata": {
        "id": "QivHTYE6_fPV"
      }
    },
    {
      "cell_type": "markdown",
      "metadata": {
        "id": "9YCr1kImiZJb"
      },
      "source": [
        "Now, we select sequences from predicted data such that each week is covered fully and no data point is redundant"
      ]
    },
    {
      "cell_type": "code",
      "execution_count": 75,
      "metadata": {
        "id": "4eWoQkvYYc_K"
      },
      "outputs": [],
      "source": [
        "whole_test_preds = np.array([test_preds[i] for i in range(0, test_preds.shape[0], 7)], dtype = 'object')"
      ]
    },
    {
      "cell_type": "markdown",
      "metadata": {
        "id": "LIcmQgVoiZJq"
      },
      "source": [
        "Converting the week sequences into a flat array"
      ]
    },
    {
      "cell_type": "code",
      "execution_count": 76,
      "metadata": {
        "id": "vi7lcgLmZAkL"
      },
      "outputs": [],
      "source": [
        "whole_test_preds = whole_test_preds.reshape(whole_test_preds.shape[0]*7)"
      ]
    },
    {
      "cell_type": "markdown",
      "metadata": {
        "id": "ohCWRWyZiZJq"
      },
      "source": [
        "Some of the data points are missed in the process, which is reflected by difference in sizes of the datasets"
      ]
    },
    {
      "cell_type": "code",
      "execution_count": 77,
      "metadata": {
        "id": "OImp0F1kiw43",
        "colab": {
          "base_uri": "https://localhost:8080/"
        },
        "outputId": "61e38ab0-3c38-4718-96c0-ecc2a91afd69"
      },
      "outputs": [
        {
          "output_type": "execute_result",
          "data": {
            "text/plain": [
              "((1036,), (1292,))"
            ]
          },
          "metadata": {},
          "execution_count": 77
        }
      ],
      "source": [
        "whole_test_preds.shape, test.shape"
      ]
    },
    {
      "cell_type": "markdown",
      "metadata": {
        "id": "y6ifB3rpggG5"
      },
      "source": [
        "Comparing the predictions on training data and targets in training data using a plot"
      ]
    },
    {
      "cell_type": "code",
      "execution_count": 78,
      "metadata": {
        "id": "DEVn0leWYvKJ",
        "colab": {
          "base_uri": "https://localhost:8080/",
          "height": 295
        },
        "outputId": "d73d8b01-388e-405a-c7f2-e7f7cfa7438d"
      },
      "outputs": [
        {
          "output_type": "display_data",
          "data": {
            "text/plain": [
              "<Figure size 432x288 with 1 Axes>"
            ],
            "image/png": "[encoded data removed]"
          },
          "metadata": {
            "needs_background": "light"
          }
        }
      ],
      "source": [
        "plt.xlabel('Time (in days)')                                                                                                                                             #Set label for x-axis\n",
        "plt.ylabel('Dollar in INR')                                                                                                                                              #Set label for y-axis\n",
        "#((-1)*test[250:len(whole_test_preds)]*test_df['Close'].mean()) + test_df['Close'].mean() gives the value in range of test_df['Close']\n",
        "plt.plot([i for i in range(len(whole_test_preds))], ((-1)*test[250:len(whole_test_preds) + 250]*test_df['Close'].mean()) + test_df['Close'].mean(), label = 'Actual', color = 'g')     #Plot the actual exchange rate vs time graph\n",
        "#((-1)*whole_test_preds*test_df['Close'].mean()) + test_df['Close'].mean() gives the value in range of test_df['Close']\n",
        "plt.plot([i for i in range(len(whole_test_preds))], ((-1)*whole_test_preds*test_df['Close'].mean()) + test_df['Close'].mean(), label = 'Predicted', color = 'b')         #Plot the predicted exchange rate vs time graph\n",
        "plt.xlim([0, len(test) - 250])                                                                                                                                           #Set x limit to plot\n",
        "plt.ylim([60, 80])                                                                                                                                                       #Set y limit to plot\n",
        "plt.legend()                                                                                                                                                             #Display legend box\n",
        "plt.title('Multi-step LSTM on Testing data', fontweight = 'bold')                                                                                                        #Set title for the plot\n",
        "plt.show()                                                                                                                                                               #Show the plot"
      ]
    },
    {
      "cell_type": "markdown",
      "source": [
        "Model is not doing better on testing data when compared to its performance on training data. We need to do some quantitative measurements to arrive at conclusion."
      ],
      "metadata": {
        "id": "h-iA7Xy9__BN"
      }
    },
    {
      "cell_type": "markdown",
      "metadata": {
        "id": "4OMkX-jAkFxR"
      },
      "source": [
        "Mean absolute error of predictions from actual value on training dataset"
      ]
    },
    {
      "cell_type": "code",
      "execution_count": 79,
      "metadata": {
        "id": "8Bhv_OllZlwb",
        "colab": {
          "base_uri": "https://localhost:8080/"
        },
        "outputId": "b0047def-293d-4b22-84ac-13a209e58ef8"
      },
      "outputs": [
        {
          "output_type": "stream",
          "name": "stdout",
          "text": [
            "Mean absolute error : 0.51\n"
          ]
        }
      ],
      "source": [
        "print(f\"Mean absolute error : {np.absolute((whole_train_preds - train[250 : len(train) - 2])*train_df['Close'].mean()).mean():0.2f}\")"
      ]
    },
    {
      "cell_type": "markdown",
      "metadata": {
        "id": "dj_o66TJkRav"
      },
      "source": [
        "r2 score of predictions on training dataset"
      ]
    },
    {
      "cell_type": "code",
      "execution_count": 80,
      "metadata": {
        "id": "Z05iEhQejiN_",
        "colab": {
          "base_uri": "https://localhost:8080/"
        },
        "outputId": "dc9c56d9-feae-48e7-8cd3-d0736f928ece"
      },
      "outputs": [
        {
          "output_type": "stream",
          "name": "stdout",
          "text": [
            "r2 score : 0.99\n"
          ]
        }
      ],
      "source": [
        "print(f\"r2 score : {r2_score(whole_train_preds, train[250 : len(train) - 2]):0.2f}\")"
      ]
    },
    {
      "cell_type": "markdown",
      "metadata": {
        "id": "fQ2gc8xgjz3Y"
      },
      "source": [
        "Mean absolute error of predictions from actual value on testing dataset"
      ]
    },
    {
      "cell_type": "code",
      "execution_count": 81,
      "metadata": {
        "id": "Vh8QC3OAZX1h",
        "colab": {
          "base_uri": "https://localhost:8080/"
        },
        "outputId": "4345015b-03ce-4fef-dd3e-ce8d059774f5"
      },
      "outputs": [
        {
          "output_type": "stream",
          "name": "stdout",
          "text": [
            "Mean absolute error : 0.54\n"
          ]
        }
      ],
      "source": [
        "print(f\"Mean absolute error : {np.absolute((whole_test_preds - test[250:len(test) - 6])*test_df['Close'].mean()).mean():0.2f}\")"
      ]
    },
    {
      "cell_type": "markdown",
      "metadata": {
        "id": "xaz-MtivkJg7"
      },
      "source": [
        "r2 score of predictions on testing dataset"
      ]
    },
    {
      "cell_type": "code",
      "execution_count": 82,
      "metadata": {
        "id": "s1bwbvrkjXCH",
        "colab": {
          "base_uri": "https://localhost:8080/"
        },
        "outputId": "c166ca15-0479-46f8-90a4-8ab9f3c72493"
      },
      "outputs": [
        {
          "output_type": "stream",
          "name": "stdout",
          "text": [
            "r2 score : 0.90\n"
          ]
        }
      ],
      "source": [
        "print(f\"r2 score : {r2_score(whole_test_preds, test[250:len(test) - 6]):0.2f}\")"
      ]
    },
    {
      "cell_type": "markdown",
      "source": [
        "Although the model is not doing well on testing dataset as compared to training dataset, it is good enough for now.\n",
        "\n",
        "The r2 score of 0.90 on testing dataset is actually good. The mean absolute error is about 0.54, which is not bad.\n",
        "\n",
        "So although on the graph it seems to deviate from actual values, deviations are quite small.\n",
        "\n",
        "Hence, our model is overall a good one."
      ],
      "metadata": {
        "id": "6lR4v7s3ASTY"
      }
    }
  ]
}