{
  "cells": [
    {
      "cell_type": "markdown",
      "metadata": {
        "id": "85Wo0CXoI9XG"
      },
      "source": [
        "## Installing Packages"
      ]
    },
    {
      "cell_type": "code",
      "execution_count": 1,
      "metadata": {
        "id": "jwZxaysiHoY8"
      },
      "outputs": [],
      "source": [
        "# !pip install q tensorflow==2.8.2\n",
        "# !pip install q keras==2.8.0\n",
        "# !pip install q numpy==1.21.6\n",
        "# !pip install q matplotlib==3.2.2\n",
        "# !pip install q pandas==1.3.5\n",
        "# !pip install q ipywidgets==7.7.0\n",
        "# !pip install q scipy==1.4.1\n",
        "# !pip install q sklearn==1.0.2"
      ]
    },
    {
      "cell_type": "markdown",
      "metadata": {
        "id": "xK3tOBsQJmpg"
      },
      "source": [
        "## Import necessary packages"
      ]
    },
    {
      "cell_type": "code",
      "source": [
        "import tensorflow as tf"
      ],
      "metadata": {
        "id": "MwvjvUYo-KgV"
      },
      "execution_count": 2,
      "outputs": []
    },
    {
      "cell_type": "code",
      "execution_count": 3,
      "metadata": {
        "id": "FEKg5L-Mq4ei"
      },
      "outputs": [],
      "source": [
        "from keras.models import Sequential\n",
        "from keras.layers import Flatten, LSTM, Dense\n",
        "from keras.layers.embeddings import Embedding"
      ]
    },
    {
      "cell_type": "code",
      "execution_count": 4,
      "metadata": {
        "id": "RqIVVJE9PRaV"
      },
      "outputs": [],
      "source": [
        "import numpy as np"
      ]
    },
    {
      "cell_type": "code",
      "execution_count": 5,
      "metadata": {
        "id": "jab5oiUvMgyU"
      },
      "outputs": [],
      "source": [
        "import pandas as pd"
      ]
    },
    {
      "cell_type": "code",
      "execution_count": 6,
      "metadata": {
        "id": "r-EffBN3Jlfc"
      },
      "outputs": [],
      "source": [
        "import matplotlib.pyplot as plt"
      ]
    },
    {
      "cell_type": "code",
      "execution_count": 7,
      "metadata": {
        "id": "A3iNrVZxMmJN"
      },
      "outputs": [],
      "source": [
        "from ipywidgets import FileUpload"
      ]
    },
    {
      "cell_type": "code",
      "execution_count": 8,
      "metadata": {
        "id": "WG_iIFPSNBpE"
      },
      "outputs": [],
      "source": [
        "import io"
      ]
    },
    {
      "cell_type": "code",
      "source": [
        "import random"
      ],
      "metadata": {
        "id": "1MhTi0BIUAhS"
      },
      "execution_count": 9,
      "outputs": []
    },
    {
      "cell_type": "markdown",
      "source": [
        "## Obtaining data"
      ],
      "metadata": {
        "id": "XPfLsNN57KNY"
      }
    },
    {
      "cell_type": "markdown",
      "source": [
        "This enables an upload button in the jupyter notebook, through which you can upload the file"
      ],
      "metadata": {
        "id": "LppUMWNxDxwF"
      }
    },
    {
      "cell_type": "code",
      "execution_count": 10,
      "metadata": {
        "colab": {
          "base_uri": "https://localhost:8080/",
          "height": 49,
          "referenced_widgets": [
            "3119af73182744c6a8b33543d5c69b56",
            "fe9ba0d45f9d496d90098f1014aeccd9",
            "b7362ef9dc7449b7a2e149a1f6dd486e"
          ]
        },
        "id": "DEuogozOMrlE",
        "outputId": "ba76aa3f-b292-4140-f2e2-9f8e6b003133"
      },
      "outputs": [
        {
          "output_type": "display_data",
          "data": {
            "text/plain": [
              "FileUpload(value={}, description='Upload')"
            ],
            "application/vnd.jupyter.widget-view+json": {
              "version_major": 2,
              "version_minor": 0,
              "model_id": "3119af73182744c6a8b33543d5c69b56"
            }
          },
          "metadata": {}
        }
      ],
      "source": [
        "uploader= FileUpload()\n",
        "uploader"
      ]
    },
    {
      "cell_type": "code",
      "execution_count": 11,
      "metadata": {
        "id": "0yQvs8yBM5XV"
      },
      "outputs": [],
      "source": [
        "file = list(uploader.value.values())[0]\n",
        "content = file['content']\n",
        "content = io.StringIO(content.decode('utf-8'))\n",
        "df = pd.read_csv(content, parse_dates=True)"
      ]
    },
    {
      "cell_type": "markdown",
      "source": [
        "Alternatively, if the csv file is located in same directory as your jupyter notebook, you can load the file using the below commented code"
      ],
      "metadata": {
        "id": "0cO_c4UBDb30"
      }
    },
    {
      "cell_type": "code",
      "source": [
        "# df = pd.read_csv('INR=X.csv')"
      ],
      "metadata": {
        "id": "WSUBC2bp7jOp"
      },
      "execution_count": 12,
      "outputs": []
    },
    {
      "cell_type": "markdown",
      "source": [
        "## Data Cleaning"
      ],
      "metadata": {
        "id": "jOtac9VnP7Z-"
      }
    },
    {
      "cell_type": "markdown",
      "source": [
        "Finding the no. of missing rows"
      ],
      "metadata": {
        "id": "467MR2mTlnGl"
      }
    },
    {
      "cell_type": "code",
      "source": [
        "expected_no_of_rows  = 18*365"
      ],
      "metadata": {
        "id": "IfFDMQjQk0o1"
      },
      "execution_count": 13,
      "outputs": []
    },
    {
      "cell_type": "code",
      "source": [
        "actual_no_of_rows = len(df)"
      ],
      "metadata": {
        "id": "CYgznL0ClDZ1"
      },
      "execution_count": 14,
      "outputs": []
    },
    {
      "cell_type": "code",
      "source": [
        "missing_rows = expected_no_of_rows - actual_no_of_rows"
      ],
      "metadata": {
        "id": "JbyqpWcTlPqM"
      },
      "execution_count": 15,
      "outputs": []
    },
    {
      "cell_type": "code",
      "source": [
        "missing_rows"
      ],
      "metadata": {
        "colab": {
          "base_uri": "https://localhost:8080/"
        },
        "id": "aQBXoz1NlY7k",
        "outputId": "86ad36d1-6c8c-4cae-f79f-10cc949b24ed"
      },
      "execution_count": 16,
      "outputs": [
        {
          "output_type": "execute_result",
          "data": {
            "text/plain": [
              "1746"
            ]
          },
          "metadata": {},
          "execution_count": 16
        }
      ]
    },
    {
      "cell_type": "markdown",
      "source": [
        "We neglect this missing rows"
      ],
      "metadata": {
        "id": "vOOQLUYTlcZV"
      }
    },
    {
      "cell_type": "markdown",
      "source": [
        "Sampling a roughly 0.1% of dataset"
      ],
      "metadata": {
        "id": "b-hSk-SBDhwx"
      }
    },
    {
      "cell_type": "code",
      "execution_count": 17,
      "metadata": {
        "colab": {
          "base_uri": "https://localhost:8080/",
          "height": 206
        },
        "id": "DDjIo0jGNEzU",
        "outputId": "566a8d92-4c86-43e3-a11b-1fdda23a4586"
      },
      "outputs": [
        {
          "output_type": "execute_result",
          "data": {
            "text/plain": [
              "            Date       Open       High        Low      Close  Adj Close  \\\n",
              "1870  2011-01-31  45.838001  46.009998  45.838001  45.838001  45.838001   \n",
              "1769  2010-09-10  46.202999  46.338001  46.202999  46.303001  46.303001   \n",
              "1902  2011-03-16  45.240002  45.240002  44.993000  45.160000  45.160000   \n",
              "3792  2018-06-13  67.473000  67.910004  67.459999  67.910004  67.910004   \n",
              "2479  2013-05-31  56.283001  56.748001  56.283001  56.377998  56.377998   \n",
              "\n",
              "      Volume  \n",
              "1870     0.0  \n",
              "1769     0.0  \n",
              "1902     0.0  \n",
              "3792     0.0  \n",
              "2479     0.0  "
            ],
            "text/html": [
              "\n",
              "  <div id=\"df-3ab2a007-7cb9-4780-9188-08d2139c12ae\">\n",
              "    <div class=\"colab-df-container\">\n",
              "      <div>\n",
              "<style scoped>\n",
              "    .dataframe tbody tr th:only-of-type {\n",
              "        vertical-align: middle;\n",
              "    }\n",
              "\n",
              "    .dataframe tbody tr th {\n",
              "        vertical-align: top;\n",
              "    }\n",
              "\n",
              "    .dataframe thead th {\n",
              "        text-align: right;\n",
              "    }\n",
              "</style>\n",
              "<table border=\"1\" class=\"dataframe\">\n",
              "  <thead>\n",
              "    <tr style=\"text-align: right;\">\n",
              "      <th></th>\n",
              "      <th>Date</th>\n",
              "      <th>Open</th>\n",
              "      <th>High</th>\n",
              "      <th>Low</th>\n",
              "      <th>Close</th>\n",
              "      <th>Adj Close</th>\n",
              "      <th>Volume</th>\n",
              "    </tr>\n",
              "  </thead>\n",
              "  <tbody>\n",
              "    <tr>\n",
              "      <th>1870</th>\n",
              "      <td>2011-01-31</td>\n",
              "      <td>45.838001</td>\n",
              "      <td>46.009998</td>\n",
              "      <td>45.838001</td>\n",
              "      <td>45.838001</td>\n",
              "      <td>45.838001</td>\n",
              "      <td>0.0</td>\n",
              "    </tr>\n",
              "    <tr>\n",
              "      <th>1769</th>\n",
              "      <td>2010-09-10</td>\n",
              "      <td>46.202999</td>\n",
              "      <td>46.338001</td>\n",
              "      <td>46.202999</td>\n",
              "      <td>46.303001</td>\n",
              "      <td>46.303001</td>\n",
              "      <td>0.0</td>\n",
              "    </tr>\n",
              "    <tr>\n",
              "      <th>1902</th>\n",
              "      <td>2011-03-16</td>\n",
              "      <td>45.240002</td>\n",
              "      <td>45.240002</td>\n",
              "      <td>44.993000</td>\n",
              "      <td>45.160000</td>\n",
              "      <td>45.160000</td>\n",
              "      <td>0.0</td>\n",
              "    </tr>\n",
              "    <tr>\n",
              "      <th>3792</th>\n",
              "      <td>2018-06-13</td>\n",
              "      <td>67.473000</td>\n",
              "      <td>67.910004</td>\n",
              "      <td>67.459999</td>\n",
              "      <td>67.910004</td>\n",
              "      <td>67.910004</td>\n",
              "      <td>0.0</td>\n",
              "    </tr>\n",
              "    <tr>\n",
              "      <th>2479</th>\n",
              "      <td>2013-05-31</td>\n",
              "      <td>56.283001</td>\n",
              "      <td>56.748001</td>\n",
              "      <td>56.283001</td>\n",
              "      <td>56.377998</td>\n",
              "      <td>56.377998</td>\n",
              "      <td>0.0</td>\n",
              "    </tr>\n",
              "  </tbody>\n",
              "</table>\n",
              "</div>\n",
              "      <button class=\"colab-df-convert\" onclick=\"convertToInteractive('df-3ab2a007-7cb9-4780-9188-08d2139c12ae')\"\n",
              "              title=\"Convert this dataframe to an interactive table.\"\n",
              "              style=\"display:none;\">\n",
              "        \n",
              "  <svg xmlns=\"http://www.w3.org/2000/svg\" height=\"24px\"viewBox=\"0 0 24 24\"\n",
              "       width=\"24px\">\n",
              "    <path d=\"M0 0h24v24H0V0z\" fill=\"none\"/>\n",
              "    <path d=\"M18.56 5.44l.94 2.06.94-2.06 2.06-.94-2.06-.94-.94-2.06-.94 2.06-2.06.94zm-11 1L8.5 8.5l.94-2.06 2.06-.94-2.06-.94L8.5 2.5l-.94 2.06-2.06.94zm10 10l.94 2.06.94-2.06 2.06-.94-2.06-.94-.94-2.06-.94 2.06-2.06.94z\"/><path d=\"M17.41 7.96l-1.37-1.37c-.4-.4-.92-.59-1.43-.59-.52 0-1.04.2-1.43.59L10.3 9.45l-7.72 7.72c-.78.78-.78 2.05 0 2.83L4 21.41c.39.39.9.59 1.41.59.51 0 1.02-.2 1.41-.59l7.78-7.78 2.81-2.81c.8-.78.8-2.07 0-2.86zM5.41 20L4 18.59l7.72-7.72 1.47 1.35L5.41 20z\"/>\n",
              "  </svg>\n",
              "      </button>\n",
              "      \n",
              "  <style>\n",
              "    .colab-df-container {\n",
              "      display:flex;\n",
              "      flex-wrap:wrap;\n",
              "      gap: 12px;\n",
              "    }\n",
              "\n",
              "    .colab-df-convert {\n",
              "      background-color: #E8F0FE;\n",
              "      border: none;\n",
              "      border-radius: 50%;\n",
              "      cursor: pointer;\n",
              "      display: none;\n",
              "      fill: #1967D2;\n",
              "      height: 32px;\n",
              "      padding: 0 0 0 0;\n",
              "      width: 32px;\n",
              "    }\n",
              "\n",
              "    .colab-df-convert:hover {\n",
              "      background-color: #E2EBFA;\n",
              "      box-shadow: 0px 1px 2px rgba(60, 64, 67, 0.3), 0px 1px 3px 1px rgba(60, 64, 67, 0.15);\n",
              "      fill: #174EA6;\n",
              "    }\n",
              "\n",
              "    [theme=dark] .colab-df-convert {\n",
              "      background-color: #3B4455;\n",
              "      fill: #D2E3FC;\n",
              "    }\n",
              "\n",
              "    [theme=dark] .colab-df-convert:hover {\n",
              "      background-color: #434B5C;\n",
              "      box-shadow: 0px 1px 3px 1px rgba(0, 0, 0, 0.15);\n",
              "      filter: drop-shadow(0px 1px 2px rgba(0, 0, 0, 0.3));\n",
              "      fill: #FFFFFF;\n",
              "    }\n",
              "  </style>\n",
              "\n",
              "      <script>\n",
              "        const buttonEl =\n",
              "          document.querySelector('#df-3ab2a007-7cb9-4780-9188-08d2139c12ae button.colab-df-convert');\n",
              "        buttonEl.style.display =\n",
              "          google.colab.kernel.accessAllowed ? 'block' : 'none';\n",
              "\n",
              "        async function convertToInteractive(key) {\n",
              "          const element = document.querySelector('#df-3ab2a007-7cb9-4780-9188-08d2139c12ae');\n",
              "          const dataTable =\n",
              "            await google.colab.kernel.invokeFunction('convertToInteractive',\n",
              "                                                     [key], {});\n",
              "          if (!dataTable) return;\n",
              "\n",
              "          const docLinkHtml = 'Like what you see? Visit the ' +\n",
              "            '<a target=\"_blank\" href=https://colab.research.google.com/notebooks/data_table.ipynb>data table notebook</a>'\n",
              "            + ' to learn more about interactive tables.';\n",
              "          element.innerHTML = '';\n",
              "          dataTable['output_type'] = 'display_data';\n",
              "          await google.colab.output.renderOutput(dataTable, element);\n",
              "          const docLink = document.createElement('div');\n",
              "          docLink.innerHTML = docLinkHtml;\n",
              "          element.appendChild(docLink);\n",
              "        }\n",
              "      </script>\n",
              "    </div>\n",
              "  </div>\n",
              "  "
            ]
          },
          "metadata": {},
          "execution_count": 17
        }
      ],
      "source": [
        "df.sample(frac = 0.001)"
      ]
    },
    {
      "cell_type": "markdown",
      "source": [
        "Checking for null values"
      ],
      "metadata": {
        "id": "DDgVibUEDlUQ"
      }
    },
    {
      "cell_type": "code",
      "source": [
        "df.isna().sum()"
      ],
      "metadata": {
        "colab": {
          "base_uri": "https://localhost:8080/"
        },
        "id": "7FIIjowsPxm1",
        "outputId": "899b968f-25f5-4b22-894c-6e47fcc37519"
      },
      "execution_count": 18,
      "outputs": [
        {
          "output_type": "execute_result",
          "data": {
            "text/plain": [
              "Date          0\n",
              "Open         32\n",
              "High         32\n",
              "Low          32\n",
              "Close        32\n",
              "Adj Close    32\n",
              "Volume       32\n",
              "dtype: int64"
            ]
          },
          "metadata": {},
          "execution_count": 18
        }
      ]
    },
    {
      "cell_type": "markdown",
      "source": [
        "Dropping rows containing null values"
      ],
      "metadata": {
        "id": "yhLLUbYVDpfZ"
      }
    },
    {
      "cell_type": "code",
      "execution_count": 19,
      "metadata": {
        "id": "xR_l7cFtW82k"
      },
      "outputs": [],
      "source": [
        "df.dropna(inplace = True)"
      ]
    },
    {
      "cell_type": "markdown",
      "source": [
        "## Making a baseline Linear Model"
      ],
      "metadata": {
        "id": "oDdPRpiTaZZ0"
      }
    },
    {
      "cell_type": "code",
      "execution_count": 20,
      "metadata": {
        "colab": {
          "base_uri": "https://localhost:8080/",
          "height": 295
        },
        "id": "-Tvic072NGh9",
        "outputId": "cc1d5ad4-37ef-498e-d75a-252534e9d399"
      },
      "outputs": [
        {
          "output_type": "display_data",
          "data": {
            "text/plain": [
              "<Figure size 432x288 with 1 Axes>"
            ],
            "image/png": "[encoded data removed]"
          },
          "metadata": {
            "needs_background": "light"
          }
        }
      ],
      "source": [
        "plt.xlabel('Time (in days)')                                                                            #Set label for x-axis\n",
        "plt.ylabel('USD($) in INR')                                                                             #Set label for y-axis\n",
        "plt.plot([i for i in range(len(df['Close']))], df['Close'], color = 'g')                                #Plot  the exchange rate vs time graph\n",
        "plt.title(f'USD to INR exchange rate({df[\"Date\"][0]} to {df[\"Date\"][len(df)]})', fontweight = 'bold')   #Set title for the plot\n",
        "plt.show()                                                                                              #Show the plot"
      ]
    },
    {
      "cell_type": "code",
      "execution_count": 21,
      "metadata": {
        "id": "rLVmBYfVOH3N"
      },
      "outputs": [],
      "source": [
        "from scipy.stats import linregress"
      ]
    },
    {
      "cell_type": "markdown",
      "source": [
        "Making linear model for the exchange rate"
      ],
      "metadata": {
        "id": "Y90vSY6ID5wR"
      }
    },
    {
      "cell_type": "code",
      "execution_count": 22,
      "metadata": {
        "id": "fejlDeQ5OM5M"
      },
      "outputs": [],
      "source": [
        "linear_model = linregress(df.index, df['Close'])"
      ]
    },
    {
      "cell_type": "markdown",
      "source": [
        "Below parameters define our linear model"
      ],
      "metadata": {
        "id": "DwYQB0vlEBoe"
      }
    },
    {
      "cell_type": "code",
      "execution_count": 23,
      "metadata": {
        "id": "GIm83MZtOo0F"
      },
      "outputs": [],
      "source": [
        "slope, intercept, rvalue, pvalue, stderr = linear_model"
      ]
    },
    {
      "cell_type": "markdown",
      "source": [
        "Plotting the predicted values and actual values for comparision"
      ],
      "metadata": {
        "id": "Z3uESUvSEUG3"
      }
    },
    {
      "cell_type": "code",
      "execution_count": 24,
      "metadata": {
        "colab": {
          "base_uri": "https://localhost:8080/",
          "height": 279
        },
        "id": "S123n2eFOy47",
        "outputId": "3a0951fc-d5f7-4618-b63d-a9e2844da8ba"
      },
      "outputs": [
        {
          "output_type": "display_data",
          "data": {
            "text/plain": [
              "<Figure size 432x288 with 1 Axes>"
            ],
            "image/png": "[encoded data removed]"
          },
          "metadata": {
            "needs_background": "light"
          }
        }
      ],
      "source": [
        "plt.xlabel('Time (in days)')                                                                            #Set label for x-axis \n",
        "plt.ylabel('Cost of US Dollar in Rupee')                                                                #Set label for y-axis\n",
        "plt.plot(df.index, df['Close'], label = 'Actual', color = 'g')                                          #Plot the actual exchange rate vs time graph\n",
        "#slope*df.index + intercept gives the predicted value for the day indicated by df.index\n",
        "plt.plot(df.index,  slope*df.index + intercept, label = 'Predicted', color = 'b')                       #Plot the predicted exchange rate vs time graph\n",
        "plt.legend()                                                                                            #Display legend bar\n",
        "plt.show()                                                                                              #Show the plot"
      ]
    },
    {
      "cell_type": "markdown",
      "source": [
        "np.absolute(df['Close'] - slope*df.index - intercept) calculates the absolute difference between predicted and actual values. The mean of these differences gives the average error in our predictions"
      ],
      "metadata": {
        "id": "qvqnB6xbENN_"
      }
    },
    {
      "cell_type": "code",
      "source": [
        "print('Baseline absolute error : ', np.absolute(df['Close'] - slope*df.index - intercept).mean())"
      ],
      "metadata": {
        "colab": {
          "base_uri": "https://localhost:8080/"
        },
        "id": "N5giDx-Ye2NK",
        "outputId": "5de9679f-6dc1-4d3d-b3e3-268c51af512b"
      },
      "execution_count": 25,
      "outputs": [
        {
          "output_type": "stream",
          "name": "stdout",
          "text": [
            "Baseline absolute error :  2.972667821651601\n"
          ]
        }
      ]
    },
    {
      "cell_type": "markdown",
      "source": [
        "## Preparing data for LSTM Model"
      ],
      "metadata": {
        "id": "0sJvD8wXa22F"
      }
    },
    {
      "cell_type": "markdown",
      "source": [
        "Splitting the dataset into training and testing sets"
      ],
      "metadata": {
        "id": "NQgG6alhC-8T"
      }
    },
    {
      "cell_type": "code",
      "execution_count": 26,
      "metadata": {
        "id": "Ea8QlAF5SMaM"
      },
      "outputs": [],
      "source": [
        "train_df = df[:3500]\n",
        "test_df = df[3500:]"
      ]
    },
    {
      "cell_type": "markdown",
      "source": [
        "Define a function which splits our data into proper input and output time steps, which can suitably be fed to LSTM model"
      ],
      "metadata": {
        "id": "iP_jCkwwEi7u"
      }
    },
    {
      "cell_type": "code",
      "execution_count": 27,
      "metadata": {
        "id": "q-hQUbw9UBoe"
      },
      "outputs": [],
      "source": [
        "def split_sequence_LSTM(sequence, input_time_steps, output_time_steps = 1):\n",
        "    '''\n",
        "       Function takes a time-series, no. of time steps in input data, and no. of time steps in label data as input\n",
        "       It returns numpy arrays of LSTM input data and LSTM labels\n",
        "    '''\n",
        "    X, y = [], []                                                                               #Initialising the lists which will store the input and output time steps respectively.\n",
        "\n",
        "    for i in range(len(sequence)):\n",
        "        if i + input_time_steps + output_time_steps > len(sequence):                            #If no more data is available for output steps, break out of the loop.\n",
        "            break\n",
        "        X.append(sequence[i : i + input_time_steps])                                            #Appending a list of values which is an input sequence.\n",
        "        y.append(sequence[i + input_time_steps : i + input_time_steps + output_time_steps])     #Appending a list of values which is an output sequence.\n",
        "    \n",
        "    X = np.array(X)                                                                             #Converting the list of input sequences into 1D np array of sequences, i.e., a 2D np array.\n",
        "    X = X.reshape(X.shape[0], X.shape[1], 1)                                                    #Broadcasting 2D np array into 3D numpy array. This is only a requirement for LSTM and no change occurs to size of sequences of no. of sequences.\n",
        "\n",
        "    y = np.array(y)                                                                             #Converting the list of output sequences into 1D np array of sequences, i.e., a 2D np array.\n",
        "    \n",
        "    return X, y"
      ]
    },
    {
      "cell_type": "markdown",
      "source": [
        "Converting pandas Dataframe column to numpy array, since keras models accept only numpy arrays, for the current version."
      ],
      "metadata": {
        "id": "X4MhZA0KE1Bm"
      }
    },
    {
      "cell_type": "code",
      "execution_count": 28,
      "metadata": {
        "id": "7z6egsVcSy6-"
      },
      "outputs": [],
      "source": [
        "train = train_df['Close'].to_numpy()"
      ]
    },
    {
      "cell_type": "markdown",
      "source": [
        "Converting training values to between -1 and 1"
      ],
      "metadata": {
        "id": "RfqIbeSIHloJ"
      }
    },
    {
      "cell_type": "code",
      "execution_count": 29,
      "metadata": {
        "id": "CNj6W2-aH28k"
      },
      "outputs": [],
      "source": [
        "train = (train.mean() - train)/train.mean()"
      ]
    },
    {
      "cell_type": "markdown",
      "source": [
        "Spliiting the training dataset into input and target datasets"
      ],
      "metadata": {
        "id": "FwCsO3VzH6VW"
      }
    },
    {
      "cell_type": "code",
      "execution_count": 30,
      "metadata": {
        "id": "71mkjENuVEcV"
      },
      "outputs": [],
      "source": [
        "X_train, y_train = split_sequence_LSTM(train, 175)"
      ]
    },
    {
      "cell_type": "markdown",
      "source": [
        "Verifying the shape of input and target datasets"
      ],
      "metadata": {
        "id": "kaRKYKyFIMDW"
      }
    },
    {
      "cell_type": "code",
      "execution_count": 31,
      "metadata": {
        "id": "pvtWbSlwVuJV",
        "colab": {
          "base_uri": "https://localhost:8080/"
        },
        "outputId": "eca9e8a1-0daf-4257-f25b-9939acbd9b45"
      },
      "outputs": [
        {
          "output_type": "execute_result",
          "data": {
            "text/plain": [
              "((3325, 175, 1), (3325, 1))"
            ]
          },
          "metadata": {},
          "execution_count": 31
        }
      ],
      "source": [
        "X_train.shape, y_train.shape"
      ]
    },
    {
      "cell_type": "markdown",
      "source": [
        "## Single-step LSTM model -- Forecasting for a day"
      ],
      "metadata": {
        "id": "f5WD37IpbGPK"
      }
    },
    {
      "cell_type": "code",
      "execution_count": 32,
      "metadata": {
        "id": "iFuLKbTxQKmt",
        "colab": {
          "base_uri": "https://localhost:8080/"
        },
        "outputId": "e87cacde-4a5e-4780-e6ba-d336b74344d0"
      },
      "outputs": [
        {
          "output_type": "stream",
          "name": "stdout",
          "text": [
            "Epoch 1/3\n",
            "104/104 [==============================] - 8s 65ms/step - loss: 0.0034 - mean_squared_error: 0.0034\n",
            "Epoch 2/3\n",
            "104/104 [==============================] - 7s 65ms/step - loss: 8.8120e-05 - mean_squared_error: 8.8120e-05\n",
            "Epoch 3/3\n",
            "104/104 [==============================] - 8s 73ms/step - loss: 8.3027e-05 - mean_squared_error: 8.3027e-05\n"
          ]
        },
        {
          "output_type": "execute_result",
          "data": {
            "text/plain": [
              "<keras.callbacks.History at 0x7f7b9f2cf550>"
            ]
          },
          "metadata": {},
          "execution_count": 32
        }
      ],
      "source": [
        "single_step_model = Sequential()                                                                               #Defining the model as Sequential\n",
        "# single_step_model.add(Embedding(3325, 128, input_length = 175, ))\n",
        "# single_step_model.add(LeakyReLU(0.2))\n",
        "# single_step_model.add(LSTM(128, activation = 'relu', input_shape = (175, 1)))\n",
        "# single_step_model.add(LSTM(32, return_sequences = True))\n",
        "# single_step_model.add(LSTM(64, return_sequences = False))\n",
        "single_step_model.add(LSTM(50, activation='relu', input_shape=(175, 1)))                                       #Adding LSTM layer with 50 dimensions\n",
        "single_step_model.add(Dense(1))                                                                                #Adding a Dense layer, which gives out one value(i.e., the prediction)\n",
        "single_step_model.compile(loss = 'mean_squared_error', optimizer = 'adam', metrics = 'mean_squared_error')     #Compiling the model\n",
        "single_step_model.fit(X_train, y_train, epochs = 3)                                                            #Training the model on our input and target datasets"
      ]
    },
    {
      "cell_type": "markdown",
      "source": [
        "Predicting values on the training input dataset. "
      ],
      "metadata": {
        "id": "ONwKgiLgJzY3"
      }
    },
    {
      "cell_type": "code",
      "execution_count": 33,
      "metadata": {
        "id": "-SJf3sLC7yXK"
      },
      "outputs": [],
      "source": [
        "preds = single_step_model.predict(X_train)"
      ]
    },
    {
      "cell_type": "markdown",
      "source": [
        "Comparing the predictions on training data and targets of training data using a plot"
      ],
      "metadata": {
        "id": "p6k2s_m7J1jS"
      }
    },
    {
      "cell_type": "code",
      "execution_count": 34,
      "metadata": {
        "id": "FI43Dc3UJ2a1",
        "colab": {
          "base_uri": "https://localhost:8080/",
          "height": 295
        },
        "outputId": "0a4c0ac3-7733-46d4-89e8-eb8a33d4b6aa"
      },
      "outputs": [
        {
          "output_type": "display_data",
          "data": {
            "text/plain": [
              "<Figure size 432x288 with 1 Axes>"
            ],
            "image/png": "[encoded data removed]"
          },
          "metadata": {
            "needs_background": "light"
          }
        }
      ],
      "source": [
        "plt.xlabel('Time (in days)')                                                                                                         #Set label for x-axis\n",
        "plt.ylabel('Cost of US Dollar in Rupee')                                                                                             #Set label for y-axis\n",
        "#-(y_train*train_df['Close'].mean()) + train_df['Close'].mean() gives the value in range of y_train\n",
        "plt.plot([i for i in range(3325)], -(y_train*train_df['Close'].mean()) + train_df['Close'].mean(), label = 'Actual', color = 'g')    #Plot the actual exchange rate vs time graph\n",
        "#-(preds*train_df['Close'].mean()) + train_df['Close'].mean() gives the predicted value in range of y_train\n",
        "plt.plot([i for i in range(3325)], -(preds*train_df['Close'].mean()) + train_df['Close'].mean(), label = 'Predicted', color = 'b')   #Plot the predicted exchange rate vs time graph\n",
        "plt.legend()                                                                                                                         #Display legend box\n",
        "plt.title('Single-step LSTM on Training data', fontweight = 'bold')                                                                  #Set title for the plot\n",
        "plt.show()                                                                                                                           #Show the plot"
      ]
    },
    {
      "cell_type": "markdown",
      "source": [
        "Converting pandas Dataframe column to numpy array, since keras models accept only numpy arrays, for the current version."
      ],
      "metadata": {
        "id": "G98diKGgKGJE"
      }
    },
    {
      "cell_type": "code",
      "source": [
        "test = test_df['Close'].to_numpy()"
      ],
      "metadata": {
        "id": "0PAbpSL5ZMdN"
      },
      "execution_count": 35,
      "outputs": []
    },
    {
      "cell_type": "markdown",
      "source": [
        "Converting testing values to between -1 and 1"
      ],
      "metadata": {
        "id": "QukmDGHYKxDb"
      }
    },
    {
      "cell_type": "code",
      "source": [
        "test = (test.mean() - test)/test.mean()"
      ],
      "metadata": {
        "id": "fW9v_vFuZXK1"
      },
      "execution_count": 36,
      "outputs": []
    },
    {
      "cell_type": "markdown",
      "source": [
        "Spliiting the testing dataset into input and target datasets"
      ],
      "metadata": {
        "id": "CgnugHK3K37p"
      }
    },
    {
      "cell_type": "code",
      "source": [
        "X_test, y_test = split_sequence_LSTM(test, 175)\n",
        "X_test = X_test.reshape(X_test.shape[0], X_test.shape[1], 1)"
      ],
      "metadata": {
        "id": "74hUiOdQZp3U"
      },
      "execution_count": 37,
      "outputs": []
    },
    {
      "cell_type": "markdown",
      "source": [
        "Predicting values on the testing input dataset."
      ],
      "metadata": {
        "id": "gD263-oaLJzi"
      }
    },
    {
      "cell_type": "code",
      "source": [
        "test_preds = single_step_model.predict(X_test)"
      ],
      "metadata": {
        "id": "DDteWGLZZlIF"
      },
      "execution_count": 38,
      "outputs": []
    },
    {
      "cell_type": "markdown",
      "source": [
        "Comparing the predictions on testing data and targets in testing data using a plot"
      ],
      "metadata": {
        "id": "whVKQvSILaRr"
      }
    },
    {
      "cell_type": "code",
      "source": [
        "plt.xlabel('Time (in days)')                                                                                                                          #Set label for x-axis\n",
        "plt.ylabel('Cost of US Dollar in Rupee')                                                                                                              #Set label for y-axis\n",
        "#-(y_test*test_df['Close'].mean()) + test_df['Close'].mean() gives the value in range of y_test                \n",
        "plt.plot([i for i in range(len(df)-3500 - 175)], -(y_test*test_df['Close'].mean()) + test_df['Close'].mean(), label = 'Actual', color = 'g')          #Plot the actual exchange rate vs time graph\n",
        "#-(preds*test_df['Close'].mean()) + test_df['Close'].mean() gives the predicted value in range of y_test\n",
        "plt.plot([i for i in range(len(df)-3500 - 175)], -(test_preds*test_df['Close'].mean()) + test_df['Close'].mean(), label = 'Predicted', color = 'b')   #Plot the predicted exchange rate vs time graph\n",
        "plt.legend()                                                                                                                                          #Display legend box\n",
        "plt.title('Single-step LSTM on Testing data', fontweight = 'bold')                                                                                    #Set title for the plot\n",
        "plt.show()                                                                                                                                            #Show the plot"
      ],
      "metadata": {
        "id": "gsR9-iY9Z4Nc",
        "colab": {
          "base_uri": "https://localhost:8080/",
          "height": 295
        },
        "outputId": "d6e3de60-8d3d-4289-f7c2-9ea5e39351bb"
      },
      "execution_count": 39,
      "outputs": [
        {
          "output_type": "display_data",
          "data": {
            "text/plain": [
              "<Figure size 432x288 with 1 Axes>"
            ],
            "image/png": "[encoded data removed]"
          },
          "metadata": {
            "needs_background": "light"
          }
        }
      ]
    },
    {
      "cell_type": "markdown",
      "source": [
        "Mean absolute error on training dataset"
      ],
      "metadata": {
        "id": "7eOZvMRQnD9Y"
      }
    },
    {
      "cell_type": "code",
      "source": [
        "np.absolute(preds - y_train).mean()"
      ],
      "metadata": {
        "id": "QTDLg0s8nIug",
        "colab": {
          "base_uri": "https://localhost:8080/"
        },
        "outputId": "4774b47a-dc33-47cd-f067-2545c9f2c206"
      },
      "execution_count": 40,
      "outputs": [
        {
          "output_type": "execute_result",
          "data": {
            "text/plain": [
              "0.00585281346416871"
            ]
          },
          "metadata": {},
          "execution_count": 40
        }
      ]
    },
    {
      "cell_type": "markdown",
      "source": [
        "Mean absolute error on testing dataset"
      ],
      "metadata": {
        "id": "QblmEEzLnwWm"
      }
    },
    {
      "cell_type": "code",
      "source": [
        "np.absolute(test_preds - y_test).mean()"
      ],
      "metadata": {
        "id": "c0KfVAdpc0Ks",
        "colab": {
          "base_uri": "https://localhost:8080/"
        },
        "outputId": "0a825e1a-263a-478f-fe48-cc9aaa300f25"
      },
      "execution_count": 41,
      "outputs": [
        {
          "output_type": "execute_result",
          "data": {
            "text/plain": [
              "0.005063637771122955"
            ]
          },
          "metadata": {},
          "execution_count": 41
        }
      ]
    },
    {
      "cell_type": "markdown",
      "source": [
        "## Multi-step LSTM Model -- Forecasting for a week"
      ],
      "metadata": {
        "id": "sLbsK2IRTZr1"
      }
    },
    {
      "cell_type": "markdown",
      "source": [
        "Spliiting the training dataset into input and target datasets"
      ],
      "metadata": {
        "id": "1GvEFNgLMIAF"
      }
    },
    {
      "cell_type": "code",
      "source": [
        "X_train, y_train = split_sequence_LSTM(train, 250, 7)"
      ],
      "metadata": {
        "id": "_CG84rpuc5BC"
      },
      "execution_count": 42,
      "outputs": []
    },
    {
      "cell_type": "markdown",
      "source": [
        "Verify the shape of input and target datasets"
      ],
      "metadata": {
        "id": "Kql5bPXYMNal"
      }
    },
    {
      "cell_type": "code",
      "source": [
        "X_train.shape, y_train.shape"
      ],
      "metadata": {
        "colab": {
          "base_uri": "https://localhost:8080/"
        },
        "id": "De1nThXOTJ95",
        "outputId": "cfc02cc7-4444-49df-aae2-c65107e45258"
      },
      "execution_count": 43,
      "outputs": [
        {
          "output_type": "execute_result",
          "data": {
            "text/plain": [
              "((3244, 250, 1), (3244, 7))"
            ]
          },
          "metadata": {},
          "execution_count": 43
        }
      ]
    },
    {
      "cell_type": "markdown",
      "source": [
        "Define a custom optimizer function with learning_rate = 1.0 (not 0.1), epsilon = 0.1 (not 1e-8), clipnorm = 1.0 (not None),"
      ],
      "metadata": {
        "id": "ItxfalYCMWwV"
      }
    },
    {
      "cell_type": "code",
      "source": [
        "opt = tf.keras.optimizers.Adam(learning_rate = 1.0, beta_1 = 0.9, beta_2 = 0.999, epsilon = 0.1, decay = 0.0, clipnorm = 1.0)"
      ],
      "metadata": {
        "id": "iBouN5qJ9dm1"
      },
      "execution_count": 44,
      "outputs": []
    },
    {
      "cell_type": "markdown",
      "source": [
        "Making a multi-step LSTM model."
      ],
      "metadata": {
        "id": "9VX6vlnuM_9b"
      }
    },
    {
      "cell_type": "code",
      "source": [
        "multi_step_model = Sequential()                                                                               #Defining the model as Sequential\n",
        "multi_step_model.add(LSTM(128, activation='relu', input_shape=(250, 1)))                                      #Adding LSTM layer with 128 dimensions\n",
        "multi_step_model.add(Dense(7))                                                                                #Adding a Dense layer, which gives out 7 values(the predictions)\n",
        "multi_step_model.compile(loss = 'mean_squared_error', optimizer = opt, metrics = 'mean_squared_error')        #Compiling the model\n",
        "multi_step_model.fit(X_train, y_train, epochs = 3)                                                            #Training the model on our input and target datasets"
      ],
      "metadata": {
        "colab": {
          "base_uri": "https://localhost:8080/"
        },
        "id": "_I5KDb0KhKVg",
        "outputId": "bc0ef045-b496-4fa2-8dc8-d5b7df1b3122"
      },
      "execution_count": 45,
      "outputs": [
        {
          "output_type": "stream",
          "name": "stdout",
          "text": [
            "Epoch 1/3\n",
            "102/102 [==============================] - 22s 200ms/step - loss: 0.0055 - mean_squared_error: 0.0055\n",
            "Epoch 2/3\n",
            "102/102 [==============================] - 20s 192ms/step - loss: 2.1956e-04 - mean_squared_error: 2.1956e-04\n",
            "Epoch 3/3\n",
            "102/102 [==============================] - 20s 193ms/step - loss: 2.0391e-04 - mean_squared_error: 2.0391e-04\n"
          ]
        },
        {
          "output_type": "execute_result",
          "data": {
            "text/plain": [
              "<keras.callbacks.History at 0x7f7b9f0111d0>"
            ]
          },
          "metadata": {},
          "execution_count": 45
        }
      ]
    },
    {
      "cell_type": "markdown",
      "source": [
        "Predicting values on the training input dataset."
      ],
      "metadata": {
        "id": "K-LnMr-GNUat"
      }
    },
    {
      "cell_type": "code",
      "source": [
        "preds = multi_step_model.predict(X_train)"
      ],
      "metadata": {
        "id": "tjILIbtKjYdf"
      },
      "execution_count": 46,
      "outputs": []
    },
    {
      "cell_type": "markdown",
      "source": [
        "Verifying the shape of prediction dataset"
      ],
      "metadata": {
        "id": "gIVbdDoEN3Kj"
      }
    },
    {
      "cell_type": "code",
      "source": [
        "preds.shape"
      ],
      "metadata": {
        "colab": {
          "base_uri": "https://localhost:8080/"
        },
        "id": "fMr5YKAoTRa3",
        "outputId": "3ba07187-740e-4dd7-ed6e-94c772dd3d32"
      },
      "execution_count": 47,
      "outputs": [
        {
          "output_type": "execute_result",
          "data": {
            "text/plain": [
              "(3244, 7)"
            ]
          },
          "metadata": {},
          "execution_count": 47
        }
      ]
    },
    {
      "cell_type": "markdown",
      "source": [
        "Comparing the predictions on training data and targets in training data using a plot for a week"
      ],
      "metadata": {
        "id": "4Pu9Ok_aPohf"
      }
    },
    {
      "cell_type": "code",
      "source": [
        "random_number = random.randint(0, preds.shape[0])                                                                                                     #Generating a random number from the total range\n",
        "plt.xlabel('Time (in days)')                                                                                                                          #Set label for x-axis\n",
        "plt.ylabel('Cost of US Dollar in Rupee')                                                                                                              #Set label for y-axis\n",
        "#-(y_train[random_number]*train_df['Close'].mean()) + train_df['Close'].mean() gives the value in range of y_train \n",
        "plt.plot([i for i in range(7)], (y_train[random_number]*train_df['Close'].mean()) + train_df['Close'].mean(), label = 'Actual', color = 'g')          #Plot the actual exchange rate vs time graph\n",
        "#-(preds[random_number]*train_df['Close'].mean()) + train_df['Close'].mean() gives the value in range of y_train \n",
        "plt.plot([i for i in range(7)], (preds[random_number]*train_df['Close'].mean()) + train_df['Close'].mean(), label = 'Predicted', color = 'b')         #Plot the predicted exchange rate vs time graph\n",
        "plt.xlim([0,6])                                                                                                                                       #Set x limit to plot\n",
        "plt.ylim([((y_train[random_number]*train_df['Close'].mean()) + train_df['Close'].mean()).min() - 5, ((y_train[random_number]*train_df['Close'].mean()) + train_df['Close'].mean()).max() + 5])   #Set y limit to plot\n",
        "plt.legend()                                                                                                                                          #Display legend box\n",
        "plt.title('Week forecast on training data', fontweight = 'bold')                                                                                      #Set title for the plot\n",
        "plt.show()                                                                                                                                            #Show the plot"
      ],
      "metadata": {
        "colab": {
          "base_uri": "https://localhost:8080/",
          "height": 295
        },
        "id": "dGmCJZnBjtIP",
        "outputId": "677c8e00-0b84-463b-d159-e03a49e3a20a"
      },
      "execution_count": 48,
      "outputs": [
        {
          "output_type": "display_data",
          "data": {
            "text/plain": [
              "<Figure size 432x288 with 1 Axes>"
            ],
            "image/png": "[encoded data removed]"
          },
          "metadata": {
            "needs_background": "light"
          }
        }
      ]
    },
    {
      "cell_type": "markdown",
      "source": [
        "Now, we select sequences from predicted data such that each week is covered fully and no data point is redundant"
      ],
      "metadata": {
        "id": "IYacE6G_gxkX"
      }
    },
    {
      "cell_type": "code",
      "source": [
        "whole_preds = np.array([preds[i] for i in range(0, preds.shape[0], 7)], dtype = 'object')"
      ],
      "metadata": {
        "id": "TOv_s_5LVVQp"
      },
      "execution_count": 49,
      "outputs": []
    },
    {
      "cell_type": "markdown",
      "source": [
        "Converting the week sequences into a flat array"
      ],
      "metadata": {
        "id": "0m_MZvCchSNP"
      }
    },
    {
      "cell_type": "code",
      "source": [
        "whole_preds = whole_preds.reshape(whole_preds.shape[0]*7)"
      ],
      "metadata": {
        "id": "h2JB_QS9VxIi"
      },
      "execution_count": 50,
      "outputs": []
    },
    {
      "cell_type": "markdown",
      "source": [
        "Some of the data points are missed in the process, which is reflected by difference in sizes of the datasets"
      ],
      "metadata": {
        "id": "tMKRXpfGhbqV"
      }
    },
    {
      "cell_type": "code",
      "source": [
        "len(whole_preds), len(train)"
      ],
      "metadata": {
        "colab": {
          "base_uri": "https://localhost:8080/"
        },
        "id": "pRS_AhQAg09A",
        "outputId": "3d1ec355-fb6e-40d3-f3e8-d3edc53ff8db"
      },
      "execution_count": 51,
      "outputs": [
        {
          "output_type": "execute_result",
          "data": {
            "text/plain": [
              "(3248, 3500)"
            ]
          },
          "metadata": {},
          "execution_count": 51
        }
      ]
    },
    {
      "cell_type": "markdown",
      "source": [
        "Comparing the predictions on training data and targets in training data using a plot"
      ],
      "metadata": {
        "id": "vmNNofeMT2AN"
      }
    },
    {
      "cell_type": "code",
      "source": [
        "plt.xlabel('Time (in days)')                                                                                                                                              #Set label for x-axis\n",
        "plt.ylabel('Dollar in INR')                                                                                                                                               #Set label for y-axis\n",
        "#(-1)*(train*train_df['Close'].mean()) + train_df['Close'].mean() gives the value in range of train_df['Close']\n",
        "plt.plot([i for i in range(len(whole_preds))], ((-1)*train[250:len(whole_preds) + 250]*train_df['Close'].mean()) + train_df['Close'].mean(), label = 'Actual', color = 'g')   #Plot the actual exchange rate vs time graph\n",
        "#(-1)*(whole_preds*train_df['Close'].mean()) + train_df['Close'].mean() gives the value in range of train_df['Close']\n",
        "plt.plot([i for i in range(len(whole_preds))], ((-1)*whole_preds*train_df['Close'].mean()) + train_df['Close'].mean(), label = 'Predicted', color = 'b')                  #Plot the predicted exchange rate vs time graph\n",
        "plt.xlim([0, len(whole_preds)])                                                                                                                                           #Set x limit to plot\n",
        "plt.legend()                                                                                                                                                              #Display legend box       \n",
        "plt.title('Multi-step LSTM on Training data', fontweight = 'bold')                                                                                                        #Set title for the plot\n",
        "plt.show()                                                                                                                                                                #Show the plot"
      ],
      "metadata": {
        "colab": {
          "base_uri": "https://localhost:8080/",
          "height": 295
        },
        "id": "b488mwadWipt",
        "outputId": "1c4d3adf-908b-4adc-c7b2-8dc1977bb33e"
      },
      "execution_count": 52,
      "outputs": [
        {
          "output_type": "display_data",
          "data": {
            "text/plain": [
              "<Figure size 432x288 with 1 Axes>"
            ],
            "image/png": "[encoded data removed]"
          },
          "metadata": {
            "needs_background": "light"
          }
        }
      ]
    },
    {
      "cell_type": "markdown",
      "source": [
        "Converting pandas Dataframe column to numpy array, since keras models accept only numpy arrays, for the current version."
      ],
      "metadata": {
        "id": "5a-nySe0gKev"
      }
    },
    {
      "cell_type": "code",
      "source": [
        "test = test_df['Close'].to_numpy()"
      ],
      "metadata": {
        "id": "M_oRqyqygMog"
      },
      "execution_count": 53,
      "outputs": []
    },
    {
      "cell_type": "markdown",
      "source": [
        "Converting testing values to between -1 and 1"
      ],
      "metadata": {
        "id": "1dzBlV8GgKew"
      }
    },
    {
      "cell_type": "code",
      "source": [
        "test = (test.mean() - test)/test.mean()"
      ],
      "metadata": {
        "id": "LphWlI92gBoZ"
      },
      "execution_count": 54,
      "outputs": []
    },
    {
      "cell_type": "markdown",
      "source": [
        "Spliiting the training dataset into input and target datasets"
      ],
      "metadata": {
        "id": "dtuwiZQuf9D5"
      }
    },
    {
      "cell_type": "code",
      "source": [
        "X_test, y_test = split_sequence_LSTM(test, 250, 7)"
      ],
      "metadata": {
        "id": "n31MsHe4Xxwy"
      },
      "execution_count": 55,
      "outputs": []
    },
    {
      "cell_type": "markdown",
      "source": [
        "Verify the shape of input and target datasets"
      ],
      "metadata": {
        "id": "TLwrD5TUggG3"
      }
    },
    {
      "cell_type": "code",
      "source": [
        "X_test.shape, y_test.shape"
      ],
      "metadata": {
        "colab": {
          "base_uri": "https://localhost:8080/"
        },
        "id": "xnnRLG16YuJM",
        "outputId": "d988f4fd-9c07-4630-89c0-f3082900a50d"
      },
      "execution_count": 56,
      "outputs": [
        {
          "output_type": "execute_result",
          "data": {
            "text/plain": [
              "((1036, 250, 1), (1036, 7))"
            ]
          },
          "metadata": {},
          "execution_count": 56
        }
      ]
    },
    {
      "cell_type": "markdown",
      "source": [
        "Predicting values on the testing input dataset."
      ],
      "metadata": {
        "id": "qaBjGZCDggG4"
      }
    },
    {
      "cell_type": "code",
      "source": [
        "test_preds = multi_step_model.predict(X_test)"
      ],
      "metadata": {
        "id": "gVyDAMaFX_Bq"
      },
      "execution_count": 57,
      "outputs": []
    },
    {
      "cell_type": "markdown",
      "source": [
        "Verifying the shape of prediction dataset"
      ],
      "metadata": {
        "id": "QOuGLc1rggG4"
      }
    },
    {
      "cell_type": "code",
      "source": [
        "test_preds.shape"
      ],
      "metadata": {
        "colab": {
          "base_uri": "https://localhost:8080/"
        },
        "id": "1LejM2rZYlO0",
        "outputId": "b0166d41-6605-4bd9-9311-fe6528f0785a"
      },
      "execution_count": 58,
      "outputs": [
        {
          "output_type": "execute_result",
          "data": {
            "text/plain": [
              "(1036, 7)"
            ]
          },
          "metadata": {},
          "execution_count": 58
        }
      ]
    },
    {
      "cell_type": "markdown",
      "source": [
        "Comparing the predictions on training data and targets in training data using a plot for a week"
      ],
      "metadata": {
        "id": "jwLV3p7mggG4"
      }
    },
    {
      "cell_type": "code",
      "source": [
        "random_number = random.randint(0, test_preds.shape[0])                                                                                                     #Generating a random number from the total range\n",
        "plt.xlabel('Time (in days)')                                                                                                                               #Set label for x-axis\n",
        "plt.ylabel('Cost of US Dollar in Rupee')                                                                                                                   #Set label for y-axis\n",
        "#(-1)*(y_test[random_number]*test_df['Close'].mean()) + test_df['Close'].mean() gives the value in range of test_df['Close']\n",
        "plt.plot([i for i in range(7)], (-1)*(y_test[random_number]*test_df['Close'].mean()) + test_df['Close'].mean(), label = 'Actual', color = 'g')             #Plot the actual exchange rate vs time graph\n",
        "#(-1)*(test_preds[random_number-1]*test_df['Close'].mean()) + test_df['Close'].mean() gives the value in range of test_df['Close']\n",
        "plt.plot([i for i in range(7)], (-1)*(test_preds[random_number-1]*test_df['Close'].mean()) + test_df['Close'].mean(), label = 'Predicted', color = 'b')    #Plot the predicted exchange rate vs time graph\n",
        "plt.xlim([0,6])                                                                                                                                            #Set x limit to plot\n",
        "plt.ylim([((y_test[random_number]*test_df['Close'].mean()) + test_df['Close'].mean()).min() - 3, ((y_test[random_number]*test_df['Close'].mean()) + test_df['Close'].mean()).max() + 3])   #Set y limit to plot\n",
        "plt.legend()                                                                                                                                               #Display legend box\n",
        "plt.title('Week forecast on testing data', fontweight = 'bold')                                                                                            #Set title for the plot\n",
        "plt.show()                                                                                                                                                 #Show the plot"
      ],
      "metadata": {
        "colab": {
          "base_uri": "https://localhost:8080/",
          "height": 295
        },
        "id": "bKB9tf4cYOPz",
        "outputId": "c05b4d33-5f5c-4f41-cf0a-8eb226fcb9cb"
      },
      "execution_count": 59,
      "outputs": [
        {
          "output_type": "display_data",
          "data": {
            "text/plain": [
              "<Figure size 432x288 with 1 Axes>"
            ],
            "image/png": "[encoded data removed]"
          },
          "metadata": {
            "needs_background": "light"
          }
        }
      ]
    },
    {
      "cell_type": "markdown",
      "source": [
        "Now, we select sequences from predicted data such that each week is covered fully and no data point is redundant"
      ],
      "metadata": {
        "id": "9YCr1kImiZJb"
      }
    },
    {
      "cell_type": "code",
      "source": [
        "whole_test_preds = np.array([test_preds[i] for i in range(0, test_preds.shape[0], 7)], dtype = 'object')"
      ],
      "metadata": {
        "id": "4eWoQkvYYc_K"
      },
      "execution_count": 60,
      "outputs": []
    },
    {
      "cell_type": "markdown",
      "source": [
        "Converting the week sequences into a flat array"
      ],
      "metadata": {
        "id": "LIcmQgVoiZJq"
      }
    },
    {
      "cell_type": "code",
      "source": [
        "whole_test_preds = whole_test_preds.reshape(whole_test_preds.shape[0]*7)"
      ],
      "metadata": {
        "id": "vi7lcgLmZAkL"
      },
      "execution_count": 61,
      "outputs": []
    },
    {
      "cell_type": "markdown",
      "source": [
        "Some of the data points are missed in the process, which is reflected by difference in sizes of the datasets"
      ],
      "metadata": {
        "id": "ohCWRWyZiZJq"
      }
    },
    {
      "cell_type": "code",
      "source": [
        "whole_test_preds.shape, test.shape"
      ],
      "metadata": {
        "colab": {
          "base_uri": "https://localhost:8080/"
        },
        "id": "OImp0F1kiw43",
        "outputId": "4d1717e5-9706-42d2-f2bc-c9c84217a098"
      },
      "execution_count": 62,
      "outputs": [
        {
          "output_type": "execute_result",
          "data": {
            "text/plain": [
              "((1036,), (1292,))"
            ]
          },
          "metadata": {},
          "execution_count": 62
        }
      ]
    },
    {
      "cell_type": "markdown",
      "source": [
        "Comparing the predictions on training data and targets in training data using a plot"
      ],
      "metadata": {
        "id": "y6ifB3rpggG5"
      }
    },
    {
      "cell_type": "code",
      "source": [
        "plt.xlabel('Time (in days)')                                                                                                                                             #Set label for x-axis\n",
        "plt.ylabel('Dollar in INR')                                                                                                                                              #Set label for y-axis\n",
        "#((-1)*test[250:len(whole_test_preds)]*test_df['Close'].mean()) + test_df['Close'].mean() gives the value in range of test_df['Close']\n",
        "plt.plot([i for i in range(len(whole_test_preds))], ((-1)*test[250:len(whole_test_preds) + 250]*test_df['Close'].mean()) + test_df['Close'].mean(), label = 'Actual', color = 'g')     #Plot the actual exchange rate vs time graph\n",
        "#((-1)*whole_test_preds*test_df['Close'].mean()) + test_df['Close'].mean() gives the value in range of test_df['Close']\n",
        "plt.plot([i for i in range(len(whole_test_preds))], ((-1)*whole_test_preds*test_df['Close'].mean()) + test_df['Close'].mean(), label = 'Predicted', color = 'b')         #Plot the predicted exchange rate vs time graph\n",
        "plt.xlim([0, len(test) - 250])                                                                                                                                           #Set x limit to plot\n",
        "plt.ylim([60, 80])                                                                                                                                                       #Set y limit to plot\n",
        "plt.legend()                                                                                                                                                             #Display legend box\n",
        "plt.title('Multi-step LSTM on Testing data', fontweight = 'bold')                                                                                                        #Set title for the plot\n",
        "plt.show()                                                                                                                                                               #Show the plot"
      ],
      "metadata": {
        "colab": {
          "base_uri": "https://localhost:8080/",
          "height": 295
        },
        "id": "DEVn0leWYvKJ",
        "outputId": "3f26e996-a057-47fb-b065-020a6dad7076"
      },
      "execution_count": 63,
      "outputs": [
        {
          "output_type": "display_data",
          "data": {
            "text/plain": [
              "<Figure size 432x288 with 1 Axes>"
            ],
            "image/png": "[encoded data removed]"
          },
          "metadata": {
            "needs_background": "light"
          }
        }
      ]
    },
    {
      "cell_type": "code",
      "source": [
        "from sklearn.metrics import r2_score"
      ],
      "metadata": {
        "id": "ZdkcggWVjLdY"
      },
      "execution_count": 64,
      "outputs": []
    },
    {
      "cell_type": "markdown",
      "source": [
        "Mean absolute error of predictions from actual value on training dataset"
      ],
      "metadata": {
        "id": "4OMkX-jAkFxR"
      }
    },
    {
      "cell_type": "code",
      "source": [
        "np.absolute((whole_preds - train[250 : len(train) - 2])*train_df['Close'].mean()).mean()"
      ],
      "metadata": {
        "colab": {
          "base_uri": "https://localhost:8080/"
        },
        "id": "8Bhv_OllZlwb",
        "outputId": "35e2d815-188f-4100-ed3d-52e83daaf3ec"
      },
      "execution_count": 65,
      "outputs": [
        {
          "output_type": "execute_result",
          "data": {
            "text/plain": [
              "0.6060413978088848"
            ]
          },
          "metadata": {},
          "execution_count": 65
        }
      ]
    },
    {
      "cell_type": "markdown",
      "source": [
        "r2 score of predictions on training dataset"
      ],
      "metadata": {
        "id": "dj_o66TJkRav"
      }
    },
    {
      "cell_type": "code",
      "source": [
        "r2_score(whole_preds, train[250 : len(train) - 2])"
      ],
      "metadata": {
        "colab": {
          "base_uri": "https://localhost:8080/"
        },
        "id": "Z05iEhQejiN_",
        "outputId": "da3970f1-a44c-4981-b13a-33c4de1eb292"
      },
      "execution_count": 66,
      "outputs": [
        {
          "output_type": "execute_result",
          "data": {
            "text/plain": [
              "0.9927122897245887"
            ]
          },
          "metadata": {},
          "execution_count": 66
        }
      ]
    },
    {
      "cell_type": "markdown",
      "source": [
        "Mean absolute error of predictions from actual value on testing dataset"
      ],
      "metadata": {
        "id": "fQ2gc8xgjz3Y"
      }
    },
    {
      "cell_type": "code",
      "source": [
        "np.absolute((whole_test_preds - test[250:len(test) - 6])*test_df['Close'].mean()).mean()"
      ],
      "metadata": {
        "colab": {
          "base_uri": "https://localhost:8080/"
        },
        "id": "Vh8QC3OAZX1h",
        "outputId": "afc1c1f5-552a-4886-c232-84dd91660a2a"
      },
      "execution_count": 67,
      "outputs": [
        {
          "output_type": "execute_result",
          "data": {
            "text/plain": [
              "0.8183100287882834"
            ]
          },
          "metadata": {},
          "execution_count": 67
        }
      ]
    },
    {
      "cell_type": "markdown",
      "source": [
        "r2 score of predictions on testing dataset"
      ],
      "metadata": {
        "id": "xaz-MtivkJg7"
      }
    },
    {
      "cell_type": "code",
      "source": [
        "r2_score(whole_test_preds, test[250:len(test) - 6])"
      ],
      "metadata": {
        "colab": {
          "base_uri": "https://localhost:8080/"
        },
        "id": "s1bwbvrkjXCH",
        "outputId": "93089dfb-9b00-423e-a2ea-7d4d58807662"
      },
      "execution_count": 68,
      "outputs": [
        {
          "output_type": "execute_result",
          "data": {
            "text/plain": [
              "0.8342856512604223"
            ]
          },
          "metadata": {},
          "execution_count": 68
        }
      ]
    }
  ],
  "metadata": {
    "colab": {
      "collapsed_sections": [],
      "name": "Untitled16.ipynb",
      "provenance": [],
      "authorship_tag": "ABX9TyNHCEwMUgL0uBh9JsSUMrPa"
    },
    "kernelspec": {
      "display_name": "Python 3",
      "name": "python3"
    },
    "language_info": {
      "name": "python"
    },
    "widgets": {
      "application/vnd.jupyter.widget-state+json": {
        "3119af73182744c6a8b33543d5c69b56": {
          "model_module": "@jupyter-widgets/controls",
          "model_name": "FileUploadModel",
          "model_module_version": "1.5.0",
          "state": {
            "_counter": 1,
            "_dom_classes": [],
            "_model_module": "@jupyter-widgets/controls",
            "_model_module_version": "1.5.0",
            "_model_name": "FileUploadModel",
            "_view_count": null,
            "_view_module": "@jupyter-widgets/controls",
            "_view_module_version": "1.5.0",
            "_view_name": "FileUploadView",
            "accept": "",
            "button_style": "",
            "data": [
              null
            ],
            "description": "Upload",
            "description_tooltip": null,
            "disabled": false,
            "error": "",
            "icon": "upload",
            "layout": "IPY_MODEL_fe9ba0d45f9d496d90098f1014aeccd9",
            "metadata": [
              {
                "name": "INR=X.csv",
                "type": "text/csv",
                "size": 303249,
                "lastModified": 1653574259045
              }
            ],
            "multiple": false,
            "style": "IPY_MODEL_b7362ef9dc7449b7a2e149a1f6dd486e"
          }
        },
        "fe9ba0d45f9d496d90098f1014aeccd9": {
          "model_module": "@jupyter-widgets/base",
          "model_name": "LayoutModel",
          "model_module_version": "1.2.0",
          "state": {
            "_model_module": "@jupyter-widgets/base",
            "_model_module_version": "1.2.0",
            "_model_name": "LayoutModel",
            "_view_count": null,
            "_view_module": "@jupyter-widgets/base",
            "_view_module_version": "1.2.0",
            "_view_name": "LayoutView",
            "align_content": null,
            "align_items": null,
            "align_self": null,
            "border": null,
            "bottom": null,
            "display": null,
            "flex": null,
            "flex_flow": null,
            "grid_area": null,
            "grid_auto_columns": null,
            "grid_auto_flow": null,
            "grid_auto_rows": null,
            "grid_column": null,
            "grid_gap": null,
            "grid_row": null,
            "grid_template_areas": null,
            "grid_template_columns": null,
            "grid_template_rows": null,
            "height": null,
            "justify_content": null,
            "justify_items": null,
            "left": null,
            "margin": null,
            "max_height": null,
            "max_width": null,
            "min_height": null,
            "min_width": null,
            "object_fit": null,
            "object_position": null,
            "order": null,
            "overflow": null,
            "overflow_x": null,
            "overflow_y": null,
            "padding": null,
            "right": null,
            "top": null,
            "visibility": null,
            "width": null
          }
        },
        "b7362ef9dc7449b7a2e149a1f6dd486e": {
          "model_module": "@jupyter-widgets/controls",
          "model_name": "ButtonStyleModel",
          "model_module_version": "1.5.0",
          "state": {
            "_model_module": "@jupyter-widgets/controls",
            "_model_module_version": "1.5.0",
            "_model_name": "ButtonStyleModel",
            "_view_count": null,
            "_view_module": "@jupyter-widgets/base",
            "_view_module_version": "1.2.0",
            "_view_name": "StyleView",
            "button_color": null,
            "font_weight": ""
          }
        }
      }
    }
  },
  "nbformat": 4,
  "nbformat_minor": 0
}