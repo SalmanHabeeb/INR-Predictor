{
  "nbformat": 4,
  "nbformat_minor": 0,
  "metadata": {
    "colab": {
      "name": "USD_to_INR_exchange_rate_predictor_git.ipynb",
      "provenance": [],
      "collapsed_sections": []
    },
    "kernelspec": {
      "name": "python3",
      "display_name": "Python 3"
    },
    "language_info": {
      "name": "python"
    }
  },
  "cells": [
    {
      "cell_type": "code",
      "execution_count": 1,
      "metadata": {
        "id": "jwZxaysiHoY8"
      },
      "outputs": [],
      "source": [
        "# !pip install q tensorflow==2.8.2\n",
        "# !pip install q keras==2.8.0\n",
        "# !pip install q numpy==1.21.6\n",
        "# !pip install q matplotlib==3.2.2\n",
        "# !pip install q pandas==1.3.5\n",
        "# !pip install q scipy==1.4.1\n",
        "# !pip install q sklearn==1.0.2"
      ]
    },
    {
      "cell_type": "markdown",
      "metadata": {
        "id": "xK3tOBsQJmpg"
      },
      "source": [
        "## Import necessary packages"
      ]
    },
    {
      "cell_type": "code",
      "execution_count": 2,
      "metadata": {
        "id": "MwvjvUYo-KgV"
      },
      "outputs": [],
      "source": [
        "import tensorflow as tf\n",
        "from keras.models import Sequential\n",
        "from keras.layers import Flatten, LSTM, Dense\n",
        "from keras.layers.embeddings import Embedding\n",
        "import numpy as np\n",
        "import pandas as pd\n",
        "import matplotlib.pyplot as plt\n",
        "import random\n",
        "from sklearn.metrics import r2_score\n",
        "from scipy.stats import linregress"
      ]
    },
    {
      "cell_type": "markdown",
      "metadata": {
        "id": "XPfLsNN57KNY"
      },
      "source": [
        "## Obtaining data"
      ]
    },
    {
      "cell_type": "markdown",
      "metadata": {
        "id": "0cO_c4UBDb30"
      },
      "source": [
        "Read the csv file from the github repository"
      ]
    },
    {
      "cell_type": "code",
      "execution_count": 3,
      "metadata": {
        "id": "WSUBC2bp7jOp"
      },
      "outputs": [],
      "source": [
        "df = pd.read_csv('https://raw.githubusercontent.com/SalmanHabeeb/INR-Predictor/main/INR=X.csv')"
      ]
    },
    {
      "cell_type": "markdown",
      "source": [
        "## Checking the dataset"
      ],
      "metadata": {
        "id": "Zps83dAXvFQ7"
      }
    },
    {
      "cell_type": "markdown",
      "source": [
        "Checking information regarding dataset"
      ],
      "metadata": {
        "id": "qvxrNksZvZsY"
      }
    },
    {
      "cell_type": "code",
      "source": [
        "print(df.info())"
      ],
      "metadata": {
        "colab": {
          "base_uri": "https://localhost:8080/"
        },
        "id": "Xdi_9jfQvZ-U",
        "outputId": "4c80cbba-a175-4320-e6ef-f4e4557cbe3c"
      },
      "execution_count": 4,
      "outputs": [
        {
          "output_type": "stream",
          "name": "stdout",
          "text": [
            "<class 'pandas.core.frame.DataFrame'>\n",
            "RangeIndex: 4824 entries, 0 to 4823\n",
            "Data columns (total 7 columns):\n",
            " #   Column     Non-Null Count  Dtype  \n",
            "---  ------     --------------  -----  \n",
            " 0   Date       4824 non-null   object \n",
            " 1   Open       4792 non-null   float64\n",
            " 2   High       4792 non-null   float64\n",
            " 3   Low        4792 non-null   float64\n",
            " 4   Close      4792 non-null   float64\n",
            " 5   Adj Close  4792 non-null   float64\n",
            " 6   Volume     4792 non-null   float64\n",
            "dtypes: float64(6), object(1)\n",
            "memory usage: 263.9+ KB\n",
            "None\n"
          ]
        }
      ]
    },
    {
      "cell_type": "markdown",
      "source": [
        "Checking various statistics of dataset"
      ],
      "metadata": {
        "id": "HPQcXIUOvMhX"
      }
    },
    {
      "cell_type": "code",
      "source": [
        "df.describe()"
      ],
      "metadata": {
        "colab": {
          "base_uri": "https://localhost:8080/",
          "height": 300
        },
        "id": "5ENHQl9zvE4Y",
        "outputId": "86ef6093-e5be-4e40-dc8c-d68faf29eefa"
      },
      "execution_count": 5,
      "outputs": [
        {
          "output_type": "execute_result",
          "data": {
            "text/plain": [
              "              Open         High          Low        Close    Adj Close  Volume\n",
              "count  4792.000000  4792.000000  4792.000000  4792.000000  4792.000000  4792.0\n",
              "mean     56.877448    57.080264    56.695116    56.878949    56.878949     0.0\n",
              "std      11.759593    11.791577    11.706153    11.773224    11.773224     0.0\n",
              "min      38.995998    39.235001    38.979000    39.044998    39.044998     0.0\n",
              "25%      45.356248    45.493749    45.268002    45.348749    45.348749     0.0\n",
              "50%      55.496500    55.723999    55.299999    55.498001    55.498001     0.0\n",
              "75%      67.136251    67.300753    66.919998    67.133003    67.133003     0.0\n",
              "max      77.820000    78.023804    77.498497    77.820000    77.820000     0.0"
            ],
            "text/html": [
              "\n",
              "  <div id=\"df-02972727-7042-4ce3-91c6-b2c476c06c84\">\n",
              "    <div class=\"colab-df-container\">\n",
              "      <div>\n",
              "<style scoped>\n",
              "    .dataframe tbody tr th:only-of-type {\n",
              "        vertical-align: middle;\n",
              "    }\n",
              "\n",
              "    .dataframe tbody tr th {\n",
              "        vertical-align: top;\n",
              "    }\n",
              "\n",
              "    .dataframe thead th {\n",
              "        text-align: right;\n",
              "    }\n",
              "</style>\n",
              "<table border=\"1\" class=\"dataframe\">\n",
              "  <thead>\n",
              "    <tr style=\"text-align: right;\">\n",
              "      <th></th>\n",
              "      <th>Open</th>\n",
              "      <th>High</th>\n",
              "      <th>Low</th>\n",
              "      <th>Close</th>\n",
              "      <th>Adj Close</th>\n",
              "      <th>Volume</th>\n",
              "    </tr>\n",
              "  </thead>\n",
              "  <tbody>\n",
              "    <tr>\n",
              "      <th>count</th>\n",
              "      <td>4792.000000</td>\n",
              "      <td>4792.000000</td>\n",
              "      <td>4792.000000</td>\n",
              "      <td>4792.000000</td>\n",
              "      <td>4792.000000</td>\n",
              "      <td>4792.0</td>\n",
              "    </tr>\n",
              "    <tr>\n",
              "      <th>mean</th>\n",
              "      <td>56.877448</td>\n",
              "      <td>57.080264</td>\n",
              "      <td>56.695116</td>\n",
              "      <td>56.878949</td>\n",
              "      <td>56.878949</td>\n",
              "      <td>0.0</td>\n",
              "    </tr>\n",
              "    <tr>\n",
              "      <th>std</th>\n",
              "      <td>11.759593</td>\n",
              "      <td>11.791577</td>\n",
              "      <td>11.706153</td>\n",
              "      <td>11.773224</td>\n",
              "      <td>11.773224</td>\n",
              "      <td>0.0</td>\n",
              "    </tr>\n",
              "    <tr>\n",
              "      <th>min</th>\n",
              "      <td>38.995998</td>\n",
              "      <td>39.235001</td>\n",
              "      <td>38.979000</td>\n",
              "      <td>39.044998</td>\n",
              "      <td>39.044998</td>\n",
              "      <td>0.0</td>\n",
              "    </tr>\n",
              "    <tr>\n",
              "      <th>25%</th>\n",
              "      <td>45.356248</td>\n",
              "      <td>45.493749</td>\n",
              "      <td>45.268002</td>\n",
              "      <td>45.348749</td>\n",
              "      <td>45.348749</td>\n",
              "      <td>0.0</td>\n",
              "    </tr>\n",
              "    <tr>\n",
              "      <th>50%</th>\n",
              "      <td>55.496500</td>\n",
              "      <td>55.723999</td>\n",
              "      <td>55.299999</td>\n",
              "      <td>55.498001</td>\n",
              "      <td>55.498001</td>\n",
              "      <td>0.0</td>\n",
              "    </tr>\n",
              "    <tr>\n",
              "      <th>75%</th>\n",
              "      <td>67.136251</td>\n",
              "      <td>67.300753</td>\n",
              "      <td>66.919998</td>\n",
              "      <td>67.133003</td>\n",
              "      <td>67.133003</td>\n",
              "      <td>0.0</td>\n",
              "    </tr>\n",
              "    <tr>\n",
              "      <th>max</th>\n",
              "      <td>77.820000</td>\n",
              "      <td>78.023804</td>\n",
              "      <td>77.498497</td>\n",
              "      <td>77.820000</td>\n",
              "      <td>77.820000</td>\n",
              "      <td>0.0</td>\n",
              "    </tr>\n",
              "  </tbody>\n",
              "</table>\n",
              "</div>\n",
              "      <button class=\"colab-df-convert\" onclick=\"convertToInteractive('df-02972727-7042-4ce3-91c6-b2c476c06c84')\"\n",
              "              title=\"Convert this dataframe to an interactive table.\"\n",
              "              style=\"display:none;\">\n",
              "        \n",
              "  <svg xmlns=\"http://www.w3.org/2000/svg\" height=\"24px\"viewBox=\"0 0 24 24\"\n",
              "       width=\"24px\">\n",
              "    <path d=\"M0 0h24v24H0V0z\" fill=\"none\"/>\n",
              "    <path d=\"M18.56 5.44l.94 2.06.94-2.06 2.06-.94-2.06-.94-.94-2.06-.94 2.06-2.06.94zm-11 1L8.5 8.5l.94-2.06 2.06-.94-2.06-.94L8.5 2.5l-.94 2.06-2.06.94zm10 10l.94 2.06.94-2.06 2.06-.94-2.06-.94-.94-2.06-.94 2.06-2.06.94z\"/><path d=\"M17.41 7.96l-1.37-1.37c-.4-.4-.92-.59-1.43-.59-.52 0-1.04.2-1.43.59L10.3 9.45l-7.72 7.72c-.78.78-.78 2.05 0 2.83L4 21.41c.39.39.9.59 1.41.59.51 0 1.02-.2 1.41-.59l7.78-7.78 2.81-2.81c.8-.78.8-2.07 0-2.86zM5.41 20L4 18.59l7.72-7.72 1.47 1.35L5.41 20z\"/>\n",
              "  </svg>\n",
              "      </button>\n",
              "      \n",
              "  <style>\n",
              "    .colab-df-container {\n",
              "      display:flex;\n",
              "      flex-wrap:wrap;\n",
              "      gap: 12px;\n",
              "    }\n",
              "\n",
              "    .colab-df-convert {\n",
              "      background-color: #E8F0FE;\n",
              "      border: none;\n",
              "      border-radius: 50%;\n",
              "      cursor: pointer;\n",
              "      display: none;\n",
              "      fill: #1967D2;\n",
              "      height: 32px;\n",
              "      padding: 0 0 0 0;\n",
              "      width: 32px;\n",
              "    }\n",
              "\n",
              "    .colab-df-convert:hover {\n",
              "      background-color: #E2EBFA;\n",
              "      box-shadow: 0px 1px 2px rgba(60, 64, 67, 0.3), 0px 1px 3px 1px rgba(60, 64, 67, 0.15);\n",
              "      fill: #174EA6;\n",
              "    }\n",
              "\n",
              "    [theme=dark] .colab-df-convert {\n",
              "      background-color: #3B4455;\n",
              "      fill: #D2E3FC;\n",
              "    }\n",
              "\n",
              "    [theme=dark] .colab-df-convert:hover {\n",
              "      background-color: #434B5C;\n",
              "      box-shadow: 0px 1px 3px 1px rgba(0, 0, 0, 0.15);\n",
              "      filter: drop-shadow(0px 1px 2px rgba(0, 0, 0, 0.3));\n",
              "      fill: #FFFFFF;\n",
              "    }\n",
              "  </style>\n",
              "\n",
              "      <script>\n",
              "        const buttonEl =\n",
              "          document.querySelector('#df-02972727-7042-4ce3-91c6-b2c476c06c84 button.colab-df-convert');\n",
              "        buttonEl.style.display =\n",
              "          google.colab.kernel.accessAllowed ? 'block' : 'none';\n",
              "\n",
              "        async function convertToInteractive(key) {\n",
              "          const element = document.querySelector('#df-02972727-7042-4ce3-91c6-b2c476c06c84');\n",
              "          const dataTable =\n",
              "            await google.colab.kernel.invokeFunction('convertToInteractive',\n",
              "                                                     [key], {});\n",
              "          if (!dataTable) return;\n",
              "\n",
              "          const docLinkHtml = 'Like what you see? Visit the ' +\n",
              "            '<a target=\"_blank\" href=https://colab.research.google.com/notebooks/data_table.ipynb>data table notebook</a>'\n",
              "            + ' to learn more about interactive tables.';\n",
              "          element.innerHTML = '';\n",
              "          dataTable['output_type'] = 'display_data';\n",
              "          await google.colab.output.renderOutput(dataTable, element);\n",
              "          const docLink = document.createElement('div');\n",
              "          docLink.innerHTML = docLinkHtml;\n",
              "          element.appendChild(docLink);\n",
              "        }\n",
              "      </script>\n",
              "    </div>\n",
              "  </div>\n",
              "  "
            ]
          },
          "metadata": {},
          "execution_count": 5
        }
      ]
    },
    {
      "cell_type": "markdown",
      "metadata": {
        "id": "b-hSk-SBDhwx"
      },
      "source": [
        "Sampling a roughly 0.1% of dataset"
      ]
    },
    {
      "cell_type": "code",
      "execution_count": 6,
      "metadata": {
        "colab": {
          "base_uri": "https://localhost:8080/",
          "height": 206
        },
        "id": "DDjIo0jGNEzU",
        "outputId": "c2d6364e-fffe-4c35-9c98-2b63c58ad1e1"
      },
      "outputs": [
        {
          "output_type": "execute_result",
          "data": {
            "text/plain": [
              "            Date       Open       High        Low      Close  Adj Close  \\\n",
              "1607  2010-01-27  45.848000  46.548000  45.848000  46.318001  46.318001   \n",
              "898   2007-05-10  40.619999  41.230000  40.608002  41.216000  41.216000   \n",
              "4078  2019-07-18  68.785896  69.012497  68.700302  68.786003  68.786003   \n",
              "77    2004-03-17  45.148998  45.186001  45.112999  45.171001  45.171001   \n",
              "1252  2008-09-17  46.827999  46.827999  46.060001  46.087002  46.087002   \n",
              "\n",
              "      Volume  \n",
              "1607     0.0  \n",
              "898      0.0  \n",
              "4078     0.0  \n",
              "77       0.0  \n",
              "1252     0.0  "
            ],
            "text/html": [
              "\n",
              "  <div id=\"df-516e499f-72eb-41af-9aeb-1d971914317a\">\n",
              "    <div class=\"colab-df-container\">\n",
              "      <div>\n",
              "<style scoped>\n",
              "    .dataframe tbody tr th:only-of-type {\n",
              "        vertical-align: middle;\n",
              "    }\n",
              "\n",
              "    .dataframe tbody tr th {\n",
              "        vertical-align: top;\n",
              "    }\n",
              "\n",
              "    .dataframe thead th {\n",
              "        text-align: right;\n",
              "    }\n",
              "</style>\n",
              "<table border=\"1\" class=\"dataframe\">\n",
              "  <thead>\n",
              "    <tr style=\"text-align: right;\">\n",
              "      <th></th>\n",
              "      <th>Date</th>\n",
              "      <th>Open</th>\n",
              "      <th>High</th>\n",
              "      <th>Low</th>\n",
              "      <th>Close</th>\n",
              "      <th>Adj Close</th>\n",
              "      <th>Volume</th>\n",
              "    </tr>\n",
              "  </thead>\n",
              "  <tbody>\n",
              "    <tr>\n",
              "      <th>1607</th>\n",
              "      <td>2010-01-27</td>\n",
              "      <td>45.848000</td>\n",
              "      <td>46.548000</td>\n",
              "      <td>45.848000</td>\n",
              "      <td>46.318001</td>\n",
              "      <td>46.318001</td>\n",
              "      <td>0.0</td>\n",
              "    </tr>\n",
              "    <tr>\n",
              "      <th>898</th>\n",
              "      <td>2007-05-10</td>\n",
              "      <td>40.619999</td>\n",
              "      <td>41.230000</td>\n",
              "      <td>40.608002</td>\n",
              "      <td>41.216000</td>\n",
              "      <td>41.216000</td>\n",
              "      <td>0.0</td>\n",
              "    </tr>\n",
              "    <tr>\n",
              "      <th>4078</th>\n",
              "      <td>2019-07-18</td>\n",
              "      <td>68.785896</td>\n",
              "      <td>69.012497</td>\n",
              "      <td>68.700302</td>\n",
              "      <td>68.786003</td>\n",
              "      <td>68.786003</td>\n",
              "      <td>0.0</td>\n",
              "    </tr>\n",
              "    <tr>\n",
              "      <th>77</th>\n",
              "      <td>2004-03-17</td>\n",
              "      <td>45.148998</td>\n",
              "      <td>45.186001</td>\n",
              "      <td>45.112999</td>\n",
              "      <td>45.171001</td>\n",
              "      <td>45.171001</td>\n",
              "      <td>0.0</td>\n",
              "    </tr>\n",
              "    <tr>\n",
              "      <th>1252</th>\n",
              "      <td>2008-09-17</td>\n",
              "      <td>46.827999</td>\n",
              "      <td>46.827999</td>\n",
              "      <td>46.060001</td>\n",
              "      <td>46.087002</td>\n",
              "      <td>46.087002</td>\n",
              "      <td>0.0</td>\n",
              "    </tr>\n",
              "  </tbody>\n",
              "</table>\n",
              "</div>\n",
              "      <button class=\"colab-df-convert\" onclick=\"convertToInteractive('df-516e499f-72eb-41af-9aeb-1d971914317a')\"\n",
              "              title=\"Convert this dataframe to an interactive table.\"\n",
              "              style=\"display:none;\">\n",
              "        \n",
              "  <svg xmlns=\"http://www.w3.org/2000/svg\" height=\"24px\"viewBox=\"0 0 24 24\"\n",
              "       width=\"24px\">\n",
              "    <path d=\"M0 0h24v24H0V0z\" fill=\"none\"/>\n",
              "    <path d=\"M18.56 5.44l.94 2.06.94-2.06 2.06-.94-2.06-.94-.94-2.06-.94 2.06-2.06.94zm-11 1L8.5 8.5l.94-2.06 2.06-.94-2.06-.94L8.5 2.5l-.94 2.06-2.06.94zm10 10l.94 2.06.94-2.06 2.06-.94-2.06-.94-.94-2.06-.94 2.06-2.06.94z\"/><path d=\"M17.41 7.96l-1.37-1.37c-.4-.4-.92-.59-1.43-.59-.52 0-1.04.2-1.43.59L10.3 9.45l-7.72 7.72c-.78.78-.78 2.05 0 2.83L4 21.41c.39.39.9.59 1.41.59.51 0 1.02-.2 1.41-.59l7.78-7.78 2.81-2.81c.8-.78.8-2.07 0-2.86zM5.41 20L4 18.59l7.72-7.72 1.47 1.35L5.41 20z\"/>\n",
              "  </svg>\n",
              "      </button>\n",
              "      \n",
              "  <style>\n",
              "    .colab-df-container {\n",
              "      display:flex;\n",
              "      flex-wrap:wrap;\n",
              "      gap: 12px;\n",
              "    }\n",
              "\n",
              "    .colab-df-convert {\n",
              "      background-color: #E8F0FE;\n",
              "      border: none;\n",
              "      border-radius: 50%;\n",
              "      cursor: pointer;\n",
              "      display: none;\n",
              "      fill: #1967D2;\n",
              "      height: 32px;\n",
              "      padding: 0 0 0 0;\n",
              "      width: 32px;\n",
              "    }\n",
              "\n",
              "    .colab-df-convert:hover {\n",
              "      background-color: #E2EBFA;\n",
              "      box-shadow: 0px 1px 2px rgba(60, 64, 67, 0.3), 0px 1px 3px 1px rgba(60, 64, 67, 0.15);\n",
              "      fill: #174EA6;\n",
              "    }\n",
              "\n",
              "    [theme=dark] .colab-df-convert {\n",
              "      background-color: #3B4455;\n",
              "      fill: #D2E3FC;\n",
              "    }\n",
              "\n",
              "    [theme=dark] .colab-df-convert:hover {\n",
              "      background-color: #434B5C;\n",
              "      box-shadow: 0px 1px 3px 1px rgba(0, 0, 0, 0.15);\n",
              "      filter: drop-shadow(0px 1px 2px rgba(0, 0, 0, 0.3));\n",
              "      fill: #FFFFFF;\n",
              "    }\n",
              "  </style>\n",
              "\n",
              "      <script>\n",
              "        const buttonEl =\n",
              "          document.querySelector('#df-516e499f-72eb-41af-9aeb-1d971914317a button.colab-df-convert');\n",
              "        buttonEl.style.display =\n",
              "          google.colab.kernel.accessAllowed ? 'block' : 'none';\n",
              "\n",
              "        async function convertToInteractive(key) {\n",
              "          const element = document.querySelector('#df-516e499f-72eb-41af-9aeb-1d971914317a');\n",
              "          const dataTable =\n",
              "            await google.colab.kernel.invokeFunction('convertToInteractive',\n",
              "                                                     [key], {});\n",
              "          if (!dataTable) return;\n",
              "\n",
              "          const docLinkHtml = 'Like what you see? Visit the ' +\n",
              "            '<a target=\"_blank\" href=https://colab.research.google.com/notebooks/data_table.ipynb>data table notebook</a>'\n",
              "            + ' to learn more about interactive tables.';\n",
              "          element.innerHTML = '';\n",
              "          dataTable['output_type'] = 'display_data';\n",
              "          await google.colab.output.renderOutput(dataTable, element);\n",
              "          const docLink = document.createElement('div');\n",
              "          docLink.innerHTML = docLinkHtml;\n",
              "          element.appendChild(docLink);\n",
              "        }\n",
              "      </script>\n",
              "    </div>\n",
              "  </div>\n",
              "  "
            ]
          },
          "metadata": {},
          "execution_count": 6
        }
      ],
      "source": [
        "df.sample(frac = 0.001)"
      ]
    },
    {
      "cell_type": "markdown",
      "metadata": {
        "id": "jOtac9VnP7Z-"
      },
      "source": [
        "## Data Cleaning"
      ]
    },
    {
      "cell_type": "markdown",
      "metadata": {
        "id": "467MR2mTlnGl"
      },
      "source": [
        "Finding the no. of missing rows.\n",
        "\n",
        "For approximately 18 years of data, we expect the dataset to have 18*365 rows, one for each day"
      ]
    },
    {
      "cell_type": "code",
      "execution_count": 7,
      "metadata": {
        "id": "IfFDMQjQk0o1"
      },
      "outputs": [],
      "source": [
        "expected_no_of_rows  = 18*365"
      ]
    },
    {
      "cell_type": "code",
      "execution_count": 8,
      "metadata": {
        "id": "CYgznL0ClDZ1"
      },
      "outputs": [],
      "source": [
        "actual_no_of_rows = df.shape[0]"
      ]
    },
    {
      "cell_type": "code",
      "execution_count": 9,
      "metadata": {
        "id": "JbyqpWcTlPqM"
      },
      "outputs": [],
      "source": [
        "missing_rows = expected_no_of_rows - actual_no_of_rows"
      ]
    },
    {
      "cell_type": "code",
      "execution_count": 10,
      "metadata": {
        "colab": {
          "base_uri": "https://localhost:8080/"
        },
        "id": "aQBXoz1NlY7k",
        "outputId": "03e6d0d6-8e53-4d8c-8e18-da245190aafd"
      },
      "outputs": [
        {
          "output_type": "execute_result",
          "data": {
            "text/plain": [
              "1746"
            ]
          },
          "metadata": {},
          "execution_count": 10
        }
      ],
      "source": [
        "missing_rows"
      ]
    },
    {
      "cell_type": "markdown",
      "source": [
        "However, the no. of missing rows is about 1700. This amounts to about 5 years of data missing in between.\n",
        "\n",
        "By manual inspection of data, we see that the missing rows occur as a 'bunch', i.e., months of continuous data is not present in dataset.\n",
        "\n",
        "That means we have continuous data with large discontinuities in between. These discontinuities shall occur as anomalies against a background of largely continuous data.\n",
        "\n",
        "So, we can ignore these missing rows."
      ],
      "metadata": {
        "id": "wZbpFuo8wBPQ"
      }
    },
    {
      "cell_type": "markdown",
      "metadata": {
        "id": "DDgVibUEDlUQ"
      },
      "source": [
        "Apart from missing rows, the data we have may also contain null values.\n",
        "\n",
        "Let's check the the no. of null values"
      ]
    },
    {
      "cell_type": "code",
      "execution_count": 11,
      "metadata": {
        "colab": {
          "base_uri": "https://localhost:8080/"
        },
        "id": "7FIIjowsPxm1",
        "outputId": "40f401ea-f964-4d9e-f080-75d8231815f2"
      },
      "outputs": [
        {
          "output_type": "execute_result",
          "data": {
            "text/plain": [
              "Date          0\n",
              "Open         32\n",
              "High         32\n",
              "Low          32\n",
              "Close        32\n",
              "Adj Close    32\n",
              "Volume       32\n",
              "dtype: int64"
            ]
          },
          "metadata": {},
          "execution_count": 11
        }
      ],
      "source": [
        "df.isna().sum()"
      ]
    },
    {
      "cell_type": "markdown",
      "metadata": {
        "id": "yhLLUbYVDpfZ"
      },
      "source": [
        "Since there are only 32 rows containing null values, we drop these rows."
      ]
    },
    {
      "cell_type": "code",
      "execution_count": 12,
      "metadata": {
        "id": "xR_l7cFtW82k"
      },
      "outputs": [],
      "source": [
        "df.dropna(inplace = True)"
      ]
    },
    {
      "cell_type": "markdown",
      "metadata": {
        "id": "oDdPRpiTaZZ0"
      },
      "source": [
        "## Making a baseline Linear Model"
      ]
    },
    {
      "cell_type": "code",
      "execution_count": 13,
      "metadata": {
        "colab": {
          "base_uri": "https://localhost:8080/",
          "height": 295
        },
        "id": "-Tvic072NGh9",
        "outputId": "a5001b3b-dc17-4154-c1d4-f788124cfdea"
      },
      "outputs": [
        {
          "output_type": "display_data",
          "data": {
            "text/plain": [
              "<Figure size 432x288 with 1 Axes>"
            ],
            "image/png": "[encoded data removed]"
          },
          "metadata": {
            "needs_background": "light"
          }
        }
      ],
      "source": [
        "plt.xlabel('Time (in days)')                                                                            #Set label for x-axis\n",
        "plt.ylabel('USD($) in INR')                                                                             #Set label for y-axis\n",
        "plt.plot([i for i in range(len(df['Close']))], df['Close'], color = 'g')                                #Plot  the exchange rate vs time graph\n",
        "plt.title(f'USD to INR exchange rate({df[\"Date\"][0]} to {df[\"Date\"][len(df)]})', fontweight = 'bold')   #Set title for the plot\n",
        "plt.show()                                                                                              #Show the plot"
      ]
    },
    {
      "cell_type": "markdown",
      "metadata": {
        "id": "Y90vSY6ID5wR"
      },
      "source": [
        "We expect each column among Open, Close, etc. to bear similar relationship with time. At present, we choose closing prices as our time series.\n",
        "\n",
        "Making linear model for the exchange rate."
      ]
    },
    {
      "cell_type": "code",
      "execution_count": 14,
      "metadata": {
        "id": "fejlDeQ5OM5M"
      },
      "outputs": [],
      "source": [
        "linear_model = linregress(df.index, df['Close'])"
      ]
    },
    {
      "cell_type": "markdown",
      "metadata": {
        "id": "DwYQB0vlEBoe"
      },
      "source": [
        "Below parameters define our linear model"
      ]
    },
    {
      "cell_type": "code",
      "execution_count": 15,
      "metadata": {
        "id": "GIm83MZtOo0F"
      },
      "outputs": [],
      "source": [
        "slope, intercept, rvalue, pvalue, stderr = linear_model"
      ]
    },
    {
      "cell_type": "markdown",
      "source": [
        "Predictions of a linear model"
      ],
      "metadata": {
        "id": "a8rTObXu00xj"
      }
    },
    {
      "cell_type": "code",
      "source": [
        "linear_preds = slope*df.index + intercept"
      ],
      "metadata": {
        "id": "fCR71lYX054K"
      },
      "execution_count": 16,
      "outputs": []
    },
    {
      "cell_type": "markdown",
      "metadata": {
        "id": "Z3uESUvSEUG3"
      },
      "source": [
        "Plotting the predicted values and actual values for comparision"
      ]
    },
    {
      "cell_type": "code",
      "execution_count": 17,
      "metadata": {
        "colab": {
          "base_uri": "https://localhost:8080/",
          "height": 279
        },
        "id": "S123n2eFOy47",
        "outputId": "dda56a72-7cde-4c2a-a3dc-23944084de50"
      },
      "outputs": [
        {
          "output_type": "display_data",
          "data": {
            "text/plain": [
              "<Figure size 432x288 with 1 Axes>"
            ],
            "image/png": "[encoded data removed]"
          },
          "metadata": {
            "needs_background": "light"
          }
        }
      ],
      "source": [
        "plt.xlabel('Time (in days)')                                                                            #Set label for x-axis \n",
        "plt.ylabel('Cost of US Dollar in Rupee')                                                                #Set label for y-axis\n",
        "plt.plot(df.index, df['Close'], label = 'Actual', color = 'g')                                          #Plot the actual exchange rate vs time graph\n",
        "#slope*df.index + intercept gives the predicted value for the day indicated by df.index\n",
        "plt.plot(df.index,  slope*df.index + intercept, label = 'Predicted', color = 'b')                       #Plot the predicted exchange rate vs time graph\n",
        "plt.legend()                                                                                            #Display legend bar\n",
        "plt.show()                                                                                              #Show the plot"
      ]
    },
    {
      "cell_type": "markdown",
      "metadata": {
        "id": "qvqnB6xbENN_"
      },
      "source": [
        "np.absolute(linear_preds - df['Close']).mean() calculates the absolute difference between predicted and actual values. The mean of these differences gives the average error in our predictions"
      ]
    },
    {
      "cell_type": "code",
      "execution_count": 18,
      "metadata": {
        "colab": {
          "base_uri": "https://localhost:8080/"
        },
        "id": "N5giDx-Ye2NK",
        "outputId": "6b722444-bf73-44dc-f056-425383867bab"
      },
      "outputs": [
        {
          "output_type": "stream",
          "name": "stdout",
          "text": [
            "Baseline absolute error : 2.9726678216515996\n"
          ]
        }
      ],
      "source": [
        "print(f\"Baseline absolute error : {np.absolute(linear_preds - df['Close']).mean()}\")"
      ]
    },
    {
      "cell_type": "markdown",
      "source": [
        "r-value for the predictions made by linear model"
      ],
      "metadata": {
        "id": "7SnBLDnP0ed9"
      }
    },
    {
      "cell_type": "code",
      "source": [
        "print(rvalue)"
      ],
      "metadata": {
        "colab": {
          "base_uri": "https://localhost:8080/"
        },
        "id": "g5_kOVlV0dGz",
        "outputId": "af231ed5-cb06-4a40-e1eb-6eecd72bcda6"
      },
      "execution_count": 19,
      "outputs": [
        {
          "output_type": "stream",
          "name": "stdout",
          "text": [
            "0.9484527277196032\n"
          ]
        }
      ]
    },
    {
      "cell_type": "markdown",
      "metadata": {
        "id": "0sJvD8wXa22F"
      },
      "source": [
        "## Preparing data for LSTM Model"
      ]
    },
    {
      "cell_type": "markdown",
      "metadata": {
        "id": "NQgG6alhC-8T"
      },
      "source": [
        "Splitting the dataset into training and testing sets"
      ]
    },
    {
      "cell_type": "code",
      "execution_count": 20,
      "metadata": {
        "id": "Ea8QlAF5SMaM"
      },
      "outputs": [],
      "source": [
        "train_df = df[:3500]\n",
        "test_df = df[3500:]"
      ]
    },
    {
      "cell_type": "markdown",
      "metadata": {
        "id": "iP_jCkwwEi7u"
      },
      "source": [
        "Define a function which splits our data into proper input and output time steps, which can suitably be fed to LSTM model"
      ]
    },
    {
      "cell_type": "code",
      "execution_count": 21,
      "metadata": {
        "id": "q-hQUbw9UBoe"
      },
      "outputs": [],
      "source": [
        "def split_sequence_LSTM(sequence, input_time_steps, output_time_steps = 1):\n",
        "    '''\n",
        "       Function takes a time-series, no. of time steps in input data, and no. of time steps in label data as input\n",
        "       It returns numpy arrays of LSTM input data and LSTM labels\n",
        "    '''\n",
        "    X, y = [], []                                                                               #Initialising the lists which will store the input and output time steps respectively.\n",
        "\n",
        "    for i in range(len(sequence)):\n",
        "        if i + input_time_steps + output_time_steps > len(sequence):                            #If no more data is available for output steps, break out of the loop.\n",
        "            break\n",
        "        X.append(sequence[i : i + input_time_steps])                                            #Appending a list of values which is an input sequence.\n",
        "        y.append(sequence[i + input_time_steps : i + input_time_steps + output_time_steps])     #Appending a list of values which is an output sequence.\n",
        "    \n",
        "    X = np.array(X)                                                                             #Converting the list of input sequences into 1D np array of sequences, i.e., a 2D np array.\n",
        "    X = X.reshape(X.shape[0], X.shape[1], 1)                                                    #Broadcasting 2D np array into 3D numpy array. This is only a requirement for LSTM and no change occurs to size of sequences of no. of sequences.\n",
        "\n",
        "    y = np.array(y)                                                                             #Converting the list of output sequences into 1D np array of sequences, i.e., a 2D np array.\n",
        "    \n",
        "    return X, y"
      ]
    },
    {
      "cell_type": "markdown",
      "metadata": {
        "id": "X4MhZA0KE1Bm"
      },
      "source": [
        "Converting pandas Dataframe column to numpy array, since keras models accept only numpy arrays, for the current version."
      ]
    },
    {
      "cell_type": "code",
      "execution_count": 22,
      "metadata": {
        "id": "7z6egsVcSy6-"
      },
      "outputs": [],
      "source": [
        "train = train_df['Close'].to_numpy()"
      ]
    },
    {
      "cell_type": "code",
      "execution_count": 23,
      "metadata": {
        "id": "0PAbpSL5ZMdN"
      },
      "outputs": [],
      "source": [
        "test = test_df['Close'].to_numpy()"
      ]
    },
    {
      "cell_type": "markdown",
      "metadata": {
        "id": "RfqIbeSIHloJ"
      },
      "source": [
        "Converting training values to between -1 and 1"
      ]
    },
    {
      "cell_type": "code",
      "execution_count": 24,
      "metadata": {
        "id": "CNj6W2-aH28k"
      },
      "outputs": [],
      "source": [
        "train = (train.mean() - train)/train.mean()"
      ]
    },
    {
      "cell_type": "markdown",
      "metadata": {
        "id": "QukmDGHYKxDb"
      },
      "source": [
        "Converting testing values to between -1 and 1"
      ]
    },
    {
      "cell_type": "code",
      "execution_count": 25,
      "metadata": {
        "id": "fW9v_vFuZXK1"
      },
      "outputs": [],
      "source": [
        "test = (test.mean() - test)/test.mean()"
      ]
    },
    {
      "cell_type": "markdown",
      "metadata": {
        "id": "f5WD37IpbGPK"
      },
      "source": [
        "## Single-step LSTM model -- Forecasting for a day"
      ]
    },
    {
      "cell_type": "code",
      "source": [
        "input_time_step_size = 175"
      ],
      "metadata": {
        "id": "hfcSre_e3MUU"
      },
      "execution_count": 26,
      "outputs": []
    },
    {
      "cell_type": "markdown",
      "metadata": {
        "id": "FwCsO3VzH6VW"
      },
      "source": [
        "Spliiting the training and testing dataset into input and target datasets"
      ]
    },
    {
      "cell_type": "code",
      "execution_count": 27,
      "metadata": {
        "id": "71mkjENuVEcV"
      },
      "outputs": [],
      "source": [
        "X_train, y_train = split_sequence_LSTM(train, input_time_step_size)"
      ]
    },
    {
      "cell_type": "code",
      "execution_count": 28,
      "metadata": {
        "id": "74hUiOdQZp3U"
      },
      "outputs": [],
      "source": [
        "X_test, y_test = split_sequence_LSTM(test, input_time_step_size)"
      ]
    },
    {
      "cell_type": "markdown",
      "metadata": {
        "id": "kaRKYKyFIMDW"
      },
      "source": [
        "Verifying the shape of input and target datasets"
      ]
    },
    {
      "cell_type": "code",
      "execution_count": 29,
      "metadata": {
        "colab": {
          "base_uri": "https://localhost:8080/"
        },
        "id": "pvtWbSlwVuJV",
        "outputId": "1e4cf469-7ec2-441a-a296-cf258e841c72"
      },
      "outputs": [
        {
          "output_type": "execute_result",
          "data": {
            "text/plain": [
              "((3325, 175, 1), (3325, 1), (1117, 175, 1), (1117, 1))"
            ]
          },
          "metadata": {},
          "execution_count": 29
        }
      ],
      "source": [
        "X_train.shape, y_train.shape, X_test.shape, y_test.shape"
      ]
    },
    {
      "cell_type": "code",
      "execution_count": 30,
      "metadata": {
        "colab": {
          "base_uri": "https://localhost:8080/"
        },
        "id": "iFuLKbTxQKmt",
        "outputId": "e3d0463a-3113-470e-f096-216186f0ce1a"
      },
      "outputs": [
        {
          "output_type": "stream",
          "name": "stdout",
          "text": [
            "Epoch 1/3\n",
            "104/104 [==============================] - 13s 109ms/step - loss: 0.0044 - mean_squared_error: 0.0044\n",
            "Epoch 2/3\n",
            "104/104 [==============================] - 13s 128ms/step - loss: 1.0522e-04 - mean_squared_error: 1.0522e-04\n",
            "Epoch 3/3\n",
            "104/104 [==============================] - 11s 104ms/step - loss: 9.8570e-05 - mean_squared_error: 9.8570e-05\n"
          ]
        },
        {
          "output_type": "execute_result",
          "data": {
            "text/plain": [
              "<keras.callbacks.History at 0x7f886a252810>"
            ]
          },
          "metadata": {},
          "execution_count": 30
        }
      ],
      "source": [
        "single_step_model = Sequential()                                                                               #Defining the model as Sequential\n",
        "single_step_model.add(LSTM(50, activation='relu', input_shape=(input_time_step_size, 1)))                      #Adding LSTM layer with 50 dimensions\n",
        "single_step_model.add(Dense(1))                                                                                #Adding a Dense layer, which gives out one value(i.e., the prediction)\n",
        "single_step_model.compile(loss = 'mean_squared_error', optimizer = 'adam', metrics = 'mean_squared_error')     #Compiling the model\n",
        "single_step_model.fit(X_train, y_train, epochs = 3)                                                            #Training the model on our input and target datasets"
      ]
    },
    {
      "cell_type": "markdown",
      "source": [
        "We didn't train for more epochs to avoid over-fitting"
      ],
      "metadata": {
        "id": "Dy6TVDqsBb4I"
      }
    },
    {
      "cell_type": "markdown",
      "metadata": {
        "id": "ONwKgiLgJzY3"
      },
      "source": [
        "Predicting values on the training input dataset. "
      ]
    },
    {
      "cell_type": "code",
      "execution_count": 31,
      "metadata": {
        "id": "-SJf3sLC7yXK"
      },
      "outputs": [],
      "source": [
        "train_preds = single_step_model.predict(X_train)"
      ]
    },
    {
      "cell_type": "markdown",
      "metadata": {
        "id": "p6k2s_m7J1jS"
      },
      "source": [
        "Comparing the predictions on training data and targets of training data using a plot"
      ]
    },
    {
      "cell_type": "code",
      "execution_count": 32,
      "metadata": {
        "colab": {
          "base_uri": "https://localhost:8080/",
          "height": 295
        },
        "id": "FI43Dc3UJ2a1",
        "outputId": "203dd107-e98c-4f74-85e9-48fd0cfe437a"
      },
      "outputs": [
        {
          "output_type": "display_data",
          "data": {
            "text/plain": [
              "<Figure size 432x288 with 1 Axes>"
            ],
            "image/png": "[encoded data removed]"
          },
          "metadata": {
            "needs_background": "light"
          }
        }
      ],
      "source": [
        "plt.xlabel('Time (in days)')                                                                                                         #Set label for x-axis\n",
        "plt.ylabel('Cost of US Dollar in Rupee')                                                                                             #Set label for y-axis\n",
        "#-(y_train*train_df['Close'].mean()) + train_df['Close'].mean() gives the value in range of y_train\n",
        "plt.plot([i for i in range(train_preds.shape[0])], -(y_train*train_df['Close'].mean()) + train_df['Close'].mean(), label = 'Actual', color = 'g')          #Plot the actual exchange rate vs time graph\n",
        "#-(train_preds*train_df['Close'].mean()) + train_df['Close'].mean() gives the predicted value in range of y_train\n",
        "plt.plot([i for i in range(train_preds.shape[0])], -(train_preds*train_df['Close'].mean()) + train_df['Close'].mean(), label = 'Predicted', color = 'b')   #Plot the predicted exchange rate vs time graph\n",
        "plt.legend()                                                                                                                         #Display legend box\n",
        "plt.title('Single-step LSTM on Training data', fontweight = 'bold')                                                                  #Set title for the plot\n",
        "plt.show()                                                                                                                           #Show the plot"
      ]
    },
    {
      "cell_type": "markdown",
      "source": [
        "It is clear from plot that the predictions are on right track. However, to validate the model, we have to check predictions on testing dataset as well."
      ],
      "metadata": {
        "id": "5VM1mWE695Q_"
      }
    },
    {
      "cell_type": "markdown",
      "metadata": {
        "id": "gD263-oaLJzi"
      },
      "source": [
        "Predicting values on the testing input dataset."
      ]
    },
    {
      "cell_type": "code",
      "execution_count": 33,
      "metadata": {
        "id": "DDteWGLZZlIF"
      },
      "outputs": [],
      "source": [
        "test_preds = single_step_model.predict(X_test)"
      ]
    },
    {
      "cell_type": "markdown",
      "metadata": {
        "id": "whVKQvSILaRr"
      },
      "source": [
        "Comparing the predictions on testing data and targets in testing data using a plot"
      ]
    },
    {
      "cell_type": "code",
      "execution_count": 34,
      "metadata": {
        "colab": {
          "base_uri": "https://localhost:8080/",
          "height": 295
        },
        "id": "gsR9-iY9Z4Nc",
        "outputId": "b66f3bf8-e0c9-4ffc-e857-ddab757e0f1b"
      },
      "outputs": [
        {
          "output_type": "display_data",
          "data": {
            "text/plain": [
              "<Figure size 432x288 with 1 Axes>"
            ],
            "image/png": "[encoded data removed]"
          },
          "metadata": {
            "needs_background": "light"
          }
        }
      ],
      "source": [
        "plt.xlabel('Time (in days)')                                                                                                                          #Set label for x-axis\n",
        "plt.ylabel('Cost of US Dollar in Rupee')                                                                                                              #Set label for y-axis\n",
        "#-(y_test*test_df['Close'].mean()) + test_df['Close'].mean() gives the value in range of y_test                \n",
        "plt.plot([i for i in range(y_test.shape[0])], -(y_test*test_df['Close'].mean()) + test_df['Close'].mean(), label = 'Actual', color = 'g')          #Plot the actual exchange rate vs time graph\n",
        "#-(preds*test_df['Close'].mean()) + test_df['Close'].mean() gives the predicted value in range of y_test\n",
        "plt.plot([i for i in range(test_preds.shape[0])], -(test_preds*test_df['Close'].mean()) + test_df['Close'].mean(), label = 'Predicted', color = 'b')   #Plot the predicted exchange rate vs time graph\n",
        "plt.legend()                                                                                                                                          #Display legend box\n",
        "plt.title('Single-step LSTM on Testing data', fontweight = 'bold')                                                                                    #Set title for the plot\n",
        "plt.show()                                                                                                                                            #Show the plot"
      ]
    },
    {
      "cell_type": "markdown",
      "source": [
        "The predictions on testing data are not good as they were for training data. This was expected since our model has not 'seen' the testing data before"
      ],
      "metadata": {
        "id": "2P4nNdvm-WbF"
      }
    },
    {
      "cell_type": "markdown",
      "metadata": {
        "id": "7eOZvMRQnD9Y"
      },
      "source": [
        "Mean absolute error on training dataset"
      ]
    },
    {
      "cell_type": "code",
      "execution_count": 35,
      "metadata": {
        "colab": {
          "base_uri": "https://localhost:8080/"
        },
        "id": "QTDLg0s8nIug",
        "outputId": "760b1807-5cee-48c3-d641-6dc6c5384474"
      },
      "outputs": [
        {
          "output_type": "stream",
          "name": "stdout",
          "text": [
            "Mean absolute error : 0.0069\n"
          ]
        }
      ],
      "source": [
        "print(f'Mean absolute error : {np.absolute(train_preds - y_train).mean():0.4f}')"
      ]
    },
    {
      "cell_type": "markdown",
      "source": [
        "r2 score on training dataset"
      ],
      "metadata": {
        "id": "nFHlhBE44LJc"
      }
    },
    {
      "cell_type": "code",
      "source": [
        "print(f'r2 score : {r2_score(train_preds, y_train):0.2f}')"
      ],
      "metadata": {
        "colab": {
          "base_uri": "https://localhost:8080/"
        },
        "id": "OLtuQ2yC4O2b",
        "outputId": "fe35a5c0-8b50-43c1-a6b7-279a259ffd54"
      },
      "execution_count": 36,
      "outputs": [
        {
          "output_type": "stream",
          "name": "stdout",
          "text": [
            "r2 score : 1.00\n"
          ]
        }
      ]
    },
    {
      "cell_type": "markdown",
      "metadata": {
        "id": "QblmEEzLnwWm"
      },
      "source": [
        "Mean absolute error on testing dataset"
      ]
    },
    {
      "cell_type": "code",
      "execution_count": 37,
      "metadata": {
        "colab": {
          "base_uri": "https://localhost:8080/"
        },
        "id": "c0KfVAdpc0Ks",
        "outputId": "c673c8b8-23e1-4fed-a9bb-a2e4b0211b69"
      },
      "outputs": [
        {
          "output_type": "stream",
          "name": "stdout",
          "text": [
            "Mean absolute error : 0.0056\n"
          ]
        }
      ],
      "source": [
        "print(f'Mean absolute error : {np.absolute(test_preds - y_test).mean():0.4f}')"
      ]
    },
    {
      "cell_type": "markdown",
      "source": [
        "r2 score on testing dataset"
      ],
      "metadata": {
        "id": "hD6HIXMS4gdk"
      }
    },
    {
      "cell_type": "code",
      "source": [
        "print(f'r2 score : {r2_score(test_preds, y_test):0.2f}')"
      ],
      "metadata": {
        "colab": {
          "base_uri": "https://localhost:8080/"
        },
        "id": "33hXuK5g4gdm",
        "outputId": "3e716888-1d1b-46f5-d711-6771dd83891a"
      },
      "execution_count": 38,
      "outputs": [
        {
          "output_type": "stream",
          "name": "stdout",
          "text": [
            "r2 score : 0.97\n"
          ]
        }
      ]
    },
    {
      "cell_type": "markdown",
      "metadata": {
        "id": "sLbsK2IRTZr1"
      },
      "source": [
        "## Multi-step LSTM Model -- Forecasting for a week"
      ]
    },
    {
      "cell_type": "markdown",
      "metadata": {
        "id": "1GvEFNgLMIAF"
      },
      "source": [
        "Spliiting the training dataset into input and target datasets"
      ]
    },
    {
      "cell_type": "code",
      "execution_count": 39,
      "metadata": {
        "id": "_CG84rpuc5BC"
      },
      "outputs": [],
      "source": [
        "X_train, y_train = split_sequence_LSTM(train, 250, 7)"
      ]
    },
    {
      "cell_type": "markdown",
      "metadata": {
        "id": "Kql5bPXYMNal"
      },
      "source": [
        "Verify the shape of input and target datasets"
      ]
    },
    {
      "cell_type": "code",
      "execution_count": 40,
      "metadata": {
        "colab": {
          "base_uri": "https://localhost:8080/"
        },
        "id": "De1nThXOTJ95",
        "outputId": "1dfaf759-a692-4574-c3a3-07f1e962669f"
      },
      "outputs": [
        {
          "output_type": "execute_result",
          "data": {
            "text/plain": [
              "((3244, 250, 1), (3244, 7))"
            ]
          },
          "metadata": {},
          "execution_count": 40
        }
      ],
      "source": [
        "X_train.shape, y_train.shape"
      ]
    },
    {
      "cell_type": "markdown",
      "metadata": {
        "id": "IKypbjQW5sEV"
      },
      "source": [
        "Spliiting the testing dataset into input and target datasets"
      ]
    },
    {
      "cell_type": "code",
      "execution_count": 41,
      "metadata": {
        "id": "oVpmWxjo5sEW"
      },
      "outputs": [],
      "source": [
        "X_test, y_test = split_sequence_LSTM(test, 250, 7)"
      ]
    },
    {
      "cell_type": "markdown",
      "metadata": {
        "id": "C-FyIzi95sEX"
      },
      "source": [
        "Verify the shape of input and target datasets"
      ]
    },
    {
      "cell_type": "code",
      "execution_count": 42,
      "metadata": {
        "colab": {
          "base_uri": "https://localhost:8080/"
        },
        "outputId": "0c579c66-401d-4af9-8336-a35c1e1621ab",
        "id": "0nCj_1685sEY"
      },
      "outputs": [
        {
          "output_type": "execute_result",
          "data": {
            "text/plain": [
              "((1036, 250, 1), (1036, 7))"
            ]
          },
          "metadata": {},
          "execution_count": 42
        }
      ],
      "source": [
        "X_test.shape, y_test.shape"
      ]
    },
    {
      "cell_type": "markdown",
      "metadata": {
        "id": "ItxfalYCMWwV"
      },
      "source": [
        "Define a custom optimizer function with learning_rate = 1.0 (not 0.1), epsilon = 0.1 (not 1e-8), clipnorm = 1.0 (not None),"
      ]
    },
    {
      "cell_type": "code",
      "execution_count": 43,
      "metadata": {
        "id": "iBouN5qJ9dm1"
      },
      "outputs": [],
      "source": [
        "opt = tf.keras.optimizers.Adam(learning_rate = 1.0, beta_1 = 0.9, beta_2 = 0.999, epsilon = 0.1, decay = 0.0, clipnorm = 1.0)"
      ]
    },
    {
      "cell_type": "markdown",
      "metadata": {
        "id": "9VX6vlnuM_9b"
      },
      "source": [
        "Making a multi-step LSTM model."
      ]
    },
    {
      "cell_type": "code",
      "execution_count": 63,
      "metadata": {
        "id": "_I5KDb0KhKVg",
        "colab": {
          "base_uri": "https://localhost:8080/"
        },
        "outputId": "2c3bfa9f-bc35-443f-f6a1-68fcc7ac4bb4"
      },
      "outputs": [
        {
          "output_type": "stream",
          "name": "stdout",
          "text": [
            "Epoch 1/3\n",
            "102/102 [==============================] - 25s 217ms/step - loss: 0.0030 - mean_squared_error: 0.0030\n",
            "Epoch 2/3\n",
            "102/102 [==============================] - 21s 202ms/step - loss: 1.5871e-04 - mean_squared_error: 1.5871e-04\n",
            "Epoch 3/3\n",
            "102/102 [==============================] - 21s 202ms/step - loss: 1.5148e-04 - mean_squared_error: 1.5148e-04\n"
          ]
        },
        {
          "output_type": "execute_result",
          "data": {
            "text/plain": [
              "<keras.callbacks.History at 0x7f8865dc3f10>"
            ]
          },
          "metadata": {},
          "execution_count": 63
        }
      ],
      "source": [
        "multi_step_model = Sequential()                                                                               #Defining the model as Sequential\n",
        "multi_step_model.add(LSTM(128, activation='relu', input_shape=(250, 1)))                                      #Adding LSTM layer with 128 dimensions\n",
        "multi_step_model.add(Dense(7))                                                                                #Adding a Dense layer, which gives out 7 values(the predictions)\n",
        "multi_step_model.compile(loss = 'mean_squared_error', optimizer = opt, metrics = 'mean_squared_error')        #Compiling the model\n",
        "multi_step_model.fit(X_train, y_train, epochs = 3)                                                            #Training the model on our input and target datasets"
      ]
    },
    {
      "cell_type": "markdown",
      "source": [
        "Again, we didn't train on more epochs because of dangers of over-fitting"
      ],
      "metadata": {
        "id": "3TLa25SPBQQV"
      }
    },
    {
      "cell_type": "markdown",
      "metadata": {
        "id": "K-LnMr-GNUat"
      },
      "source": [
        "Predicting values on the training input dataset."
      ]
    },
    {
      "cell_type": "code",
      "execution_count": 64,
      "metadata": {
        "id": "tjILIbtKjYdf"
      },
      "outputs": [],
      "source": [
        "train_preds = multi_step_model.predict(X_train)"
      ]
    },
    {
      "cell_type": "markdown",
      "metadata": {
        "id": "gIVbdDoEN3Kj"
      },
      "source": [
        "Verifying the shape of prediction dataset"
      ]
    },
    {
      "cell_type": "code",
      "execution_count": 65,
      "metadata": {
        "colab": {
          "base_uri": "https://localhost:8080/"
        },
        "id": "fMr5YKAoTRa3",
        "outputId": "7405b679-87fb-4e50-9f3b-08f6e2fba169"
      },
      "outputs": [
        {
          "output_type": "execute_result",
          "data": {
            "text/plain": [
              "(3244, 7)"
            ]
          },
          "metadata": {},
          "execution_count": 65
        }
      ],
      "source": [
        "train_preds.shape"
      ]
    },
    {
      "cell_type": "markdown",
      "metadata": {
        "id": "4Pu9Ok_aPohf"
      },
      "source": [
        "Comparing the predictions on training data and targets in training data using a plot for a randomly selected week"
      ]
    },
    {
      "cell_type": "code",
      "execution_count": 66,
      "metadata": {
        "colab": {
          "base_uri": "https://localhost:8080/",
          "height": 295
        },
        "id": "dGmCJZnBjtIP",
        "outputId": "16217ee6-4d04-4684-c6ef-6b52df2bbcbd"
      },
      "outputs": [
        {
          "output_type": "display_data",
          "data": {
            "text/plain": [
              "<Figure size 432x288 with 1 Axes>"
            ],
            "image/png": "[encoded data removed]"
          },
          "metadata": {
            "needs_background": "light"
          }
        }
      ],
      "source": [
        "random_number = random.randint(0, train_preds.shape[0])                                                                                                     #Generating a random number from the total range\n",
        "plt.xlabel('Time (in days)')                                                                                                                          #Set label for x-axis\n",
        "plt.ylabel('Cost of US Dollar in Rupee')                                                                                                              #Set label for y-axis\n",
        "#-(y_train[random_number]*train_df['Close'].mean()) + train_df['Close'].mean() gives the value in range of y_train \n",
        "plt.plot([i for i in range(7)], (y_train[random_number]*train_df['Close'].mean()) + train_df['Close'].mean(), label = 'Actual', color = 'g')          #Plot the actual exchange rate vs time graph\n",
        "#-(train_preds[random_number]*train_df['Close'].mean()) + train_df['Close'].mean() gives the value in range of y_train \n",
        "plt.plot([i for i in range(7)], (train_preds[random_number]*train_df['Close'].mean()) + train_df['Close'].mean(), label = 'Predicted', color = 'b')         #Plot the predicted exchange rate vs time graph\n",
        "plt.xlim([0,6])                                                                                                                                       #Set x limit to plot\n",
        "plt.ylim([((y_train[random_number]*train_df['Close'].mean()) + train_df['Close'].mean()).min() - 5, ((y_train[random_number]*train_df['Close'].mean()) + train_df['Close'].mean()).max() + 5])   #Set y limit to plot\n",
        "plt.legend()                                                                                                                                          #Display legend box\n",
        "plt.title('Week forecast on training data', fontweight = 'bold')                                                                                      #Set title for the plot\n",
        "plt.show()                                                                                                                                            #Show the plot"
      ]
    },
    {
      "cell_type": "markdown",
      "source": [
        "Predicted data is a close match to the actual data"
      ],
      "metadata": {
        "id": "zqzuQ7u0-tqL"
      }
    },
    {
      "cell_type": "markdown",
      "metadata": {
        "id": "IYacE6G_gxkX"
      },
      "source": [
        "Now, we select sequences from predicted data such that each week is covered fully and no data point is redundant"
      ]
    },
    {
      "cell_type": "code",
      "execution_count": 67,
      "metadata": {
        "id": "TOv_s_5LVVQp"
      },
      "outputs": [],
      "source": [
        "whole_train_preds = np.array([train_preds[i] for i in range(0, train_preds.shape[0], 7)], dtype = 'object')"
      ]
    },
    {
      "cell_type": "markdown",
      "metadata": {
        "id": "0m_MZvCchSNP"
      },
      "source": [
        "Converting the week sequences into a flat array"
      ]
    },
    {
      "cell_type": "code",
      "execution_count": 68,
      "metadata": {
        "id": "h2JB_QS9VxIi"
      },
      "outputs": [],
      "source": [
        "whole_train_preds = whole_train_preds.reshape(whole_train_preds.shape[0]*7)"
      ]
    },
    {
      "cell_type": "markdown",
      "metadata": {
        "id": "tMKRXpfGhbqV"
      },
      "source": [
        "Some of the data points are missed in the process, which is reflected by difference in sizes of the datasets"
      ]
    },
    {
      "cell_type": "code",
      "execution_count": 69,
      "metadata": {
        "colab": {
          "base_uri": "https://localhost:8080/"
        },
        "id": "pRS_AhQAg09A",
        "outputId": "083c1bcf-9213-4cab-a072-78e5c628ba3b"
      },
      "outputs": [
        {
          "output_type": "execute_result",
          "data": {
            "text/plain": [
              "(3248, 3500)"
            ]
          },
          "metadata": {},
          "execution_count": 69
        }
      ],
      "source": [
        "len(whole_train_preds), len(train)"
      ]
    },
    {
      "cell_type": "markdown",
      "metadata": {
        "id": "vmNNofeMT2AN"
      },
      "source": [
        "Comparing the predictions on training data and targets in training data using a plot"
      ]
    },
    {
      "cell_type": "code",
      "execution_count": 70,
      "metadata": {
        "colab": {
          "base_uri": "https://localhost:8080/",
          "height": 295
        },
        "id": "b488mwadWipt",
        "outputId": "1d64139c-1f08-41c1-e520-7fafb4ef69f4"
      },
      "outputs": [
        {
          "output_type": "display_data",
          "data": {
            "text/plain": [
              "<Figure size 432x288 with 1 Axes>"
            ],
            "image/png": "[encoded data removed]"
          },
          "metadata": {
            "needs_background": "light"
          }
        }
      ],
      "source": [
        "plt.xlabel('Time (in days)')                                                                                                                                              #Set label for x-axis\n",
        "plt.ylabel('Dollar in INR')                                                                                                                                               #Set label for y-axis\n",
        "#(-1)*(train*train_df['Close'].mean()) + train_df['Close'].mean() gives the value in range of train_df['Close']\n",
        "plt.plot([i for i in range(len(whole_train_preds))], ((-1)*train[250:len(whole_train_preds) + 250]*train_df['Close'].mean()) + train_df['Close'].mean(), label = 'Actual', color = 'g')   #Plot the actual exchange rate vs time graph\n",
        "#(-1)*(whole_train_preds*train_df['Close'].mean()) + train_df['Close'].mean() gives the value in range of train_df['Close']\n",
        "plt.plot([i for i in range(len(whole_train_preds))], ((-1)*whole_train_preds*train_df['Close'].mean()) + train_df['Close'].mean(), label = 'Predicted', color = 'b')                  #Plot the predicted exchange rate vs time graph\n",
        "plt.xlim([0, len(whole_train_preds)])                                                                                                                                           #Set x limit to plot\n",
        "plt.legend()                                                                                                                                                              #Display legend box       \n",
        "plt.title('Multi-step LSTM on Training data', fontweight = 'bold')                                                                                                        #Set title for the plot\n",
        "plt.show()                                                                                                                                                                #Show the plot"
      ]
    },
    {
      "cell_type": "markdown",
      "source": [
        "Overall, our model is making right predictions on the training dataset, as seen in the plot.\n",
        "\n",
        "Now, let's turn for testing dataset."
      ],
      "metadata": {
        "id": "QjqpjO6n_Ilz"
      }
    },
    {
      "cell_type": "markdown",
      "metadata": {
        "id": "qaBjGZCDggG4"
      },
      "source": [
        "Predicting values on the testing input dataset."
      ]
    },
    {
      "cell_type": "code",
      "execution_count": 71,
      "metadata": {
        "id": "gVyDAMaFX_Bq"
      },
      "outputs": [],
      "source": [
        "test_preds = multi_step_model.predict(X_test)"
      ]
    },
    {
      "cell_type": "markdown",
      "metadata": {
        "id": "QOuGLc1rggG4"
      },
      "source": [
        "Verifying the shape of prediction dataset"
      ]
    },
    {
      "cell_type": "code",
      "execution_count": 72,
      "metadata": {
        "id": "1LejM2rZYlO0",
        "colab": {
          "base_uri": "https://localhost:8080/"
        },
        "outputId": "a5ab0e6d-2e36-4cd8-e5ad-32352086bb1a"
      },
      "outputs": [
        {
          "output_type": "execute_result",
          "data": {
            "text/plain": [
              "(1036, 7)"
            ]
          },
          "metadata": {},
          "execution_count": 72
        }
      ],
      "source": [
        "test_preds.shape"
      ]
    },
    {
      "cell_type": "markdown",
      "metadata": {
        "id": "jwLV3p7mggG4"
      },
      "source": [
        "Comparing the predictions on training data and targets in training data using a plot for a randomly selected week"
      ]
    },
    {
      "cell_type": "code",
      "execution_count": 73,
      "metadata": {
        "id": "bKB9tf4cYOPz",
        "colab": {
          "base_uri": "https://localhost:8080/",
          "height": 295
        },
        "outputId": "ecfba26c-0ff9-45a1-dabb-01265b1559de"
      },
      "outputs": [
        {
          "output_type": "display_data",
          "data": {
            "text/plain": [
              "<Figure size 432x288 with 1 Axes>"
            ],
            "image/png": "[encoded data removed]"
          },
          "metadata": {
            "needs_background": "light"
          }
        }
      ],
      "source": [
        "random_number = random.randint(0, test_preds.shape[0])                                                                                                     #Generating a random number from the total range\n",
        "plt.xlabel('Time (in days)')                                                                                                                               #Set label for x-axis\n",
        "plt.ylabel('Cost of US Dollar in Rupee')                                                                                                                   #Set label for y-axis\n",
        "#(-1)*(y_test[random_number]*test_df['Close'].mean()) + test_df['Close'].mean() gives the value in range of test_df['Close']\n",
        "plt.plot([i for i in range(7)], (-1)*(y_test[random_number]*test_df['Close'].mean()) + test_df['Close'].mean(), label = 'Actual', color = 'g')             #Plot the actual exchange rate vs time graph\n",
        "#(-1)*(test_preds[random_number-1]*test_df['Close'].mean()) + test_df['Close'].mean() gives the value in range of test_df['Close']\n",
        "plt.plot([i for i in range(7)], (-1)*(test_preds[random_number-1]*test_df['Close'].mean()) + test_df['Close'].mean(), label = 'Predicted', color = 'b')    #Plot the predicted exchange rate vs time graph\n",
        "plt.xlim([0,6])                                                                                                                                            #Set x limit to plot\n",
        "plt.ylim([((y_test[random_number]*test_df['Close'].mean()) + test_df['Close'].mean()).min() - 3, ((y_test[random_number]*test_df['Close'].mean()) + test_df['Close'].mean()).max() + 3])   #Set y limit to plot\n",
        "plt.legend()                                                                                                                                               #Display legend box\n",
        "plt.title('Week forecast on testing data', fontweight = 'bold')                                                                                            #Set title for the plot\n",
        "plt.show()                                                                                                                                                 #Show the plot"
      ]
    },
    {
      "cell_type": "markdown",
      "source": [
        "The predictions for week in case of testing dataset are not good. But before making any conclusions, let's check the entire predicitons."
      ],
      "metadata": {
        "id": "QivHTYE6_fPV"
      }
    },
    {
      "cell_type": "markdown",
      "metadata": {
        "id": "9YCr1kImiZJb"
      },
      "source": [
        "Now, we select sequences from predicted data such that each week is covered fully and no data point is redundant"
      ]
    },
    {
      "cell_type": "code",
      "execution_count": 74,
      "metadata": {
        "id": "4eWoQkvYYc_K"
      },
      "outputs": [],
      "source": [
        "whole_test_preds = np.array([test_preds[i] for i in range(0, test_preds.shape[0], 7)], dtype = 'object')"
      ]
    },
    {
      "cell_type": "markdown",
      "metadata": {
        "id": "LIcmQgVoiZJq"
      },
      "source": [
        "Converting the week sequences into a flat array"
      ]
    },
    {
      "cell_type": "code",
      "execution_count": 75,
      "metadata": {
        "id": "vi7lcgLmZAkL"
      },
      "outputs": [],
      "source": [
        "whole_test_preds = whole_test_preds.reshape(whole_test_preds.shape[0]*7)"
      ]
    },
    {
      "cell_type": "markdown",
      "metadata": {
        "id": "ohCWRWyZiZJq"
      },
      "source": [
        "Some of the data points are missed in the process, which is reflected by difference in sizes of the datasets"
      ]
    },
    {
      "cell_type": "code",
      "execution_count": 76,
      "metadata": {
        "id": "OImp0F1kiw43",
        "colab": {
          "base_uri": "https://localhost:8080/"
        },
        "outputId": "789b4fa2-8fe8-4d85-858e-7ee2ce93bddf"
      },
      "outputs": [
        {
          "output_type": "execute_result",
          "data": {
            "text/plain": [
              "((1036,), (1292,))"
            ]
          },
          "metadata": {},
          "execution_count": 76
        }
      ],
      "source": [
        "whole_test_preds.shape, test.shape"
      ]
    },
    {
      "cell_type": "markdown",
      "metadata": {
        "id": "y6ifB3rpggG5"
      },
      "source": [
        "Comparing the predictions on training data and targets in training data using a plot"
      ]
    },
    {
      "cell_type": "code",
      "execution_count": 77,
      "metadata": {
        "id": "DEVn0leWYvKJ",
        "colab": {
          "base_uri": "https://localhost:8080/",
          "height": 295
        },
        "outputId": "15896b58-3747-4301-8502-fb0e465871aa"
      },
      "outputs": [
        {
          "output_type": "display_data",
          "data": {
            "text/plain": [
              "<Figure size 432x288 with 1 Axes>"
            ],
            "image/png": "[encoded data removed]"
          },
          "metadata": {
            "needs_background": "light"
          }
        }
      ],
      "source": [
        "plt.xlabel('Time (in days)')                                                                                                                                             #Set label for x-axis\n",
        "plt.ylabel('Dollar in INR')                                                                                                                                              #Set label for y-axis\n",
        "#((-1)*test[250:len(whole_test_preds)]*test_df['Close'].mean()) + test_df['Close'].mean() gives the value in range of test_df['Close']\n",
        "plt.plot([i for i in range(len(whole_test_preds))], ((-1)*test[250:len(whole_test_preds) + 250]*test_df['Close'].mean()) + test_df['Close'].mean(), label = 'Actual', color = 'g')     #Plot the actual exchange rate vs time graph\n",
        "#((-1)*whole_test_preds*test_df['Close'].mean()) + test_df['Close'].mean() gives the value in range of test_df['Close']\n",
        "plt.plot([i for i in range(len(whole_test_preds))], ((-1)*whole_test_preds*test_df['Close'].mean()) + test_df['Close'].mean(), label = 'Predicted', color = 'b')         #Plot the predicted exchange rate vs time graph\n",
        "plt.xlim([0, len(test) - 250])                                                                                                                                           #Set x limit to plot\n",
        "plt.ylim([60, 80])                                                                                                                                                       #Set y limit to plot\n",
        "plt.legend()                                                                                                                                                             #Display legend box\n",
        "plt.title('Multi-step LSTM on Testing data', fontweight = 'bold')                                                                                                        #Set title for the plot\n",
        "plt.show()                                                                                                                                                               #Show the plot"
      ]
    },
    {
      "cell_type": "markdown",
      "source": [
        "Model is not doing well on testing dataset, as we see it. We need to do some quantitative measurements to arrive at conclusion."
      ],
      "metadata": {
        "id": "h-iA7Xy9__BN"
      }
    },
    {
      "cell_type": "markdown",
      "metadata": {
        "id": "4OMkX-jAkFxR"
      },
      "source": [
        "Mean absolute error of predictions from actual value on training dataset"
      ]
    },
    {
      "cell_type": "code",
      "execution_count": 78,
      "metadata": {
        "id": "8Bhv_OllZlwb",
        "colab": {
          "base_uri": "https://localhost:8080/"
        },
        "outputId": "ac4afc71-6a3e-4ec9-e38a-aab31b842679"
      },
      "outputs": [
        {
          "output_type": "stream",
          "name": "stdout",
          "text": [
            "Mean absolute error : 0.42\n"
          ]
        }
      ],
      "source": [
        "print(f\"Mean absolute error : {np.absolute((whole_train_preds - train[250 : len(train) - 2])*train_df['Close'].mean()).mean():0.2f}\")"
      ]
    },
    {
      "cell_type": "markdown",
      "metadata": {
        "id": "dj_o66TJkRav"
      },
      "source": [
        "r2 score of predictions on training dataset"
      ]
    },
    {
      "cell_type": "code",
      "execution_count": 79,
      "metadata": {
        "id": "Z05iEhQejiN_",
        "colab": {
          "base_uri": "https://localhost:8080/"
        },
        "outputId": "83517d9f-f58d-42b9-816c-c4f9a60b3e90"
      },
      "outputs": [
        {
          "output_type": "stream",
          "name": "stdout",
          "text": [
            "r2 score : 1.00\n"
          ]
        }
      ],
      "source": [
        "print(f\"r2 score : {r2_score(whole_train_preds, train[250 : len(train) - 2]):0.2f}\")"
      ]
    },
    {
      "cell_type": "markdown",
      "metadata": {
        "id": "fQ2gc8xgjz3Y"
      },
      "source": [
        "Mean absolute error of predictions from actual value on testing dataset"
      ]
    },
    {
      "cell_type": "code",
      "execution_count": 80,
      "metadata": {
        "id": "Vh8QC3OAZX1h",
        "colab": {
          "base_uri": "https://localhost:8080/"
        },
        "outputId": "ec079d95-93ed-41a0-e92f-4de1f9c10b68"
      },
      "outputs": [
        {
          "output_type": "stream",
          "name": "stdout",
          "text": [
            "Mean absolute error : 0.52\n"
          ]
        }
      ],
      "source": [
        "print(f\"Mean absolute error : {np.absolute((whole_test_preds - test[250:len(test) - 6])*test_df['Close'].mean()).mean():0.2f}\")"
      ]
    },
    {
      "cell_type": "markdown",
      "metadata": {
        "id": "xaz-MtivkJg7"
      },
      "source": [
        "r2 score of predictions on testing dataset"
      ]
    },
    {
      "cell_type": "code",
      "execution_count": 81,
      "metadata": {
        "id": "s1bwbvrkjXCH",
        "colab": {
          "base_uri": "https://localhost:8080/"
        },
        "outputId": "134bd18c-9b67-4d10-97d0-9e431169d193"
      },
      "outputs": [
        {
          "output_type": "stream",
          "name": "stdout",
          "text": [
            "r2 score : 0.92\n"
          ]
        }
      ],
      "source": [
        "print(f\"r2 score : {r2_score(whole_test_preds, test[250:len(test) - 6]):0.2f}\")"
      ]
    },
    {
      "cell_type": "markdown",
      "source": [
        "Although the model is not doing well on testing dataset as compared to training dataset, it is good enough for now.\n",
        "\n",
        "The r2 score of 0.92 on testing dataset is actually good. The mean absolute error is about 0.52, which is not bad.\n",
        "\n",
        "So although on the graph it seems to deviate from actual values, deviations are quite small.\n",
        "\n",
        "Hence, our model is overall a good one."
      ],
      "metadata": {
        "id": "6lR4v7s3ASTY"
      }
    }
  ]
}